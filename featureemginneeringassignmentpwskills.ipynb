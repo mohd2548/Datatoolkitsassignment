{
  "nbformat": 4,
  "nbformat_minor": 0,
  "metadata": {
    "colab": {
      "provenance": [],
      "authorship_tag": "ABX9TyOLjNDwnPDKmQrQWp2d/DOH",
      "include_colab_link": true
    },
    "kernelspec": {
      "name": "python3",
      "display_name": "Python 3"
    },
    "language_info": {
      "name": "python"
    }
  },
  "cells": [
    {
      "cell_type": "markdown",
      "metadata": {
        "id": "view-in-github",
        "colab_type": "text"
      },
      "source": [
        "<a href=\"https://colab.research.google.com/github/mohd2548/Datatoolkitsassignment/blob/main/featureemginneeringassignmentpwskills.ipynb\" target=\"_parent\"><img src=\"https://colab.research.google.com/assets/colab-badge.svg\" alt=\"Open In Colab\"/></a>"
      ]
    },
    {
      "cell_type": "markdown",
      "source": [
        "# Q.1.What is a parameter?\n",
        "- In general terms, a parameter is a value that defines a system or sets conditions for a particular process. The exact meaning of \"parameter\" depends on the context in which it is used. Below are a few key contexts where the term \"parameter\" is commonly used:\n",
        "\n",
        "# 1. In Statistics and Mathematics:\n",
        " Parameter refers to a characteristic or feature of a population or distribution\n",
        "\n",
        " For example:\n",
        "In a normal distribution, the parameters might be the mean (μ) and standard deviation (σ). These parameters define the shape and spread of the distribution.\n",
        "In statistical models, parameters are values (e.g., coefficients in regression models) that influence the model's behavior or predictions.\n",
        "\n",
        "# 2. In Programming (Functions):\n",
        " A parameter is a variable that is defined in the function or method signature and receives values when the function is called.\n",
        "\n",
        "Formal parameter: A placeholder for the actual value (argument) that will be passed to the function.\n",
        "\n",
        "def add(a,b):\n",
        "  return a + b\n",
        "result = add(2,3)\n",
        "print(result)\n",
        "\n",
        "# In this example, a and b are parameters of the add function.\n",
        "\n",
        "# 3. In Machine Learning:\n",
        "A parameter refers to the internal variables of a model that are learned from the data during training. For example:\n",
        "In a linear regression model, the slope and intercept are parameters.\n",
        "In neural networks, the weights and biases of the network are parameters.\n",
        "\n"
      ],
      "metadata": {
        "id": "jDqFhLCkhiTZ"
      }
    },
    {
      "cell_type": "markdown",
      "source": [
        "# Q.2  What is correlation?\n",
        "\n",
        "## What does negative correlation mean?"
      ],
      "metadata": {
        "id": "rQYfrYl-i2cg"
      }
    },
    {
      "cell_type": "markdown",
      "source": [
        "# Lets understand through an example.\n",
        "Let's say you are studying the relationship between hours studied and exam scores.\n",
        "\n",
        "- If you calculate the correlation and find a value of 0.85, this indicates a strong positive correlation—meaning that as the number of hours studied increases, exam scores tend to increase as well.\n",
        "- If you find a correlation of -0.75, it indicates a strong negative correlation—meaning that as one variable increases, the other decreases.\n",
        "- A correlation of 0 would suggest that there is no predictable relationship between the two variables.\n",
        "\n",
        "Python Example (Calculating Correlation):"
      ],
      "metadata": {
        "id": "tG9qwQ92kGRn"
      }
    },
    {
      "cell_type": "code",
      "source": [
        "import numpy as np\n",
        "x = [10, 20, 30, 40, 50]\n",
        "y = [20, 40, 60, 80, 100]\n",
        "correlation = np.corrcoef(x, y)[0, 1]\n",
        "print(f\"Correlation coefficient: {correlation}\")\n",
        "# indicating a perfect positive linear relationship b/w x and y"
      ],
      "metadata": {
        "colab": {
          "base_uri": "https://localhost:8080/"
        },
        "id": "GuYgbNMmk6al",
        "outputId": "c991a64e-ef77-45da-b8a9-1753d3d5c932"
      },
      "execution_count": 7,
      "outputs": [
        {
          "output_type": "stream",
          "name": "stdout",
          "text": [
            "Correlation coefficient: 1.0\n"
          ]
        }
      ]
    },
    {
      "cell_type": "markdown",
      "source": [
        "Correlation is a fundamental concept in statistics and data analysis that helps us understand how variables are related to each other. It is important to understand that correlation quantifies the strength and direction of a relationship, but it does not imply causation."
      ],
      "metadata": {
        "id": "wXjiMXz4ld2e"
      }
    },
    {
      "cell_type": "markdown",
      "source": [
        "What does negative correlation mean?"
      ],
      "metadata": {
        "id": "vty2L7KjltmP"
      }
    },
    {
      "cell_type": "markdown",
      "source": [
        "A negative correlation between two variables means that as one variable increases, the other decreases, and vice versa. In other words, the two variables move in opposite directions."
      ],
      "metadata": {
        "id": "Yf0ZCSbymHeI"
      }
    },
    {
      "cell_type": "code",
      "source": [
        "import numpy as np\n",
        "import matplotlib.pyplot as plt\n",
        "\n",
        "x = [1, 2, 3, 4, 5]\n",
        "y = [100, 90, 80, 70, 60]\n",
        "\n",
        "correlation = np.corrcoef(x, y)[0, 1]\n",
        "print(f\"Correlation coefficient: {correlation}\")\n",
        "\n",
        "plt.scatter(x, y)\n",
        "plt.title(\"Negative Correlation\")\n",
        "plt.xlabel(\"Hours Studied\")\n",
        "plt.ylabel(\"Score\")\n",
        "plt.show()\n",
        "# In this case, the correlation coefficient would be negative,\n",
        "# showing that as x (hours studied) increases, y (score) decreases."
      ],
      "metadata": {
        "colab": {
          "base_uri": "https://localhost:8080/",
          "height": 489
        },
        "id": "oBUQba3wmSqw",
        "outputId": "41a722fe-94fc-44f5-d169-94f9318ff276"
      },
      "execution_count": 9,
      "outputs": [
        {
          "output_type": "stream",
          "name": "stdout",
          "text": [
            "Correlation coefficient: -1.0\n"
          ]
        },
        {
          "output_type": "display_data",
          "data": {
            "text/plain": [
              "<Figure size 640x480 with 1 Axes>"
            ],
            "image/png": "[encoded data removed]"
          },
          "metadata": {}
        }
      ]
    },
    {
      "cell_type": "markdown",
      "source": [
        "A negative correlation means that two variables move in opposite directions. As one variable increases, the other tends to decrease. The strength of the negative correlation is quantified by the correlation coefficient, with values close to -1 indicating a strong negative relationship."
      ],
      "metadata": {
        "id": "ij7jnf4omXOG"
      }
    },
    {
      "cell_type": "markdown",
      "source": [
        "# Q.3 Define Machine Learning. What are the main components in Machine Learning?"
      ],
      "metadata": {
        "id": "wMd8koczmksw"
      }
    },
    {
      "cell_type": "markdown",
      "source": [
        "Machine Learning (ML) is a subset of artificial intelligence (AI) that enables computers and systems to automatically learn from data, improve their performance over time, and make decisions or predictions without being explicitly programmed."
      ],
      "metadata": {
        "id": "BS8MdwNAmvl3"
      }
    },
    {
      "cell_type": "markdown",
      "source": [
        "## Main Components of Machine Learning\n",
        "There are several key components in a typical machine learning system. These components work together to enable learning from data and making informed predictions or decisions. Below are the main components:\n",
        "\n",
        "Data:\n",
        "\n",
        "- Training Data:\n",
        "\n",
        " The primary input for any machine learning model. It consists of examples that help the model learn the underlying patterns or relationships between input features and output labels. The quality and quantity of data significantly influence the performance of the model.\n",
        "\n",
        "- Test Data:\n",
        "\n",
        "  This data is used to evaluate the model's performance after it has been trained. It should be separate from the training data to ensure unbiased evaluation.\n",
        "\n",
        "- Features:\n",
        "\n",
        "  The individual variables or inputs used by the model to make predictions. These are the different aspects of the data that the model learns from (e.g., height, weight, age in a health prediction model).\n",
        "  Model:\n",
        "\n",
        "The model is the mathematical representation of the patterns in the data. It is a function or algorithm that takes inputs (features) and processes them to predict or classify an outcome (target variable).\n",
        "\n",
        "Different machine learning algorithms are used to build models, such as:\n",
        "- Supervised Learning:\n",
        "\n",
        "   Models are trained using labeled data (e.g., classification or regression problems).\n",
        "\n",
        "- Unsupervised Learning:\n",
        "\n",
        "  Models are trained using unlabeled data, focusing on finding patterns (e.g., clustering).\n",
        "- Reinforcement Learning:\n",
        "\n",
        "   The model learns by interacting with an environment, receiving rewards or penalties for actions.\n",
        "\n",
        "\n",
        "Algorithm:\n",
        "\n",
        "The algorithm is the procedure or set of rules followed by the machine learning model to learn from the data. It is responsible for processing the training data and adjusting the model's parameters to minimize error.\n",
        "\n",
        "\n",
        "===>   Common algorithms include:\n",
        "\n",
        "- Linear Regression (for regression tasks)\n",
        "- Decision Trees (for classification and regression)\n",
        "- Neural Networks (for complex problems like image or speech recognition)\n",
        "- K-Means (for clustering)\n",
        "- Support Vector Machines (SVM)\n",
        "- Loss Function (Cost Function):\n",
        "\n",
        "The loss function measures the difference between the model's predictions and the actual target values in the training data. The goal of most machine learning algorithms is to minimize the loss function during training. For example, in regression, the Mean Squared Error (MSE) is a common loss function.\n",
        "\n",
        "\n",
        "\n",
        "- Common loss functions include:\n",
        "\n",
        "  Mean Squared Error (MSE) for regression Cross-Entropy Loss for classification\n",
        "\n",
        "     - Optimization:\n",
        "\n",
        "            Optimization refers to the process of adjusting the parameters of the model to minimize the loss function. The most common optimization technique is gradient descent, where the model's parameters are iteratively adjusted based on the gradients (slopes) of the loss function.\n",
        "\n",
        "\n",
        "  - Evaluation Metrics:\n",
        "\n",
        "           After training the model, it is essential to evaluate its performance using evaluation metrics. These metrics help in assessing how well the model generalizes to unseen data (i.e., how well it predicts or classifies).\n",
        "\n",
        "\n",
        "\n",
        "Common evaluation metrics include:\n",
        "\n",
        "\n",
        "- Accuracy (for classification problems)\n",
        "- Precision, Recall, F1-Score (for classification problems)\n",
        "- Mean Squared Error (MSE) (for regression problems)\n",
        "- Area Under the ROC Curve (AUC)\n",
        "\n",
        "\n",
        "\n",
        "     - Training and Testing:\n",
        "\n",
        " - Training:\n",
        "\n",
        "   The process of teaching the machine learning model to recognize patterns by adjusting its parameters based on the training data.\n",
        "\n",
        " - Testing:\n",
        "\n",
        "  The process of evaluating the model's performance on unseen data (test set) to determine how well it generalizes.\n",
        "\n",
        "\n",
        "  - Hyperparameters:\n",
        "\n",
        "    Hyperparameters are the settings or configurations that are set before the model training begins. These are parameters that control the training process and affect how well the model performs, such as the learning rate, number of trees in a random forest, or the number of layers in a neural network.\n",
        "\n",
        "\n",
        "  - Hyperparameter tuning (e.g., using grid search or random search) is the process of selecting the optimal hyperparameters for a model.\n",
        "\n",
        "\n",
        "- Example of Components in a Machine Learning Task:\n",
        "\n",
        "\n",
        "- Problem: Predict house prices based on features like the number of rooms, square footage, and location.\n",
        "\n",
        "Data:\n",
        "\n",
        "- Training data:\n",
        "\n",
        "      A dataset with features (e.g., square footage, number of rooms) and target values (house prices).\n",
        "\n",
        "\n",
        "- Test data:\n",
        "\n",
        "      A separate dataset to test the model's accuracy in predicting house prices.\n",
        "\n",
        "\n",
        "Model:\n",
        "\n",
        "A linear regression model that learns the relationship between the features and house prices.\n",
        "\n",
        "\n",
        "\n",
        "Algorithm:\n",
        "\n",
        "The algorithm used could be linear regression, which will calculate the coefficients that best fit the data.\n",
        "\n",
        "\n",
        "Loss Function:\n",
        "\n",
        "Mean Squared Error (MSE) is the loss function used to minimize the difference between predicted and actual house prices.\n",
        "\n",
        "\n",
        "Optimization:\n",
        "\n",
        "The model uses gradient descent to optimize the parameters (coefficients) of the regression model.\n",
        "\n",
        "\n",
        "Evaluation:\n",
        "\n",
        "After training the model, you evaluate its performance using the Mean Squared Error (MSE) on the test dataset.\n",
        "\n",
        "\n",
        "Hyperparameters:\n",
        "\n",
        "Hyperparameters might include the learning rate for gradient descent."
      ],
      "metadata": {
        "id": "ekPDFERAnIYG"
      }
    },
    {
      "cell_type": "markdown",
      "source": [
        "# Q.4 How does loss value help in determining whether the model is good or not?"
      ],
      "metadata": {
        "id": "i4a1pRWkpnm9"
      }
    },
    {
      "cell_type": "markdown",
      "source": [
        "The loss value plays a crucial role in determining whether a machine learning model is performing well or not. It measures how well the model's predictions align with the actual values in the training or test data. Specifically, the loss function quantifies the difference between the predicted output of the model and the actual target (ground truth) values. By evaluating the loss, we can assess how far off the model's predictions are from the expected outcomes."
      ],
      "metadata": {
        "id": "_0Roc63Lq7wF"
      }
    },
    {
      "cell_type": "markdown",
      "source": [
        "Key Points About Loss Value:\n",
        "\n",
        "\n",
        "1. Loss Function:\n",
        "\n",
        "- A loss function (also called a cost function) is used to calculate the difference between predicted values and actual values. For example:\n",
        " - Mean Squared Error (MSE) is commonly used for regression tasks.\n",
        " - Cross-Entropy Loss is commonly used for classification tasks.\n",
        "\n",
        "The loss function outputs a numerical value that reflects the \"error\" in the model's predictions. Lower values of the loss indicate better model performance, as the predictions are closer to the actual values."
      ],
      "metadata": {
        "id": "f-ubeTycrJQ7"
      }
    },
    {
      "cell_type": "markdown",
      "source": [
        "How Loss Value Helps in Model Evaluation:\n",
        "\n",
        "- The magnitude of the loss value helps us understand how well or poorly the model is performing:\n",
        "\n",
        " - High Loss Value: Indicates that the model's predictions are far from the actual values, which suggests poor model performance.\n",
        "    - Low Loss Value: Indicates that the model's predictions are close to the actual values, suggesting that the model is performing well.\n",
        "\n",
        "The loss value itself provides insight into the overall accuracy or quality of the model's predictions, but it does not directly measure other aspects such as bias or variance.\n",
        "\n",
        "\n",
        "\n",
        "Training vs. Testing Loss:\n",
        "\n",
        "- During model training, the training loss is calculated based on how well the model is fitting the training data. A model with a high training loss indicates poor performance on the training set.\n",
        "- After the model is trained, the test loss is evaluated using a separate test dataset. This helps assess the model's ability to generalize to unseen data:\n",
        "   - If the test loss is high, the model may be overfitting to the training data and might not perform well on new data.\n",
        "   - If the test loss is low, it suggests that the model is likely able to generalize well to unseen data.\n",
        "\n",
        "\n",
        "\n",
        "Improving the Model:\n",
        "\n",
        "- Minimizing the Loss: The primary objective of most machine learning algorithms is to minimize the loss value by adjusting the model's parameters (e.g., weights and biases). This is done during training using optimization techniques like gradient descent.\n",
        "\n",
        "- A decreasing loss indicates that the model is improving with each iteration, learning to make more accurate predictions.\n",
        "\n",
        "- On the other hand, if the loss starts to increase or stagnate after a certain point, it could mean that the model has reached a point of diminishing returns, or there may be issues like overfitting or underfitting.\n",
        "\n",
        "\n",
        "\n",
        "\n",
        "Loss Value for Model Comparison:\n",
        "\n",
        "- Comparing Models: When comparing multiple models or algorithms, the loss value can help determine which model is better. The model with the lowest loss is generally considered the best-performing model, assuming it also generalizes well to unseen data.\n"
      ],
      "metadata": {
        "id": "q5fCBEjqrj9q"
      }
    },
    {
      "cell_type": "markdown",
      "source": [
        "  # Q.5  What are continuous and categorical variables?"
      ],
      "metadata": {
        "id": "GRN7MUC0sZVC"
      }
    },
    {
      "cell_type": "markdown",
      "source": [
        "Continuous Variables:\n",
        "\n",
        "- Continuous variables are variables that can take on an infinite number of values within a given range. These variables are measurable and can be expressed as any value, including fractions or decimals. The values of continuous variables are typically derived from measurements and can represent things like quantities, amounts, or dimensions.\n",
        "\n",
        "Characteristics of Continuous Variables:\n",
        "\n",
        "- Can take any value within a range or interval (e.g., 0.1, 0.01, 3.7, 200).\n",
        "- Can have an infinite number of possible values.\n",
        "- Often measured rather than counted.\n",
        "- Represented on a scale with a meaningful order, and they can be subject to mathematical operations like addition, subtraction, and averaging.\n",
        "\n",
        "\n",
        "\n",
        "Examples of Continuous Variables:\n",
        "\n",
        "- Height (e.g., 5.4 feet, 5.55 feet, 5.555 feet)\n",
        "- Weight (e.g., 150.5 lbs, 180.25 lbs)\n",
        "- Temperature (e.g., 72.5°F, 100.3°F)\n",
        "- Time (e.g., 3.4 seconds, 9.25 hours)\n",
        "- Income (e.g., $45,000.75, $100,000.00)\n",
        "\n",
        "\n",
        "Categorical Variables:\n",
        "\n",
        "\n",
        "- Categorical variables are variables that represent categories or groups and are typically used to classify data. These variables have distinct categories that represent different groups, but the categories have no inherent numerical value or order. Categorical variables are also known as qualitative variables.\n",
        "\n",
        "Characteristics of Categorical Variables:\n",
        "\n",
        "\n",
        "- Represent categories or labels (e.g., colors, names, types).\n",
        "\n",
        "- Do not have a meaningful numerical value or order (nominal or ordinal).\n",
        "\n",
        "- Can be divided into two types:\n",
        "  - Nominal: Categories with no intrinsic order (e.g., color, gender, nationality).\n",
        "\n",
        "  - Ordinal: Categories with a meaningful order or ranking (e.g., education level, customer satisfaction).\n",
        "\n",
        "\n",
        "Examples of Categorical Variables:\n",
        "\n",
        "\n",
        "- Gender (e.g., Male, Female, Non-binary)\n",
        "- Marital Status (e.g., Single, Married, Divorced)\n",
        "- Blood Type (e.g., A, B, AB, O)\n",
        "- Education Level (e.g., High School, Undergraduate, Graduate) – This is ordinal because the levels have a meaningful order.\n",
        "\n",
        "\n",
        "  - Favorite Color (e.g., Red, Blue, Green) – This is nominal because there is no inherent ranking of colors.\n",
        "\n",
        "\n",
        "\n",
        "\n",
        "Summary:\n",
        "- Continuous variables deal with measurements and can take any value within a range. They are used for numerical analysis.\n",
        "\n",
        "- Categorical variables deal with classification into distinct groups or categories. They are typically used to represent qualitative data and often serve as factors in statistical models."
      ],
      "metadata": {
        "id": "46rYTdIlskBS"
      }
    },
    {
      "cell_type": "markdown",
      "source": [
        "# Q.6  How do we handle categorical variables in Machine Learning? What are the common t echniques?"
      ],
      "metadata": {
        "id": "VRUuwwvttwvB"
      }
    },
    {
      "cell_type": "markdown",
      "source": [
        "Handling categorical variables is a crucial part of preprocessing data for machine learning, as most machine learning algorithms expect numerical inputs. Categorical variables represent categories or classes, and they need to be transformed into a format that machine learning models can understand."
      ],
      "metadata": {
        "id": "NPhL-s3Tt9sy"
      }
    },
    {
      "cell_type": "markdown",
      "source": [
        "## Label Encoding\n",
        " -  Label encoding transforms each category of a categorical variable into a unique integer. Each category is assigned a number (starting from 0 or 1) based on its alphabetical order or order of appearance in the dataset.\n",
        "\n",
        " Example:\n",
        "  \n",
        " \"Red\" → 0\n",
        "\"Green\" → 1\n",
        "\"Blue\" → 2"
      ],
      "metadata": {
        "id": "Jps5KPZD9Wpd"
      }
    },
    {
      "cell_type": "code",
      "source": [
        "from sklearn.preprocessing import LabelEncoder\n",
        "\n",
        "colors = [\"Red\", \"Green\", \"Blue\", \"Green\", \"Red\"]\n",
        "label_encoder = LabelEncoder()\n",
        "encoded_colors = label_encoder.fit_transform(colors)\n",
        "print(encoded_colors)"
      ],
      "metadata": {
        "colab": {
          "base_uri": "https://localhost:8080/"
        },
        "id": "lt_psz0a9xBq",
        "outputId": "e85fa5b6-bcdf-45c5-b2d3-00b978754987"
      },
      "execution_count": 11,
      "outputs": [
        {
          "output_type": "stream",
          "name": "stdout",
          "text": [
            "[2 1 0 1 2]\n"
          ]
        }
      ]
    },
    {
      "cell_type": "markdown",
      "source": [
        "## 2. One-Hot Encoding\n",
        "\n",
        "  - One-hot encoding is a technique that creates a new binary feature for each category of the original categorical variable. If there are\n",
        "𝑘\n",
        "k categories in a variable, one-hot encoding will generate\n",
        "𝑘\n",
        "k new binary columns, where each column represents the presence (1) or absence (0) of a category.\n",
        "\n",
        "\n",
        "\n",
        "Example:\n",
        "\n",
        "For a feature like \"Color\" with categories \"Red\", \"Green\", and \"Blue\", one-hot encoding would result in three new columns:\n",
        "\n",
        "\"Red\" → [1, 0, 0]\n",
        "\"Green\" → [0, 1, 0]\n",
        "\"Blue\" → [0, 0, 1]\n"
      ],
      "metadata": {
        "id": "inrGnheZ95L7"
      }
    },
    {
      "cell_type": "code",
      "source": [
        "import pandas as pd\n",
        "colors = [\"Red\", \"Green\", \"Blue\", \"Green\", \"Red\"]\n",
        "\n",
        "df = pd.DataFrame({\"Color\": colors})\n",
        "one_hot_encoded = pd.get_dummies(df[\"Color\"])\n",
        "\n",
        "print(one_hot_encoded)"
      ],
      "metadata": {
        "colab": {
          "base_uri": "https://localhost:8080/"
        },
        "id": "ZWzHnCBq-Mqp",
        "outputId": "785a4db0-db87-480f-99ef-5b3fc64ab1d0"
      },
      "execution_count": 13,
      "outputs": [
        {
          "output_type": "stream",
          "name": "stdout",
          "text": [
            "    Blue  Green    Red\n",
            "0  False  False   True\n",
            "1  False   True  False\n",
            "2   True  False  False\n",
            "3  False   True  False\n",
            "4  False  False   True\n"
          ]
        }
      ]
    },
    {
      "cell_type": "markdown",
      "source": [
        "## Binary Encoding\n",
        "-  Binary encoding is a compromise between label encoding and one-hot encoding. It works by converting the integer labels into binary numbers, and then splitting each binary digit into separate columns. This is especially useful when there are many categories in a feature.\n",
        "\n",
        "Example:\n",
        "\n",
        "For a feature with 8 categories (e.g., 0, 1, 2, ..., 7), binary encoding will convert each integer into binary:\n",
        "\n",
        "0 → 000\n",
        "1 → 001\n",
        "2 → 010\n",
        "3 → 011\n",
        "4 → 100\n",
        "5 → 101\n",
        "6 → 110\n",
        "7 → 111\n",
        "\n",
        "\n"
      ],
      "metadata": {
        "id": "ft3w5Z6g-SNC"
      }
    },
    {
      "cell_type": "code",
      "source": [
        "pip install category_encoders"
      ],
      "metadata": {
        "colab": {
          "base_uri": "https://localhost:8080/"
        },
        "id": "5jGXz3Yh_lrj",
        "outputId": "77a35b67-7bbc-457f-9234-74893e12f2f8"
      },
      "execution_count": 18,
      "outputs": [
        {
          "output_type": "stream",
          "name": "stdout",
          "text": [
            "Requirement already satisfied: category_encoders in /usr/local/lib/python3.10/dist-packages (2.6.4)\n",
            "Requirement already satisfied: numpy>=1.14.0 in /usr/local/lib/python3.10/dist-packages (from category_encoders) (1.26.4)\n",
            "Requirement already satisfied: scikit-learn>=0.20.0 in /usr/local/lib/python3.10/dist-packages (from category_encoders) (1.6.0)\n",
            "Requirement already satisfied: scipy>=1.0.0 in /usr/local/lib/python3.10/dist-packages (from category_encoders) (1.13.1)\n",
            "Requirement already satisfied: statsmodels>=0.9.0 in /usr/local/lib/python3.10/dist-packages (from category_encoders) (0.14.4)\n",
            "Requirement already satisfied: pandas>=1.0.5 in /usr/local/lib/python3.10/dist-packages (from category_encoders) (2.2.2)\n",
            "Requirement already satisfied: patsy>=0.5.1 in /usr/local/lib/python3.10/dist-packages (from category_encoders) (1.0.1)\n",
            "Requirement already satisfied: python-dateutil>=2.8.2 in /usr/local/lib/python3.10/dist-packages (from pandas>=1.0.5->category_encoders) (2.8.2)\n",
            "Requirement already satisfied: pytz>=2020.1 in /usr/local/lib/python3.10/dist-packages (from pandas>=1.0.5->category_encoders) (2024.2)\n",
            "Requirement already satisfied: tzdata>=2022.7 in /usr/local/lib/python3.10/dist-packages (from pandas>=1.0.5->category_encoders) (2024.2)\n",
            "Requirement already satisfied: joblib>=1.2.0 in /usr/local/lib/python3.10/dist-packages (from scikit-learn>=0.20.0->category_encoders) (1.4.2)\n",
            "Requirement already satisfied: threadpoolctl>=3.1.0 in /usr/local/lib/python3.10/dist-packages (from scikit-learn>=0.20.0->category_encoders) (3.5.0)\n",
            "Requirement already satisfied: packaging>=21.3 in /usr/local/lib/python3.10/dist-packages (from statsmodels>=0.9.0->category_encoders) (24.2)\n",
            "Requirement already satisfied: six>=1.5 in /usr/local/lib/python3.10/dist-packages (from python-dateutil>=2.8.2->pandas>=1.0.5->category_encoders) (1.17.0)\n"
          ]
        }
      ]
    },
    {
      "cell_type": "code",
      "source": [
        "from category_encoders import BinaryEncoder\n",
        "import pandas as pd\n",
        "data = pd.DataFrame({\"Color\": [\"Red\", \"Green\", \"Blue\", \"Green\", \"Red\"]})\n",
        "\n",
        "encoder = BinaryEncoder(cols=[\"Color\"])\n",
        "encoded_data = encoder.fit_transform(data)\n",
        "\n",
        "print(encoded_data)"
      ],
      "metadata": {
        "colab": {
          "base_uri": "https://localhost:8080/"
        },
        "id": "9c2mDAN1-vpJ",
        "outputId": "1e0837e3-568f-4b08-9608-c2441fca57c0"
      },
      "execution_count": 19,
      "outputs": [
        {
          "output_type": "stream",
          "name": "stdout",
          "text": [
            "   Color_0  Color_1\n",
            "0        0        1\n",
            "1        1        0\n",
            "2        1        1\n",
            "3        1        0\n",
            "4        0        1\n"
          ]
        },
        {
          "output_type": "stream",
          "name": "stderr",
          "text": [
            "/usr/local/lib/python3.10/dist-packages/sklearn/base.py:411: FutureWarning: The `_get_tags` method is deprecated in 1.6 and will be removed in 1.7. Please implement the `__sklearn_tags__` method.\n",
            "  warnings.warn(\n"
          ]
        }
      ]
    },
    {
      "cell_type": "markdown",
      "source": [
        "## Frequency or Count Encoding\n",
        " - Frequency encoding assigns each category the count or frequency of its occurrence in the dataset. It replaces each category with the number of times it appears in the dataset.\n",
        "\n",
        "\n",
        "- Example:\n",
        "\n",
        "  For a feature like \"Color\" with categories \"Red\", \"Green\", and \"Blue\", the frequency encoding would look like this:\n",
        "\n",
        "\"Red\" → 2 (appears twice)\n",
        "\"Green\" → 2 (appears twice)\n",
        "\"Blue\" → 1 (appears once)"
      ],
      "metadata": {
        "id": "nojaccbq-0oC"
      }
    },
    {
      "cell_type": "code",
      "source": [
        "import pandas as pd\n",
        "colors = [\"Red\", \"Green\", \"Blue\", \"Green\", \"Red\"]\n",
        "df = pd.DataFrame({\"Color\": colors})\n",
        "freq_encoding = df[\"Color\"].map(df[\"Color\"].value_counts())\n",
        "\n",
        "print(freq_encoding)"
      ],
      "metadata": {
        "colab": {
          "base_uri": "https://localhost:8080/"
        },
        "id": "SmAe5T4u__u8",
        "outputId": "baf4cc18-9ba9-4e53-d8d2-23319d68e839"
      },
      "execution_count": 20,
      "outputs": [
        {
          "output_type": "stream",
          "name": "stdout",
          "text": [
            "0    2\n",
            "1    2\n",
            "2    1\n",
            "3    2\n",
            "4    2\n",
            "Name: Color, dtype: int64\n"
          ]
        }
      ]
    },
    {
      "cell_type": "markdown",
      "source": [
        "## Target Encoding (Mean Encoding)\n",
        "\n",
        " - Target encoding replaces categorical variables with the mean of the target variable for each category. This method can be useful when there is a relationship between the category and the target variable.\n",
        "\n",
        "Example:\n",
        "\n",
        " - For a categorical feature \"Color\" and a target variable \"Price\", target encoding would replace \"Color\" with the average \"Price\" for each color category.\n",
        "\n"
      ],
      "metadata": {
        "id": "dYKpX9OSAEMB"
      }
    },
    {
      "cell_type": "code",
      "source": [
        "import pandas as pd\n",
        "\n",
        "data = pd.DataFrame({\n",
        "    \"Color\": [\"Red\", \"Green\", \"Blue\", \"Green\", \"Red\"],\n",
        "    \"Price\": [100, 200, 300, 250, 150]\n",
        "})\n",
        "\n",
        "target_encoded = data.groupby(\"Color\")[\"Price\"].transform(\"mean\")\n",
        "\n",
        "print(target_encoded)"
      ],
      "metadata": {
        "colab": {
          "base_uri": "https://localhost:8080/"
        },
        "id": "Y_yRSg32AS15",
        "outputId": "a42dc799-d51f-4c8b-93a7-b66e7f6c5ad0"
      },
      "execution_count": 21,
      "outputs": [
        {
          "output_type": "stream",
          "name": "stdout",
          "text": [
            "0    125.0\n",
            "1    225.0\n",
            "2    300.0\n",
            "3    225.0\n",
            "4    125.0\n",
            "Name: Price, dtype: float64\n"
          ]
        }
      ]
    },
    {
      "cell_type": "markdown",
      "source": [
        "\n",
        "# Q.7 What do you mean by training and testing a dataset?"
      ],
      "metadata": {
        "id": "2iYI6Z5tAdjZ"
      }
    },
    {
      "cell_type": "markdown",
      "source": [
        "## Training a Dataset\n",
        "\n",
        "- Training a dataset refers to the process of using a portion of the available data (called the training set) to teach the machine learning model the relationships between the input features (independent variables) and the target variable (dependent variable).\n",
        "\n",
        "\n",
        "\n",
        "In machine learning, training and testing refer to the two primary phases of working with a dataset to build and evaluate a model\n",
        "\n",
        "Example:\n",
        "\n",
        "For a supervised learning task, such as classifying emails as \"spam\" or \"not spam\", the model will learn from a set of emails with known labels (\"spam\" or \"not spam\")."
      ],
      "metadata": {
        "id": "bk8haWQlAggB"
      }
    },
    {
      "cell_type": "code",
      "source": [
        "from sklearn.model_selection import train_test_split\n",
        "from sklearn.linear_model import LinearRegression\n",
        "\n",
        "X = [[1], [2], [3], [4], [5]]\n",
        "y = [1, 2, 3, 4, 5]\n",
        "\n",
        "X_train, X_test, y_train, y_test = train_test_split(X, y, test_size=0.2)\n",
        "\n",
        "model = LinearRegression()\n",
        "model.fit(X_train, y_train)"
      ],
      "metadata": {
        "colab": {
          "base_uri": "https://localhost:8080/",
          "height": 80
        },
        "id": "Xf5TF2O_Bhvw",
        "outputId": "c6c1d66e-4057-44e6-f6b9-9188e5f103f6"
      },
      "execution_count": 24,
      "outputs": [
        {
          "output_type": "execute_result",
          "data": {
            "text/plain": [
              "LinearRegression()"
            ],
            "text/html": [
              "<style>#sk-container-id-2 {\n",
              "  /* Definition of color scheme common for light and dark mode */\n",
              "  --sklearn-color-text: #000;\n",
              "  --sklearn-color-text-muted: #666;\n",
              "  --sklearn-color-line: gray;\n",
              "  /* Definition of color scheme for unfitted estimators */\n",
              "  --sklearn-color-unfitted-level-0: #fff5e6;\n",
              "  --sklearn-color-unfitted-level-1: #f6e4d2;\n",
              "  --sklearn-color-unfitted-level-2: #ffe0b3;\n",
              "  --sklearn-color-unfitted-level-3: chocolate;\n",
              "  /* Definition of color scheme for fitted estimators */\n",
              "  --sklearn-color-fitted-level-0: #f0f8ff;\n",
              "  --sklearn-color-fitted-level-1: #d4ebff;\n",
              "  --sklearn-color-fitted-level-2: #b3dbfd;\n",
              "  --sklearn-color-fitted-level-3: cornflowerblue;\n",
              "\n",
              "  /* Specific color for light theme */\n",
              "  --sklearn-color-text-on-default-background: var(--sg-text-color, var(--theme-code-foreground, var(--jp-content-font-color1, black)));\n",
              "  --sklearn-color-background: var(--sg-background-color, var(--theme-background, var(--jp-layout-color0, white)));\n",
              "  --sklearn-color-border-box: var(--sg-text-color, var(--theme-code-foreground, var(--jp-content-font-color1, black)));\n",
              "  --sklearn-color-icon: #696969;\n",
              "\n",
              "  @media (prefers-color-scheme: dark) {\n",
              "    /* Redefinition of color scheme for dark theme */\n",
              "    --sklearn-color-text-on-default-background: var(--sg-text-color, var(--theme-code-foreground, var(--jp-content-font-color1, white)));\n",
              "    --sklearn-color-background: var(--sg-background-color, var(--theme-background, var(--jp-layout-color0, #111)));\n",
              "    --sklearn-color-border-box: var(--sg-text-color, var(--theme-code-foreground, var(--jp-content-font-color1, white)));\n",
              "    --sklearn-color-icon: #878787;\n",
              "  }\n",
              "}\n",
              "\n",
              "#sk-container-id-2 {\n",
              "  color: var(--sklearn-color-text);\n",
              "}\n",
              "\n",
              "#sk-container-id-2 pre {\n",
              "  padding: 0;\n",
              "}\n",
              "\n",
              "#sk-container-id-2 input.sk-hidden--visually {\n",
              "  border: 0;\n",
              "  clip: rect(1px 1px 1px 1px);\n",
              "  clip: rect(1px, 1px, 1px, 1px);\n",
              "  height: 1px;\n",
              "  margin: -1px;\n",
              "  overflow: hidden;\n",
              "  padding: 0;\n",
              "  position: absolute;\n",
              "  width: 1px;\n",
              "}\n",
              "\n",
              "#sk-container-id-2 div.sk-dashed-wrapped {\n",
              "  border: 1px dashed var(--sklearn-color-line);\n",
              "  margin: 0 0.4em 0.5em 0.4em;\n",
              "  box-sizing: border-box;\n",
              "  padding-bottom: 0.4em;\n",
              "  background-color: var(--sklearn-color-background);\n",
              "}\n",
              "\n",
              "#sk-container-id-2 div.sk-container {\n",
              "  /* jupyter's `normalize.less` sets `[hidden] { display: none; }`\n",
              "     but bootstrap.min.css set `[hidden] { display: none !important; }`\n",
              "     so we also need the `!important` here to be able to override the\n",
              "     default hidden behavior on the sphinx rendered scikit-learn.org.\n",
              "     See: https://github.com/scikit-learn/scikit-learn/issues/21755 */\n",
              "  display: inline-block !important;\n",
              "  position: relative;\n",
              "}\n",
              "\n",
              "#sk-container-id-2 div.sk-text-repr-fallback {\n",
              "  display: none;\n",
              "}\n",
              "\n",
              "div.sk-parallel-item,\n",
              "div.sk-serial,\n",
              "div.sk-item {\n",
              "  /* draw centered vertical line to link estimators */\n",
              "  background-image: linear-gradient(var(--sklearn-color-text-on-default-background), var(--sklearn-color-text-on-default-background));\n",
              "  background-size: 2px 100%;\n",
              "  background-repeat: no-repeat;\n",
              "  background-position: center center;\n",
              "}\n",
              "\n",
              "/* Parallel-specific style estimator block */\n",
              "\n",
              "#sk-container-id-2 div.sk-parallel-item::after {\n",
              "  content: \"\";\n",
              "  width: 100%;\n",
              "  border-bottom: 2px solid var(--sklearn-color-text-on-default-background);\n",
              "  flex-grow: 1;\n",
              "}\n",
              "\n",
              "#sk-container-id-2 div.sk-parallel {\n",
              "  display: flex;\n",
              "  align-items: stretch;\n",
              "  justify-content: center;\n",
              "  background-color: var(--sklearn-color-background);\n",
              "  position: relative;\n",
              "}\n",
              "\n",
              "#sk-container-id-2 div.sk-parallel-item {\n",
              "  display: flex;\n",
              "  flex-direction: column;\n",
              "}\n",
              "\n",
              "#sk-container-id-2 div.sk-parallel-item:first-child::after {\n",
              "  align-self: flex-end;\n",
              "  width: 50%;\n",
              "}\n",
              "\n",
              "#sk-container-id-2 div.sk-parallel-item:last-child::after {\n",
              "  align-self: flex-start;\n",
              "  width: 50%;\n",
              "}\n",
              "\n",
              "#sk-container-id-2 div.sk-parallel-item:only-child::after {\n",
              "  width: 0;\n",
              "}\n",
              "\n",
              "/* Serial-specific style estimator block */\n",
              "\n",
              "#sk-container-id-2 div.sk-serial {\n",
              "  display: flex;\n",
              "  flex-direction: column;\n",
              "  align-items: center;\n",
              "  background-color: var(--sklearn-color-background);\n",
              "  padding-right: 1em;\n",
              "  padding-left: 1em;\n",
              "}\n",
              "\n",
              "\n",
              "/* Toggleable style: style used for estimator/Pipeline/ColumnTransformer box that is\n",
              "clickable and can be expanded/collapsed.\n",
              "- Pipeline and ColumnTransformer use this feature and define the default style\n",
              "- Estimators will overwrite some part of the style using the `sk-estimator` class\n",
              "*/\n",
              "\n",
              "/* Pipeline and ColumnTransformer style (default) */\n",
              "\n",
              "#sk-container-id-2 div.sk-toggleable {\n",
              "  /* Default theme specific background. It is overwritten whether we have a\n",
              "  specific estimator or a Pipeline/ColumnTransformer */\n",
              "  background-color: var(--sklearn-color-background);\n",
              "}\n",
              "\n",
              "/* Toggleable label */\n",
              "#sk-container-id-2 label.sk-toggleable__label {\n",
              "  cursor: pointer;\n",
              "  display: flex;\n",
              "  width: 100%;\n",
              "  margin-bottom: 0;\n",
              "  padding: 0.5em;\n",
              "  box-sizing: border-box;\n",
              "  text-align: center;\n",
              "  align-items: start;\n",
              "  justify-content: space-between;\n",
              "  gap: 0.5em;\n",
              "}\n",
              "\n",
              "#sk-container-id-2 label.sk-toggleable__label .caption {\n",
              "  font-size: 0.6rem;\n",
              "  font-weight: lighter;\n",
              "  color: var(--sklearn-color-text-muted);\n",
              "}\n",
              "\n",
              "#sk-container-id-2 label.sk-toggleable__label-arrow:before {\n",
              "  /* Arrow on the left of the label */\n",
              "  content: \"▸\";\n",
              "  float: left;\n",
              "  margin-right: 0.25em;\n",
              "  color: var(--sklearn-color-icon);\n",
              "}\n",
              "\n",
              "#sk-container-id-2 label.sk-toggleable__label-arrow:hover:before {\n",
              "  color: var(--sklearn-color-text);\n",
              "}\n",
              "\n",
              "/* Toggleable content - dropdown */\n",
              "\n",
              "#sk-container-id-2 div.sk-toggleable__content {\n",
              "  max-height: 0;\n",
              "  max-width: 0;\n",
              "  overflow: hidden;\n",
              "  text-align: left;\n",
              "  /* unfitted */\n",
              "  background-color: var(--sklearn-color-unfitted-level-0);\n",
              "}\n",
              "\n",
              "#sk-container-id-2 div.sk-toggleable__content.fitted {\n",
              "  /* fitted */\n",
              "  background-color: var(--sklearn-color-fitted-level-0);\n",
              "}\n",
              "\n",
              "#sk-container-id-2 div.sk-toggleable__content pre {\n",
              "  margin: 0.2em;\n",
              "  border-radius: 0.25em;\n",
              "  color: var(--sklearn-color-text);\n",
              "  /* unfitted */\n",
              "  background-color: var(--sklearn-color-unfitted-level-0);\n",
              "}\n",
              "\n",
              "#sk-container-id-2 div.sk-toggleable__content.fitted pre {\n",
              "  /* unfitted */\n",
              "  background-color: var(--sklearn-color-fitted-level-0);\n",
              "}\n",
              "\n",
              "#sk-container-id-2 input.sk-toggleable__control:checked~div.sk-toggleable__content {\n",
              "  /* Expand drop-down */\n",
              "  max-height: 200px;\n",
              "  max-width: 100%;\n",
              "  overflow: auto;\n",
              "}\n",
              "\n",
              "#sk-container-id-2 input.sk-toggleable__control:checked~label.sk-toggleable__label-arrow:before {\n",
              "  content: \"▾\";\n",
              "}\n",
              "\n",
              "/* Pipeline/ColumnTransformer-specific style */\n",
              "\n",
              "#sk-container-id-2 div.sk-label input.sk-toggleable__control:checked~label.sk-toggleable__label {\n",
              "  color: var(--sklearn-color-text);\n",
              "  background-color: var(--sklearn-color-unfitted-level-2);\n",
              "}\n",
              "\n",
              "#sk-container-id-2 div.sk-label.fitted input.sk-toggleable__control:checked~label.sk-toggleable__label {\n",
              "  background-color: var(--sklearn-color-fitted-level-2);\n",
              "}\n",
              "\n",
              "/* Estimator-specific style */\n",
              "\n",
              "/* Colorize estimator box */\n",
              "#sk-container-id-2 div.sk-estimator input.sk-toggleable__control:checked~label.sk-toggleable__label {\n",
              "  /* unfitted */\n",
              "  background-color: var(--sklearn-color-unfitted-level-2);\n",
              "}\n",
              "\n",
              "#sk-container-id-2 div.sk-estimator.fitted input.sk-toggleable__control:checked~label.sk-toggleable__label {\n",
              "  /* fitted */\n",
              "  background-color: var(--sklearn-color-fitted-level-2);\n",
              "}\n",
              "\n",
              "#sk-container-id-2 div.sk-label label.sk-toggleable__label,\n",
              "#sk-container-id-2 div.sk-label label {\n",
              "  /* The background is the default theme color */\n",
              "  color: var(--sklearn-color-text-on-default-background);\n",
              "}\n",
              "\n",
              "/* On hover, darken the color of the background */\n",
              "#sk-container-id-2 div.sk-label:hover label.sk-toggleable__label {\n",
              "  color: var(--sklearn-color-text);\n",
              "  background-color: var(--sklearn-color-unfitted-level-2);\n",
              "}\n",
              "\n",
              "/* Label box, darken color on hover, fitted */\n",
              "#sk-container-id-2 div.sk-label.fitted:hover label.sk-toggleable__label.fitted {\n",
              "  color: var(--sklearn-color-text);\n",
              "  background-color: var(--sklearn-color-fitted-level-2);\n",
              "}\n",
              "\n",
              "/* Estimator label */\n",
              "\n",
              "#sk-container-id-2 div.sk-label label {\n",
              "  font-family: monospace;\n",
              "  font-weight: bold;\n",
              "  display: inline-block;\n",
              "  line-height: 1.2em;\n",
              "}\n",
              "\n",
              "#sk-container-id-2 div.sk-label-container {\n",
              "  text-align: center;\n",
              "}\n",
              "\n",
              "/* Estimator-specific */\n",
              "#sk-container-id-2 div.sk-estimator {\n",
              "  font-family: monospace;\n",
              "  border: 1px dotted var(--sklearn-color-border-box);\n",
              "  border-radius: 0.25em;\n",
              "  box-sizing: border-box;\n",
              "  margin-bottom: 0.5em;\n",
              "  /* unfitted */\n",
              "  background-color: var(--sklearn-color-unfitted-level-0);\n",
              "}\n",
              "\n",
              "#sk-container-id-2 div.sk-estimator.fitted {\n",
              "  /* fitted */\n",
              "  background-color: var(--sklearn-color-fitted-level-0);\n",
              "}\n",
              "\n",
              "/* on hover */\n",
              "#sk-container-id-2 div.sk-estimator:hover {\n",
              "  /* unfitted */\n",
              "  background-color: var(--sklearn-color-unfitted-level-2);\n",
              "}\n",
              "\n",
              "#sk-container-id-2 div.sk-estimator.fitted:hover {\n",
              "  /* fitted */\n",
              "  background-color: var(--sklearn-color-fitted-level-2);\n",
              "}\n",
              "\n",
              "/* Specification for estimator info (e.g. \"i\" and \"?\") */\n",
              "\n",
              "/* Common style for \"i\" and \"?\" */\n",
              "\n",
              ".sk-estimator-doc-link,\n",
              "a:link.sk-estimator-doc-link,\n",
              "a:visited.sk-estimator-doc-link {\n",
              "  float: right;\n",
              "  font-size: smaller;\n",
              "  line-height: 1em;\n",
              "  font-family: monospace;\n",
              "  background-color: var(--sklearn-color-background);\n",
              "  border-radius: 1em;\n",
              "  height: 1em;\n",
              "  width: 1em;\n",
              "  text-decoration: none !important;\n",
              "  margin-left: 0.5em;\n",
              "  text-align: center;\n",
              "  /* unfitted */\n",
              "  border: var(--sklearn-color-unfitted-level-1) 1pt solid;\n",
              "  color: var(--sklearn-color-unfitted-level-1);\n",
              "}\n",
              "\n",
              ".sk-estimator-doc-link.fitted,\n",
              "a:link.sk-estimator-doc-link.fitted,\n",
              "a:visited.sk-estimator-doc-link.fitted {\n",
              "  /* fitted */\n",
              "  border: var(--sklearn-color-fitted-level-1) 1pt solid;\n",
              "  color: var(--sklearn-color-fitted-level-1);\n",
              "}\n",
              "\n",
              "/* On hover */\n",
              "div.sk-estimator:hover .sk-estimator-doc-link:hover,\n",
              ".sk-estimator-doc-link:hover,\n",
              "div.sk-label-container:hover .sk-estimator-doc-link:hover,\n",
              ".sk-estimator-doc-link:hover {\n",
              "  /* unfitted */\n",
              "  background-color: var(--sklearn-color-unfitted-level-3);\n",
              "  color: var(--sklearn-color-background);\n",
              "  text-decoration: none;\n",
              "}\n",
              "\n",
              "div.sk-estimator.fitted:hover .sk-estimator-doc-link.fitted:hover,\n",
              ".sk-estimator-doc-link.fitted:hover,\n",
              "div.sk-label-container:hover .sk-estimator-doc-link.fitted:hover,\n",
              ".sk-estimator-doc-link.fitted:hover {\n",
              "  /* fitted */\n",
              "  background-color: var(--sklearn-color-fitted-level-3);\n",
              "  color: var(--sklearn-color-background);\n",
              "  text-decoration: none;\n",
              "}\n",
              "\n",
              "/* Span, style for the box shown on hovering the info icon */\n",
              ".sk-estimator-doc-link span {\n",
              "  display: none;\n",
              "  z-index: 9999;\n",
              "  position: relative;\n",
              "  font-weight: normal;\n",
              "  right: .2ex;\n",
              "  padding: .5ex;\n",
              "  margin: .5ex;\n",
              "  width: min-content;\n",
              "  min-width: 20ex;\n",
              "  max-width: 50ex;\n",
              "  color: var(--sklearn-color-text);\n",
              "  box-shadow: 2pt 2pt 4pt #999;\n",
              "  /* unfitted */\n",
              "  background: var(--sklearn-color-unfitted-level-0);\n",
              "  border: .5pt solid var(--sklearn-color-unfitted-level-3);\n",
              "}\n",
              "\n",
              ".sk-estimator-doc-link.fitted span {\n",
              "  /* fitted */\n",
              "  background: var(--sklearn-color-fitted-level-0);\n",
              "  border: var(--sklearn-color-fitted-level-3);\n",
              "}\n",
              "\n",
              ".sk-estimator-doc-link:hover span {\n",
              "  display: block;\n",
              "}\n",
              "\n",
              "/* \"?\"-specific style due to the `<a>` HTML tag */\n",
              "\n",
              "#sk-container-id-2 a.estimator_doc_link {\n",
              "  float: right;\n",
              "  font-size: 1rem;\n",
              "  line-height: 1em;\n",
              "  font-family: monospace;\n",
              "  background-color: var(--sklearn-color-background);\n",
              "  border-radius: 1rem;\n",
              "  height: 1rem;\n",
              "  width: 1rem;\n",
              "  text-decoration: none;\n",
              "  /* unfitted */\n",
              "  color: var(--sklearn-color-unfitted-level-1);\n",
              "  border: var(--sklearn-color-unfitted-level-1) 1pt solid;\n",
              "}\n",
              "\n",
              "#sk-container-id-2 a.estimator_doc_link.fitted {\n",
              "  /* fitted */\n",
              "  border: var(--sklearn-color-fitted-level-1) 1pt solid;\n",
              "  color: var(--sklearn-color-fitted-level-1);\n",
              "}\n",
              "\n",
              "/* On hover */\n",
              "#sk-container-id-2 a.estimator_doc_link:hover {\n",
              "  /* unfitted */\n",
              "  background-color: var(--sklearn-color-unfitted-level-3);\n",
              "  color: var(--sklearn-color-background);\n",
              "  text-decoration: none;\n",
              "}\n",
              "\n",
              "#sk-container-id-2 a.estimator_doc_link.fitted:hover {\n",
              "  /* fitted */\n",
              "  background-color: var(--sklearn-color-fitted-level-3);\n",
              "}\n",
              "</style><div id=\"sk-container-id-2\" class=\"sk-top-container\"><div class=\"sk-text-repr-fallback\"><pre>LinearRegression()</pre><b>In a Jupyter environment, please rerun this cell to show the HTML representation or trust the notebook. <br />On GitHub, the HTML representation is unable to render, please try loading this page with nbviewer.org.</b></div><div class=\"sk-container\" hidden><div class=\"sk-item\"><div class=\"sk-estimator fitted sk-toggleable\"><input class=\"sk-toggleable__control sk-hidden--visually\" id=\"sk-estimator-id-2\" type=\"checkbox\" checked><label for=\"sk-estimator-id-2\" class=\"sk-toggleable__label fitted sk-toggleable__label-arrow\"><div><div>LinearRegression</div></div><div><a class=\"sk-estimator-doc-link fitted\" rel=\"noreferrer\" target=\"_blank\" href=\"https://scikit-learn.org/1.6/modules/generated/sklearn.linear_model.LinearRegression.html\">?<span>Documentation for LinearRegression</span></a><span class=\"sk-estimator-doc-link fitted\">i<span>Fitted</span></span></div></label><div class=\"sk-toggleable__content fitted\"><pre>LinearRegression()</pre></div> </div></div></div></div>"
            ]
          },
          "metadata": {},
          "execution_count": 24
        }
      ]
    },
    {
      "cell_type": "markdown",
      "source": [
        "## Testing a Dataset\n",
        "\n",
        " - Testing a dataset refers to the process of evaluating the model's performance on a separate subset of the data (called the test set) that was not used during training. This helps assess how well the model can generalize to new, unseen data.\n",
        "\n",
        " Example:\n",
        "\n",
        "  Continuing the email classification task, the model would be tested on a new set of emails (the test set) to see how accurately it can classify them as \"spam\" or \"not spam\"."
      ],
      "metadata": {
        "id": "wwCua7l9BkcQ"
      }
    },
    {
      "cell_type": "code",
      "source": [
        "predictions = model.predict(X_test)\n",
        "\n",
        "print(predictions)"
      ],
      "metadata": {
        "colab": {
          "base_uri": "https://localhost:8080/"
        },
        "id": "1HPG6tEjCVFY",
        "outputId": "1baca719-3c6f-41b3-8ae5-6562c4849b48"
      },
      "execution_count": 25,
      "outputs": [
        {
          "output_type": "stream",
          "name": "stdout",
          "text": [
            "[5.]\n"
          ]
        }
      ]
    },
    {
      "cell_type": "markdown",
      "source": [
        "**Training set:** Data used to train the model.\n",
        "\n",
        "**Test set:**  Data used to test the model's ability to generalize to new, unseen data."
      ],
      "metadata": {
        "id": "cRA6nU3sCaRX"
      }
    },
    {
      "cell_type": "markdown",
      "source": [
        "# Q. 8 What is sklearn.preprocessing?"
      ],
      "metadata": {
        "id": "Kw1NzpBLCm4v"
      }
    },
    {
      "cell_type": "markdown",
      "source": [
        "sklearn.preprocessing is a module in scikit-learn (a popular machine learning library in Python) that provides several functions and classes to preprocess and scale data before feeding it into machine learning models. Preprocessing is a crucial step in the machine learning pipeline, as it helps ensure that the data is in a suitable format for model training and that the model can perform optimally."
      ],
      "metadata": {
        "id": "OjSnXo6KDA-H"
      }
    },
    {
      "cell_type": "markdown",
      "source": [
        "##  1. Scaling and Normalizing Features\n",
        " - StandardScaler: This is used to standardize features by removing the mean and scaling to unit variance. This is important when the features have different scales or units (e.g., one feature is in kilometers, and another is in meters).\n",
        "\n",
        " - MinMaxScaler: This scales the features to a given range, usually [0, 1], making the data more comparable by rescaling the data.\n",
        "\n",
        " - RobustScaler: This scales the data using statistics that are robust to outliers, such as the median and the interquartile range (IQR), instead of the mean and variance.\n",
        "\n",
        " -"
      ],
      "metadata": {
        "id": "SXj4G8eeEKtr"
      }
    },
    {
      "cell_type": "markdown",
      "source": [
        "2. Encoding Categorical Variables\n",
        "\n",
        "LabelEncoder:\n",
        "\n",
        "-  This is used to encode categorical labels as integers. It is often used when your target variable is categorical (e.g., 'Yes', 'No') and needs to be converted into numeric values for machine learning algorithms.\n",
        "\n",
        "OneHotEncoder:\n",
        "\n",
        "- This converts categorical features into a format that works better with machine learning algorithms (i.e., binary vectors). For example, if you have a feature \"Color\" with values ['Red', 'Green', 'Blue'], it would be transformed into 3 binary columns, each representing one color.\n",
        "\n",
        "OrdinalEncoder:\n",
        "\n",
        "- This encodes ordinal categorical features (i.e., features that have a meaningful order, like 'low', 'medium', 'high') as integers."
      ],
      "metadata": {
        "id": "4zf9e7IfEaE5"
      }
    },
    {
      "cell_type": "markdown",
      "source": [
        "3. Polynomial Features\n",
        "\n",
        "-  PolynomialFeatures:\n",
        "\n",
        "  - This generates polynomial and interaction features. It is used to create new features by combining existing features in a way that might capture non-linear relationships between them.\n",
        "\n",
        "\n",
        "4. Binarization\n",
        "\n",
        "- Binarizer:\n",
        "\n",
        "  - This transforms features into binary values (0 or 1) based on a specified threshold. This can be useful for certain types of classification tasks or for converting continuous data into binary features.\n",
        "\n",
        "\n",
        "5. Discretization\n",
        "\n",
        "\n",
        "- KBinsDiscretizer:\n",
        "  - This discretizes continuous features into discrete bins (or intervals). It's useful when you want to convert continuous data into categorical features by grouping the data into bins.\n",
        "\n",
        "6. Power Transformer\n",
        "\n",
        "- PowerTransformer:\n",
        "  - This is used to apply power transformations to make data more Gaussian-like, which can improve the performance of many machine learning algorithms. It supports both Box-Cox and Yeo-Johnson transformations.\n",
        "\n",
        "\n",
        "\n",
        "\n",
        "- When to Use sklearn.preprocessing?\n",
        "\n",
        "    - When features have different scales: Standardize or normalize your features to ensure that each feature contributes equally to the model.\n",
        "\n",
        "    - When dealing with categorical data: Convert categorical variables into numerical values using label encoding or one-hot encoding.\n",
        "    \n",
        "    - When you need polynomial features: Use PolynomialFeatures to capture non-linear relationships.\n",
        "    \n",
        "    - When handling outliers: Robust scaling can help in the presence of outliers.\n",
        "\n",
        "    - For feature engineering: Techniques like discretization or binarization can help create meaningful features.\n"
      ],
      "metadata": {
        "id": "_LR7T-sKEd6H"
      }
    },
    {
      "cell_type": "code",
      "source": [
        "from sklearn.preprocessing import StandardScaler, OneHotEncoder\n",
        "from sklearn.compose import ColumnTransformer\n",
        "from sklearn.pipeline import Pipeline\n",
        "from sklearn.model_selection import train_test_split\n",
        "\n",
        "X = [[1, 'Red'], [2, 'Blue'], [3, 'Green'], [4, 'Red'], [5, 'Green']]\n",
        "y = [0, 1, 1, 0, 1]\n",
        "\n",
        "preprocessor = ColumnTransformer(\n",
        "    transformers=[\n",
        "        ('num', StandardScaler(), [0]),\n",
        "        ('cat', OneHotEncoder(), [1])\n",
        "    ])\n",
        "\n",
        "pipeline = Pipeline(steps=[('preprocessor', preprocessor)])\n",
        "\n",
        "X_train, X_test, y_train, y_test = train_test_split(X, y, test_size=0.2)\n",
        "\n",
        "X_train_transformed = pipeline.fit_transform(X_train)\n",
        "\n",
        "X_test_transformed = pipeline.transform(X_test)\n",
        "\n",
        "print(X_train_transformed)"
      ],
      "metadata": {
        "colab": {
          "base_uri": "https://localhost:8080/"
        },
        "id": "57Y0zwYBGCPo",
        "outputId": "abd3bcf0-050d-4b06-fcff-c4c00acd3e6b"
      },
      "execution_count": 30,
      "outputs": [
        {
          "output_type": "stream",
          "name": "stdout",
          "text": [
            "[[ 1.26491106  0.          1.          0.        ]\n",
            " [ 0.63245553  0.          0.          1.        ]\n",
            " [-1.26491106  0.          0.          1.        ]\n",
            " [-0.63245553  1.          0.          0.        ]]\n"
          ]
        }
      ]
    },
    {
      "cell_type": "markdown",
      "source": [
        "# Q.9  What is a Test set?\n",
        "\n",
        "\n",
        "- A test set is a subset of data used to evaluate the performance of a machine learning model after it has been trained on a separate dataset. It is an essential part of the process of model evaluation, as it provides a way to assess how well the model generalizes to new, unseen data.\n",
        "\n",
        "Key Points About the Test Set:\n",
        "\n",
        "\n",
        "** Unseen Data: **\n",
        "\n",
        "The test set consists of data that was not used during the model training process. This ensures that the model is evaluated based on how well it performs on new, unseen data, rather than simply memorizing the training data.\n",
        "\n",
        "** Model Evaluation:**\n",
        "\n",
        "The test set is used to calculate performance metrics such as accuracy, precision, recall, F1-score, mean squared error (for regression), etc. This helps in understanding how well the model generalizes to data outside the training set.\n",
        "\n",
        "** Avoiding Overfitting:**\n",
        "\n",
        "By evaluating the model on a test set, we can detect if the model has overfitted to the training data. Overfitting occurs when a model performs well on the training set but poorly on new data because it has learned noise or specific patterns in the training data that do not generalize.\n",
        "\n",
        "** Not Used in Training: **\n",
        "\n",
        "The test set should be kept separate from the training set, meaning it is not used in any way during the training process (including during hyperparameter tuning or cross-validation). This ensures an unbiased evaluation."
      ],
      "metadata": {
        "id": "quRlmq1QGSDO"
      }
    },
    {
      "cell_type": "markdown",
      "source": [
        "# Q.10 How do we split data for model fitting (training and testing) in Python? How do you approach a Machine Learning problem?\n"
      ],
      "metadata": {
        "id": "jBfYk83VHIJW"
      }
    },
    {
      "cell_type": "markdown",
      "source": [
        "In machine learning, splitting the data into a training set and a test set is a crucial step. This ensures that the model is trained on one subset of the data and evaluated on another subset, providing an unbiased estimate of its performance. Here's how you can split data for model fitting in Python using scikit-learn:\n",
        "\n",
        "\n",
        "1. Using train_test_split from scikit-learn:\n",
        "\n",
        "  - The train_test_split function from scikit-learn is commonly used to split the dataset into training and test sets. It randomly splits the data into these sets.\n",
        "\n",
        "\n",
        "2. Stratified Split (for classification tasks):\n",
        "\n",
        "    - For classification tasks where the target classes are imbalanced, it’s important to keep the distribution of the classes similar in both the training and test sets. This can be done using the stratify parameter.\n",
        "\n",
        "3. Multiple Splits (Train, Validation, and Test):\n",
        "\n",
        "  - In addition to training and testing, sometimes it's useful to have a validation set to tune the model's hyperparameters. In this case, you can do a two-step split or use train_test_split multiple times.\n",
        "\n",
        "\n",
        "\n",
        "\n",
        "General Approach to Solving a Machine Learning Problem:\n",
        "\n",
        "\n",
        "- Understand the Problem:\n",
        "\n",
        "    - Define the problem: What is the goal? Are you predicting a continuous variable (regression) or\n",
        "    a category (classification)?\n",
        "\n",
        "    - Identify the type of machine learning problem: supervised vs unsupervised, regression vs classification, etc.\n",
        "\n",
        "- Collect and Prepare the Data:\n",
        "\n",
        "    - Data Collection: Gather relevant data from various sources (databases, APIs, CSV files, etc.).\n",
        "\n",
        "    - Data Cleaning: Clean the data by handling missing values, removing duplicates, correcting errors, etc.\n",
        "\n",
        "  - Exploratory Data Analysis (EDA): Explore the data to understand distributions, relationships, and potential patterns using visualizations and summary statistics.\n",
        "\n",
        "- Preprocess the Data:\n",
        "\n",
        "    - Feature Engineering: Create new features that might help the model, such as aggregating information or extracting more meaningful patterns from the data.\n",
        "    \n",
        "    - Encoding: Convert categorical variables into numerical format (e.g., using one-hot encoding or label encoding).\n",
        "\n",
        "    - Scaling: Normalize or standardize numerical features, if necessary (using StandardScaler or MinMaxScaler).\n",
        "\n",
        "    - Handling Imbalanced Data: If dealing with imbalanced datasets, consider techniques such as oversampling, undersampling, or using algorithms that handle imbalance.\n",
        "\n",
        "- Split the Data:\n",
        "\n",
        "    - Split the data into training and test sets, and optionally, a validation set. This allows you to train the model on one portion of the data and evaluate it on another unseen portion.\n",
        "\n",
        "- Select a Model:\n",
        "\n",
        "    - Choose a machine learning algorithm based on the problem type (e.g., linear regression, decision trees, random forest, support vector machine, neural networks).\n",
        "    \n",
        "    - Use cross-validation to ensure the model's performance is stable and generalizes well across different subsets of data.\n",
        "\n",
        "- Train the Model:\n",
        "\n",
        "    - Train the chosen model on the training data using the fit() method.\n",
        "\n",
        "- Evaluate the Model:\n",
        "\n",
        "    - Evaluate the model’s performance using the test set and relevant metrics (e.g., accuracy, precision, recall for classification, or mean squared error for regression).\n",
        "\n",
        "    - If the model performs well on the test set, it’s ready for deployment; otherwise, you may need to fine-tune the model or choose a different algorithm.\n",
        "\n",
        "- Tune Hyperparameters:\n",
        "\n",
        "    - Use hyperparameter tuning methods (e.g., Grid Search or Randomized Search) to optimize the model parameters and improve performance.\n",
        "\n",
        "    - This is typically done using cross-validation on the training data.\n",
        "\n",
        "- Deploy the Model:\n",
        "\n",
        "    - Once satisfied with the model’s performance, deploy the model in a real-world scenario (e.g., in an application, on a website, or as an API).\n",
        "\n",
        "- Monitor and Update:\n",
        "\n",
        "    - Continuously monitor the model's performance after deployment, and update it as necessary when new data becomes available.\n",
        "\n",
        "\n"
      ],
      "metadata": {
        "id": "lrOMS5HUHkYB"
      }
    },
    {
      "cell_type": "code",
      "source": [
        "from sklearn.model_selection import train_test_split\n",
        "from sklearn.preprocessing import StandardScaler\n",
        "from sklearn.ensemble import RandomForestClassifier\n",
        "from sklearn.metrics import accuracy_score\n",
        "\n",
        "X = [[1, 2], [3, 4], [5, 6], [7, 8]]\n",
        "y = [0, 1, 1, 0]\n",
        "\n",
        "X_train, X_test, y_train, y_test = train_test_split(X, y, test_size=0.25, random_state=42)\n",
        "\n",
        "scaler = StandardScaler()\n",
        "X_train_scaled = scaler.fit_transform(X_train)\n",
        "X_test_scaled = scaler.transform(X_test)\n",
        "\n",
        "model = RandomForestClassifier()\n",
        "model.fit(X_train_scaled, y_train)\n",
        "\n",
        "y_pred = model.predict(X_test_scaled)\n",
        "\n",
        "accuracy = accuracy_score(y_test, y_pred)\n",
        "print(f'Accuracy: {accuracy * 100:.2f}%')"
      ],
      "metadata": {
        "colab": {
          "base_uri": "https://localhost:8080/"
        },
        "id": "NEFffYNvJczE",
        "outputId": "2d544e7d-6c73-43e9-b833-506e23743917"
      },
      "execution_count": 31,
      "outputs": [
        {
          "output_type": "stream",
          "name": "stdout",
          "text": [
            "Accuracy: 100.00%\n"
          ]
        }
      ]
    },
    {
      "cell_type": "markdown",
      "source": [
        "# Q.11 Why do we have to perform EDA before fitting a model to the data?"
      ],
      "metadata": {
        "id": "Ww7LHVQFJric"
      }
    },
    {
      "cell_type": "markdown",
      "source": [
        "Exploratory Data Analysis (EDA) is a crucial step in the data analysis and machine learning pipeline because it provides essential insights into the data before any model fitting or algorithm application. Here are the main reasons why EDA is performed before fitting a model:\n",
        "\n",
        "**1. Understanding the Data:**\n",
        "\n",
        "Data Structure: EDA helps you understand the structure of the dataset—what features are available, how many features there are, and their types (numerical, categorical).\n",
        "Data Distribution: It allows you to understand the distribution of variables (e.g., whether features are normally distributed, skewed, etc.).\n",
        "Target Variable: You can check the distribution of the target variable (in case of supervised learning) and see if it is balanced or imbalanced (for classification tasks).\n",
        "\n",
        "**2. Identifying Missing or Inconsistent Data:**\n",
        "\n",
        "Missing Values: EDA helps you identify if there are any missing values in the dataset, which might need to be handled either by removing, imputing, or filling them with appropriate values.\n",
        "Outliers: EDA can help identify outliers in the data, which might skew model predictions or distort the results. You can decide whether to remove or handle them based on the problem.\n",
        "Duplicates: It can help identify duplicate entries that might unnecessarily influence the model's performance.\n",
        "\n",
        "**3. Feature Relationships:**\n",
        "\n",
        "Correlations: EDA can help uncover correlations between features, and between features and the target variable. High correlations among features (multicollinearity) can cause issues in models like linear regression.\n",
        "Feature Interactions: You can identify potential interactions between features. This helps to understand how variables relate to each other, and whether new features or transformations might improve the model.\n",
        "\n",
        "**4. Choosing the Right Model:**\n",
        "\n",
        "Data Types and Algorithms: EDA informs the choice of the machine learning algorithm. For example:\n",
        "If the target variable is categorical, you might consider classification algorithms.\n",
        "If the target is continuous, regression models are appropriate.\n",
        "Feature Scaling: Understanding the range and distribution of numerical features will tell you if scaling or normalization is needed before applying models like k-NN, SVM, or gradient descent-based algorithms.\n",
        "Missing Value Strategy: For instance, missing values in numerical columns might be handled differently than missing categorical values, which is identified during EDA.\n",
        "\n",
        "**5. Assessing Feature Importance:**\n",
        "\n",
        "Through visualizations like box plots, histograms, and scatter plots, you can assess the importance of individual features and how they affect the target variable. This helps in feature selection, which reduces the complexity of the model and can improve its performance.\n",
        "You may also identify irrelevant or redundant features that can be dropped from the model.\n",
        "\n",
        "**6. Handling Categorical Variables:**\n",
        "\n",
        "For categorical variables, you can observe the frequency distribution, identify whether the categories are balanced, and check if any categories need encoding (e.g., one-hot encoding or label encoding).\n",
        "It helps decide on the appropriate encoding techniques to use when transforming categorical variables.\n",
        "\n",
        "**7. Detecting Data Imbalance:**\n",
        "\n",
        "In classification problems, you may discover class imbalance (i.e., when one class has significantly more samples than the other). This insight allows you to apply techniques such as resampling (oversampling or undersampling), using different evaluation metrics (e.g., precision, recall, F1-score), or selecting algorithms that handle imbalanced data.\n",
        "\n",
        "**8. Guiding Data Preprocessing:**\n",
        "\n",
        "Feature Engineering: EDA often leads to new feature ideas based on relationships identified between features. You might create new features or transform existing ones.\n",
        "Handling Skewness: If numerical features are skewed, EDA helps you identify the need for transformations (e.g., log transformation) to make the data more suitable for modeling.\n",
        "\n",
        "**9. Assessing the Quality of the Data:**\n",
        "\n",
        "Visualizations: Visualizations such as histograms, scatter plots, and pair plots give a visual understanding of how well the data is spread and whether there are any obvious issues that could affect modeling (e.g., clusters, outliers, etc.).\n",
        "Outliers and Errors: EDA can help detect data errors that might need to be corrected before model fitting, ensuring better accuracy of predictions.\n",
        "\n",
        "**10. Model Performance Expectations:**\n",
        "\n",
        "By performing EDA, you gain a sense of the complexities of the data. For example, if your data contains a lot of noise or if there are many irrelevant features, you may need to manage expectations regarding model performance or apply feature engineering and selection techniques to improve results."
      ],
      "metadata": {
        "id": "J15tvUE7KALr"
      }
    },
    {
      "cell_type": "markdown",
      "source": [
        "# Q.12  What is correlation?"
      ],
      "metadata": {
        "id": "4SLmLKdXLPW1"
      }
    },
    {
      "cell_type": "markdown",
      "source": [
        "**Correlation** refers to a statistical relationship between two or more variables, where changes in one variable are associated with changes in another. It indicates the strength and direction of the relationship between variables. In simple terms, correlation tells us how one variable is related to another—whether they move in the same direction, opposite directions, or show no discernible relationship at all.\n",
        "\n",
        "**Types of Correlation:**\n",
        "\n",
        "\n",
        "- Positive Correlation:\n",
        "\n",
        "    - When two variables increase or decrease together.\n",
        "\n",
        "    - Example: As the temperature increases, the sales of ice cream also increase.\n",
        "\n",
        "    - Correlation Coefficient: A positive correlation will have a\n",
        "    coefficient between 0 and +1.\n",
        "\n",
        "- Negative Correlation:\n",
        "\n",
        "    - When one variable increases as the other decreases.\n",
        "\n",
        "    - Example: As the amount of exercise increases, the body weight tends to\n",
        "    decrease.\n",
        "    \n",
        "    - Correlation Coefficient: A negative correlation will have a\n",
        "    coefficient between 0 and -1.\n",
        "\n",
        "- Zero or No Correlation:\n",
        "\n",
        "    - When there is no relationship between two variables, and changes in one variable do not predict any changes in the other.\n",
        "\n",
        "    - Example: Shoe size and intelligence.\n",
        "\n",
        "**Correlation Coefficient:**\n",
        "\n",
        "A correlation coefficient close to 0 suggests no correlation.\n",
        "Correlation Coefficient:\n",
        "The correlation coefficient (often denoted as r) quantifies the degree of correlation between two variables. It ranges from -1 to +1:\n",
        "\n",
        "- +1: Perfect positive correlation (both variables move in the same direction perfectly).\n",
        "- 0: No correlation (the variables do not affect each other).\n",
        "- -1: Perfect negative correlation (one variable increases as the other decreases perfectly).\n",
        "\n",
        "Mathematical Formula for Correlation (Pearson's r):\n",
        "\n",
        "![image.png](data:image/png;base64,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)\n",
        "\n",
        "![image.png](data:image/png;base64,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)"
      ],
      "metadata": {
        "id": "7QXSwGJULXnb"
      }
    },
    {
      "cell_type": "markdown",
      "source": [
        "Types of Correlation:\n",
        "\n",
        "  - Pearson Correlation: Measures the linear relationship between two variables. Assumes that both variables are continuous and normally\n",
        "  distributed.\n",
        "\n",
        "  - Spearman Rank Correlation: Measures the strength and direction of the monotonic relationship between two variables. Used when the data is ordinal or not normally distributed.\n",
        "\n",
        "  - Kendall Tau: A non-parametric measure of correlation that assesses the strength of association between two variables based on the ranks of\n",
        "  the data.\n",
        "\n",
        "\n",
        "- Applications of Correlation:\n",
        "\n",
        "    - Predictive modeling: Correlation helps in understanding how independent variables relate to dependent variables and can be used for feature selection in machine\n",
        "    learning models.\n",
        "\n",
        "    - Finance: In portfolio management, correlation is used to understand how different stocks or assets move in relation to each other.\n",
        "\n",
        "    - Healthcare: Correlation is used to determine relationships between variables like smoking and lung cancer or exercise and heart health.\n",
        "\n",
        "\n",
        "- Limitations:\n",
        "\n",
        "    - Causation: Correlation does not imply causation. Two variables may be correlated, but one does not necessarily cause the other.\n",
        "\n",
        "    - Outliers: Outliers can heavily influence the correlation coefficient and may mislead the analysis.\n",
        "\n",
        "\n",
        "***correlation is a fundamental concept in statistics and data analysis that helps in understanding the relationship between variables, but it must be interpreted carefully, especially with regard to causality and the presence of outliers.***"
      ],
      "metadata": {
        "id": "xISG46nvMq-j"
      }
    },
    {
      "cell_type": "markdown",
      "source": [
        "# Q.13 What does negative correlation mean?"
      ],
      "metadata": {
        "id": "86-Yu-3eNRaj"
      }
    },
    {
      "cell_type": "markdown",
      "source": [
        "Negative correlation means that as one variable increases, the other variable tends to decrease, and vice versa. In other words, there is an inverse relationship between the two variables. If one variable goes up, the other generally goes down, and if one variable goes down, the other generally goes up.\n",
        "\n",
        "\n",
        "- Key Points About Negative Correlation:\n",
        "\n",
        "    - Inverse Relationship: Negative correlation indicates that the variables move in opposite directions.\n",
        "\n",
        "    - Correlation Coefficient: In a negative correlation, the correlation coefficient (denoted as r) ranges between 0 and -1. The closer the coefficient is to -1, the stronger the negative relationship.\n",
        "    \n",
        "    - For example, a correlation of -0.9 suggests a strong negative correlation.\n",
        "\n",
        "    - A correlation of -0.1 suggests a weak negative correlation.\n",
        "\n",
        "    - A correlation of 0 suggests no correlation (i.e., the variables do not influence each other).\n",
        "\n",
        "- Example of Negative Correlation:\n",
        "  - Exercise and Weight: As the amount of exercise increases, a person's weight tends to decrease, assuming they are burning more calories than they consume.\n",
        "\n",
        "    - In this case, the relationship between exercise (increasing) and weight (decreasing) is a negative\n",
        "    correlation.\n",
        "\n",
        "- Speed and Travel Time: As the speed of a vehicle increases, the time it takes to reach a destination decreases. Hence, the correlation between speed and time is negative.\n",
        "\n",
        "    - Faster speeds lead to shorter travel times.\n",
        "\n",
        "\n",
        "Negative Correlation ≠ Causation: Just because two variables are negatively correlated does not mean that one variable causes the other to change. It could be a coincidence, or there could be an external factor influencing both variables.\n",
        "Strength: The strength of the negative correlation can be assessed by how closely the data points follow a straight line (negative slope) on a scatter plot.\n",
        "\n",
        "\n",
        "***negative correlation means that there is an inverse relationship between two variables: when one goes up, the other goes down, and vice versa. The strength of this relationship is measured by the correlation coefficient, which ranges from 0 to -1.***"
      ],
      "metadata": {
        "id": "5MlIuTiDNmqO"
      }
    },
    {
      "cell_type": "markdown",
      "source": [
        "# Q.14 How can you find correlation between variables in Python?\n"
      ],
      "metadata": {
        "id": "vUIaqqhSOgAK"
      }
    },
    {
      "cell_type": "markdown",
      "source": [
        "In Python, you can find the correlation between variables using several methods. The most common approach is using the pandas library, which provides a convenient way to compute correlation between numerical columns in a DataFrame. Another option is using numpy for simpler cases. Here's how you can find correlation between variables:"
      ],
      "metadata": {
        "id": "9LeYyBTIOrj1"
      }
    },
    {
      "cell_type": "markdown",
      "source": [
        "1. Using Pandas:\n",
        "The pandas library provides the corr() method, which computes the Pearson correlation coefficient by default, but can also compute other types of correlation such as Spearman and Kendall."
      ],
      "metadata": {
        "id": "vQqXB58wOzOY"
      }
    },
    {
      "cell_type": "code",
      "source": [
        "import pandas as pd\n",
        "data = {\n",
        "    'X': [1, 2, 3, 4, 5],\n",
        "    'Y': [10, 8, 6, 4, 2],\n",
        "    'Z': [5, 4, 3, 2, 1]\n",
        "}\n",
        "\n",
        "df = pd.DataFrame(data)\n",
        "\n",
        "correlation_matrix = df.corr()\n",
        "print(\"Correlation Matrix:\")\n",
        "print(correlation_matrix)"
      ],
      "metadata": {
        "colab": {
          "base_uri": "https://localhost:8080/"
        },
        "id": "IEsPb04UO1Wf",
        "outputId": "152e2e18-4514-4c20-9004-5f33c56cb6fe"
      },
      "execution_count": 32,
      "outputs": [
        {
          "output_type": "stream",
          "name": "stdout",
          "text": [
            "Correlation Matrix:\n",
            "     X    Y    Z\n",
            "X  1.0 -1.0 -1.0\n",
            "Y -1.0  1.0  1.0\n",
            "Z -1.0  1.0  1.0\n"
          ]
        }
      ]
    },
    {
      "cell_type": "markdown",
      "source": [
        "The df.corr() method computes the Pearson correlation between each pair of columns.\n",
        "In the above example, X and Y have a perfect negative correlation (-1.0), and X and Z have a perfect positive correlation (1.0)."
      ],
      "metadata": {
        "id": "ZxeO9BTvO7cS"
      }
    },
    {
      "cell_type": "markdown",
      "source": [
        "2. Using Numpy:\n",
        "If you want to calculate the correlation between two variables directly without using a DataFrame, you can use numpy.corrcoef(), which returns the correlation matrix for two or more arrays."
      ],
      "metadata": {
        "id": "uJUkwtd7PGgt"
      }
    },
    {
      "cell_type": "code",
      "source": [
        "import numpy as np\n",
        "x = np.array([1, 2, 3, 4, 5])\n",
        "y = np.array([10, 8, 6, 4, 2])\n",
        "\n",
        "correlation = np.corrcoef(x, y)\n",
        "\n",
        "print(\"Correlation coefficient between x and y:\")\n",
        "print(correlation)"
      ],
      "metadata": {
        "colab": {
          "base_uri": "https://localhost:8080/"
        },
        "id": "3n6a3CD-PICW",
        "outputId": "178313ff-71df-4abb-afcf-06288a22f3d7"
      },
      "execution_count": 33,
      "outputs": [
        {
          "output_type": "stream",
          "name": "stdout",
          "text": [
            "Correlation coefficient between x and y:\n",
            "[[ 1. -1.]\n",
            " [-1.  1.]]\n"
          ]
        }
      ]
    },
    {
      "cell_type": "markdown",
      "source": [
        "Pandas corr(): Computes Pearson, Spearman, or Kendall correlation for columns in a DataFrame.\n",
        "Numpy corrcoef(): Calculates the Pearson correlation coefficient for two arrays"
      ],
      "metadata": {
        "id": "hH71yvHBPMTJ"
      }
    },
    {
      "cell_type": "markdown",
      "source": [
        "# Q.15 What is causation? Explain difference between correlation and causation with an example."
      ],
      "metadata": {
        "id": "bq3EVwNLPXhV"
      }
    },
    {
      "cell_type": "markdown",
      "source": [
        "Causation refers to a relationship between two events or variables where one directly influences the other. In a causal relationship, one variable (the cause) leads to a change or effect in another variable (the effect). Causation implies that a change in one variable directly causes a change in the other.\n",
        "\n",
        "- For example:\n",
        "\n",
        "  - Smoking causes lung cancer: There is a direct causal relationship where smoking leads to the development of lung cancer.\n",
        "\n",
        "  - In a causal relationship, the change in the dependent variable is directly due to the change in the independent variable.\n",
        "\n",
        "- Difference Between Correlation and Causation\n",
        "\n",
        "While both correlation and causation refer to relationships between two variables, they are fundamentally different:\n",
        "\n",
        "- 1.Correlation: A statistical measure that indicates the extent to which two variables are related. Correlation can show if two variables tend to change together but does not imply causality. Correlation only tells us about the relationship between variables, not whether one causes the other.\n",
        "\n",
        "- 2.Causation: A relationship where one variable directly causes a change in another. Causation implies a cause-and-effect relationship, meaning that a change in one variable leads to a change in another."
      ],
      "metadata": {
        "id": "sOzMRoYRQL2l"
      }
    },
    {
      "cell_type": "markdown",
      "source": [
        "1. Correlation Example:\n",
        "\n",
        "Ice Cream Sales and Drowning Incidents:\n",
        "\n",
        "  - It might be found that as ice cream sales increase, the number of drowning incidents also increases.\n",
        "\n",
        "    - Correlation: There is a positive correlation between ice cream sales and drowning incidents.\n",
        "\n",
        "    - But: This does not mean that ice cream sales cause drownings. The real cause might be that both ice cream sales and drownings increase during the summer months when the weather is warmer, and people are more likely to swim.\n",
        "\n",
        "- Explanation: The correlation is likely due to a third variable (season or temperature) that affects both ice cream sales and drowning incidents.\n",
        "\n",
        "\n",
        "\n",
        "\n",
        "\n",
        "- 2. Causation Example:\n",
        "\n",
        "  - Exercise and Weight Loss:\n",
        "\n",
        "      - Causation: Regular exercise leads to weight loss.\n",
        "\n",
        "      - Explanation: There is a direct cause-and-effect relationship where engaging in physical activity burns calories, which can lead to a decrease in body weight."
      ],
      "metadata": {
        "id": "uVJclDiKQmrx"
      }
    },
    {
      "cell_type": "markdown",
      "source": [
        "# Q.16 What is an Optimizer? What are different types of optimizers? Explain each with an example."
      ],
      "metadata": {
        "id": "JXc5zZILRMZ6"
      }
    },
    {
      "cell_type": "markdown",
      "source": [
        "In the context of Machine Learning and Deep Learning, an optimizer is an algorithm or method used to adjust the weights and biases of a model during training to minimize the loss function. The optimizer's goal is to improve the model's predictions by finding the optimal set of parameters (weights and biases) that minimize the error between the predicted output and the actual output."
      ],
      "metadata": {
        "id": "Ch79cxWATk1N"
      }
    },
    {
      "cell_type": "markdown",
      "source": [
        "## Types of Optimizers\n",
        "\n",
        "1. Gradient Descent\n",
        "\n",
        "    - Description: The most basic optimization algorithm, which updates the parameters in the opposite direction of the gradient of the loss function with respect to the parameters.\n",
        "\n",
        "\n",
        "  ![image.png](data:image/png;base64,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)"
      ],
      "metadata": {
        "id": "2-EUdCTuTn4s"
      }
    },
    {
      "cell_type": "markdown",
      "source": [
        "2. Momentum\n",
        "Description: Accelerates convergence by adding a fraction of the previous update to the current update, helping to smooth out oscillations in the gradient."
      ],
      "metadata": {
        "id": "g_4-OXOXT6aX"
      }
    },
    {
      "cell_type": "markdown",
      "source": [
        "![image.png](data:image/png;base64,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)"
      ],
      "metadata": {
        "id": "qESnrOMoUHTN"
      }
    },
    {
      "cell_type": "markdown",
      "source": [
        "3. RMSprop (Root Mean Square Propagation)\n",
        "Description:\n",
        "\n",
        "  -  Divides the learning rate by a moving average of the magnitudes of recent gradients to adaptively adjust the step size for each parameter.\n",
        "\n",
        "\n",
        "![image.png](data:image/png;base64,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)"
      ],
      "metadata": {
        "id": "knwROA4NUMXv"
      }
    },
    {
      "cell_type": "markdown",
      "source": [
        "4. Adam (Adaptive Moment Estimation)\n",
        "Description:\n",
        "\n",
        "  - Combines the ideas of Momentum and RMSprop by using exponentially decaying averages of past gradients and squared gradients.\n",
        "\n",
        "\n",
        "\n",
        "   ![image.png](data:image/png;base64,iVBORw0KGgoAAAANSUhEUgAAAd8AAADKCAYAAADkbErEAAAAAXNSR0IArs4c6QAAAARnQU1BAACxjwv8YQUAAAAJcEhZcwAADsMAAA7DAcdvqGQAAC5PSURBVHhe7d0JuIz1+8fxW/YtFCr6KYqitCqSorRRUcmSFi3EXylahXYhbVq0iUrSIiX9kEJJ+aVUpEURIbKWLSLLv/fteU7TcZY5OM/MHJ/Xdc3lzDNzzpk53/G9n/v+Lk++ypUrb7W/9ejRw5o2bcqXadatW2f333+/jR49OjiSeI0bN7Zbb73VFi9ebC1btgyOioiIpI49gn/TzJgxw4Mtt7Fjx9qCBQuCR0RERGRX2C74zpkzx+68806/9erVy4OxiIiI7DrbBd/MtG7d2t5++2379NNP7bPPPrNx48ZZly5dgkfNnnzySZs8ebI9++yz9vHHH9trr71m7du392ODBg2yYcOG+fd98MEHdvXVV9vDDz/sj/HzBg4caFWqVPGfw/dNnDjRy8vgX+5zPCM1a9a05557zn/n559/7j+Tn12sWDGrVauWjRo1yl+biIhIstgu+DLuSxDjRuAigDVr1szatm1rRYsWtREjRtjQoUNty5Ytfrxdu3bBd5oVLFjQKlasaN27d//XeGzVqlVt5syZXsbmOZdffrk/b8iQIbZkyRKrUaNGWrDNqQoVKliRIkXsxRdftMcff9xWrlxpderUsUsvvTR4hoiISHLJcsx3/PjxtnTpUmvQoIEH3pEjR1qfPn2sX79+HoBRu3Zt/xcEZLJUbrHmzZtnvXv3tgEDBtiyZcts06ZNNnz4cM9Ip0yZYvnz57fSpUsHz84ZAvoll1ziP3vw4MGe+RLgy5UrZ1OnTrWzzz7bOnbsGDxbREQk8bIc86V8O3/+fCtbtqxt3LjRHwsRlDdv3mwlS5YMjpjfX7VqVXDvH6tXr/aZ0/wsfs7WrVtt7dq1/tiKFSs8GO8oys4PPvigB+FJkyZZkyZNgkdERESSU1xjvsuXL7dChQqljcuifPnynrESPHclsud8+fJZiRIl/H6BAgX8fmY6depkdevW9TJ5z549k2pZlIiISEbiCr6Ub8lqySq7du3qAa9Vq1b+GGXjXWnRokU+hsvvYmy4TZs2XvLOTJh5b9iwwSpVquTjvSFNuBIRkWQUV/BlMhNjqpSHL7jgAp/MRIbKMR7bld58800fI65WrZrPimZC1vr164NHtzdhwgR/nGDdokULmzt3bvCIiIhIckrb4UpERESiEVfmKyIiIruOgq+IiEjEFHxFREQipuArIiISMQVfERGRiCn4ioiIREzBV0REJGIKviIiIhFT8BUREYmYgq+IiEjEFHxFREQipuArIiISMQVfERGRiCn4ioiIREzBV0REJGIKviIiIhFT8BUREYmYgq+IiEjEFHxFREQipuArIiISMQVfERGRiCn4ioiIREzBV0REJGIKviKSpxUrVszuuOMOv6W622+/3bp27Rrck1Sm4CuSwho1amSvvPKKDRs2zEaPHm333nuvBxv5xy233GIHH3ywvfDCC8GRf1SpUsXOO++84F60dqTtXn75ZatWrZp17NgxOCKpKn+ZMmXuCr4WkRTSrFkza9mypT3zzDP2wAMP2Jo1a/zYpk2bbPr06cGzdm8E1jDITZkyxY8RcBs0aGCXXXaZXX311R6Y33jjDX8sKjvadr///rsVLVrUn7t27Vr74Ycfgkck1SjzFUlBlSpVsrPOOsvee+89mzhxoh+j4966dat3znlN27ZtrU+fPsG9+DVu3NiWLFliI0aMCI6YHX300R6Q+Xslws623ciRI23lypX+MyR1KfiKpKBTTz3V8uXL5yXLUNWqVf3Yzz//HBzJO/Lnz2+FChUK7sXntNNOswMPPNC+/fbb4Mg2w4cP94yXIPbXX38FR6Ozs223bt06+/rrr/29nXjiicFRSTUqO8tujTG2m266yc4991z7448/7O//D9auXTtr3bq1VahQwWbOnGmnn366dejQwc4880wrUKCAzZo1K/juxKFkOXfuXCtfvrydf/75VrlyZTvnnHPss88+s4EDBwbPytixxx5rN954ox111FH+XurXr/+v97dw4UK7/PLL/e/Ac8iyli5dGnx3YtSqVcvKli1rY8eODY5kjzY95JBDPMj+9NNPwdF/0L6nnHKKbdy4MdKy8860XWjvvfe2OnXq2LJly+zLL78Mjm7DZ5r2u+KKKzzLJqgXKVLES9aSPBR8ZbfWpUsXO+CAA7wzo7M+4YQT7JtvvrH169db8+bNvYOrUaOGTZgwwTuypk2b2oIFC3KcXZKh1KxZ0zOc7G6lSpWyRYsWBd+5PTrXCy+80MupF110kb++I444wlavXm0PPfRQlp0s38uM2RUrVvi4JwGX3zlu3Dj/OZQyOU6m+eGHH3pQIFjHlm0TYUeCb5MmTaxcuXI+mSmjv2cigu/OtF2s0qVL+0nTb7/9Zh999FFwdNvnrG/fvv55pk3J/hnb5rM7ZsyY4FmSDFR2lt0WHeGhhx7qnRdjbWR9TMxhEgwBmDE4MoaePXt6qZKOjufRkYX4Gddff71nx1khg6xdu3ZcN4J0VurWrev/vvXWW3bGGWdYvXr1fPlJiRIl7Morr/THCFadO3f257Rv396PoWHDhl6+nTFjhhUuXNhPMu6++25/f/Pnz7c999zT5syZY926dfOMccOGDd7REyRCTFhiBnF2rzNWZq8nN1HFYFLS1KlTgyOJtzNtF2vz5s22ZcsWP4EI8blkFjTt+9hjj3mbfvrpp15anz17tj+Hse7rrrvOv5bEUvCV3RqBdvHixZ5tUmKmwwLZINkfM2QJRqCjY7yNkmGIYEYnSpDOSv/+/e3OO++M6/b8888H35Wxww47zDMlgmXo119/9UC51157+X2Wo3DyULJkSb8fYvzzkUcesf3339/LkUz4Cd8fY4j83PHjx/t9ggBBgdLmd99958fAiQYVAoJ3vDJ7PRkh8A8dOvRfNzJyTgDSH+e9UL7NbcwuHjx48Ha/P/3txRdf9ElemdmZtssOmT4nRgwlcHIF2plAHbYx1R1OOCXxFHxlt0UgJbgyLkgGG1tKJov4888/0ybrkOXRkVEunDRpkh+jxHfkkUd62RJRBAHsu+++Nm/evODeNpTOixcv7h0tCAR0wmRHseiEp02b5u+ZDj8cCyWwUaKNfX+HH364Z8I//vij3+dvxGQhvpfxcR7jWDwyez0Z6dWrl4+5x97effddPwFIf5xhgyjGozkpo3yb/venv7Vp08bL3JnZmbbLDu3C93ASCdqGZVSrVq3yzzKBl9/PySYnVpJYCr6y2yPQstTj+++/9/t0Whxj7WUYeCgXkpmQUTARibLgcccdZ8ccc4wHX7IJssTMkGGTZcZze+KJJ4Lv2h6vq2LFiv/KnMBJACXxeNZ98jP2228/H/edPHmyH6OTpkwb+3OPP/54D9BM6CEjJ7OiLF69enXvzMnikh0VidiSeSLtirZLL3aMmEoNwwhhZYaxetqUCXQMqTBGTIWHzykBXxJLwVd2e5TqyA7CLJBAS6dFlhh2lGSBBByyRgLuL7/8Ym+++aYHbQIYGyWEpb2MMHZH5xfP7dprrw2+a3uUJMleeM0hMnDKsiw/GTRoUHA0cwRPxnF5D2T/CEuRYQBgjJoOmpIonTpBg/f58ccf+9+BNaqPP/64d+SU3Sm1ZnRLZOBjkhXjnzkt3+aWXdF2ISZUcWLB5zbEZzXMljmBbNWqlb932pTJVkwU5ISLk7tweEUSR8FXdmuU38JJRuG45kEHHWQFCxZMy3pBx0XHxgxVOjBmx5KxUC7MKujuamSbBE067X79+tlTTz3lY6RMKrr55pvTgmlWGNtFOC4IjpHph38D3jvvk0780ksv9ZnPdO5hMI3yPe8oXi8nDumzPE4WCEaMF1Nq53Em3dGmnHTkll3RdiGyaD6PYbUGr7/+ur9nSvGvvvqqz1GgchG2FWXp5cuXp51QSmLlq1y58tbga5HdEqVUSnXh2CFjt3RUX3zxxb86xHCcLJw9yyxnOtL77rvPgzJrNBmry029e/f2MbsBAwb4Mig6108++SR49N/IPCmPk+VQ9g7x/lhbGm63CIIqgTZ2ZjD3Ka1z4hF24LzXffbZx4YMGeLLWHr06OHH45HZ64kHlQPa5IYbbgiOZI9xemaqc5KRk9eZW3ZF24VYlsQcBNbyZhS0aTsm7pH58znFgw8+6L+P2c+ML+e0DWTXUuYruz2CUOykHb5m0lH6To3AFBucKDnTubFBBSXr3A68ZDuULZlQw2tj7XFmnTcZFR0zmTllTdZ+hnh/sYEXZLyx7w38DsagY7NcOm1KmUwuSv/8rGT1euLBe/7ggw+Ce/Eh6DJeTdCOLfUmwq5qO3BSwfuJ/Yzy/FGjRvl8BJx00klemuYzGWa6BF2yb4Yd3n//fT8miaPMV2QnUKZk6UgUZVgyTcbx7rnnnoSWDtNXCpIZQYp1zATinAb8XWlXth1XPyLrveaaa9KCL+PvzEVgMxRmrLNzFo+xH3Y4vJBRxUMSRztciewEyohRbtvHFW8SfSUbZs+y1CgV0DacJLDMhnXNsWOkUdsVbcdSJoYCKBnHnvDxcxkDZv4CM5pZq/3www97W4Vos9j7kljKfEUkzyMDJjAxWz2VRVlpkdyl4CsiIhIxTbgSERGJmIKviIhIxBR8RUREIqbgKyIiEjEFXxERkYgp+IqIiERMwVdERCRiCr4iIiIRU/AVERGJmIKviIhIxBR8RUREIqbgKyIiEjEFXxERkYgp+IqIiERMwVdERCRiup6viEge0bVrV7/gfsmSJW3t2rX22GOP2SeffBI8KslEma+ISB5w2mmn2XHHHWevvvqqderUyQoVKmRt2rQJHpVko+ArIimtWLFidscdd/gt1d1+++2eve6ITZs2WcGCBe3AAw+0OXPm2OLFi61UqVLBo5JsFHxFUlSjRo3slVdesWHDhtno0aPt3nvv9UC0u7nlllvs4IMPthdeeCE48o8qVarYeeedF9yL1o60z8svv2zVqlWzjh07Bkfi9+GHH1qTJk2sX79+VrNmTatQoYItXLgweFSSTf4yZcrcFXwtIimiWbNm1rJlS3vmmWfsgQcesDVr1vgxsp/p06cHz8r7CKxhkJsyZYofI+A2aNDALrvsMrv66qs9ML/xxhv+WFR2tH1+//13K1q0qD+XMdsffvgheCRnrr/+eitQoIA9+OCD/jMl+SjzFUkxlSpVsrPOOsvee+89mzhxoh+jU9+6dat33Kmobdu21qdPn+Be/Bo3bmxLliyxESNGBEfMjj76aA/I/E0SYWfbZ+TIkbZy5Ur/GTuC8nuJEiWsR48etueeewZHJdko+IqkmFNPPdXy5cvn5cxQ1apV/djPP/8cHEkt+fPn9wlCOcEEI8Y3v/322+DINsOHD/eMlyD2119/BUejs7Pts27dOvv666/9vZ144onB0fjwvsuXL2/vv/++Z/+XXHJJ8IgkG5WdRTLA2Nw111zjmdWff/5pv/zyix177LF2ww03+ONMaEkUyplz5871Tvb888+3ypUr2znnnGOfffaZDRw4MHhWxijJtm/f3urXr+/Z1dKlSz1L5BgTdLifCLVq1bKyZcva2LFjgyPZO/fcc+2QQw7xIPvTTz8FR//BmOcpp5xiGzdujLTsvDPtE9p7772tTp06tmzZMvvyyy+Do9vw2bz88svtiiuu8CyboF6kSBE78sgjrUOHDl5mJ/Dy/bTpmDFjgu+UZKLMVyQDd911l5UrV86D1XXXXefH6FTp1HJSDqQDPuOMMzyIZ3c788wz/fdlhY6X10UJk4DJ99EJc4IwePDg4FkZ43vDmbTHH3+8Z0lo1aqVnXzyyR6EUwl/WwLrihUrgiOJtzPtE4tS+ubNm22fffYJjmxDJszPof2YYFW3bl174oknrEuXLn7/9NNP9+VG4Y0lR5KcFHxF0iEI7rXXXp5RMWYWjh2+9NJL9uuvv9rq1av9fjzoPMnqateuHdctu+BLZ4u33nrLg3q9evU8oDLGd+WVV/pjmWnRooUHq6+++sqfz9cYOnSoZ8FMCkolZcqU8UlJU6dODY4k3s60TywC75YtWzx7D5HlMgua8jybZ1Be//TTT720Pnv27OBZkiq0w5VIOgRAgi47BV111VX2zjvvWN++ff2x/v3727Rp02zAgAGe5bRr186+++47H2OLArNYDzjggLTyN+iUH330UT8xoHPObJejGjVq+PNZjkJG9txzz3kWxffffffdvjkDZV/e/4UXXujlyhkzZvj3ZIcTDAIN5ex3333XZ/lmplu3bnb44YcH97ZhIhK33377LTiyDRlg7969MyyHP/nkk16epSKREV4T74u/QWbPCTG7uGnTpj5DOCsEutdee82XDmUknvbhM8O4MKVi1uU+++yzfqIXK3zt8+bNS1t2dO2119rFF19skydPthtvvNGP3XfffZ4NP/TQQ/45ldShzFckHcZzCbCU9jZs2JA25kaHSECbOXOm32/YsKFnN3SiUdl33329Q45FZ1+8eHHPlrLa5YiTBCb8MBuY5SdhxshY4R577GHff/+936d0ecIJJ1jhwoX9fjxYm0qplb9Pdnr16mWtW7f+142AzetLf5xyahTj0GSRLE1K//vT3/hbZhZ4kV37cAJEGzELmkDKe+P3EqCzw/g22XD4+ePkj/HdVatWpY15M3QQDpNIclPwFckAneF+++3nQYpMA0xgoTQ7adIkzzYIWmHplvHHjJAJktXQ2WZ3Gz9+vE+YyQyvqWLFijZ//vzgyDa8DrJG1oRSIs9qlyMmjVGuXbRokQc7cJLBz1y+fLlnZHTyf/zxh2f/dPDxoHQ9a9YsDw5R4sQnzOgTLZ72CRGQmdVMoOaxzD4/sWt0mRG+fv16n8yFsC3ZSCNsSyahHXroof61JDcFX5EsEEzoJCnFsmsQ5WU6SrLLY445xoMvnR1jehkhqFLmJQhndyOTfvrpp4Pv3B7ZJZlV7LgwJwFMAGNpyqBBg+Le5YgsFXw/Jxlvv/22Bw/GnatXr+4ThA477DB/TrLiBILMPp5sOwrxtA9BkhL4bbfd5ic2LEFiwlgYPEOU0zmxIKsNEdTDkxu+l4lyvHeCOr+TwMvv54SLKo0kNy01EskAnR7ZCSVaMsOzzz7bxz+ff/55zwrp+CkfkhU//PDDkewiROdKp0snT1mYMUqWsFA+ZnY2JwmxMtrliA6c8WDGXDl54D2MGzfOx3fJfFm2wokFwZj3SmZFACEbJlCkv5FlsxwG3Kc6QPn6iy++8GPxIljkdKkR2T3vhQw/dq0vQwHMAOYkhOydzJ/SLm34448/enDKDTltH5ay8Rlj7Dr90jUqEGT0o0aN8tcMPnNHHHGEDwswRs0JH39/yuBMEGRZFX8Tgjnj3OEwgiQnZb4imWCSFTNU2T2pe/fuPqklRCmRcbwo1/uS1bA1IRsnUMoeMmSIB5SMOvasdjlisg7jwXTa/Bu7BCYs4Ub5vnYUs7YpwxKQYrGzFGOfJ510kp84cULAUiomkTGWn1ty0j4ML1CZ6Nmzp5/MpS/vU01h8hlDESHahJ3A+JlkvVRdOKnid3LytGDBAg+8nHgwhi3JTcFXJAt0eHTm6YMRZT46TTJJtkUk68tNlITp3JlsQ0c+YcKETK/TGs8uR5Q5eV/pJzPxe+jACdwEBh7neQTqjG7py6U7ivf1wQcfBPfiQyWCyXBk5bGl3kTISfuQtVJ1+O9//+sbcLBhBhlriKDM+2FuQRi0WStMFsxMaXBiQWmacfZwjJm/A9WL9GPOkpwUfEV2ABObGG8kg2GmKZ1gbqKUyWzZ7EqJBNvmzZv72O2dd95pnTt3ztGsZX4H44jM7M3J+lmWDxEgqAYwxhkuzYoXY+M7slSGtdeMT5PVJlK87UNlgZMhhjP4m3EJQdaCx57EsB6bddeMEYcI1qVLl/YbJXQ+dyzD4v2D4E/ZnvFfliaxwYckN63zFdlBjDey4UYUJVoyIcrHuVk2DRG4mVEbxRKfXYExaQLOm2++mbBy665qH5YysckL68ljM2d+PmPIBF+CPGPclJrDzJjgy3poqjEsj3vkkUdSYuhgd6bgKyIpL8qTk9y0Myd0DDVQxg4vrSjJTcFXREQkYhrzFRERiZiCr4iISMQUfEVERCKm4CsiIhIxBV8REZGIKfiKiIhETMFXREQkYgq+IiIiEVPwFRERiZiCr4iISMQUfEVERCKm4CsiIhIxBV8REZGIKfiKiIhETMFXREQkYvnLlClzV/C1iKSwYsWK2U033WTnnnuu/fHHH/b3/21r166dtW7d2ipUqGAzZ860008/3Tp06GBnnnmmFShQwGbNmhV8tySjKlWqWPv27a1+/fq2cuVKW7p0qTVq1MiPLV682O9LalLwFckjunTpYgcccIDtvffeHoBPOOEE++abb2z9+vXWvHlzq1OnjtWoUcMmTJhglSpVsqZNm9qCBQvs559/Dn6CJBNOpnr27Gm///67t93BBx9sY8aMsdtvv92OPfZY++uvv+yTTz4Jni2pRmVnkTyAjvrQQw+1jz76yIoWLepZ7SuvvGLPPPOMB+CtW7dakSJFvDMfPny4/fbbb/48grAkpxYtWtjGjRvtq6++shIlSvjXGDp0qGfBa9as8fuSmhR8RfIIAi2lyFKlSnmJmSCLqlWrWv78+W3KlCk2Z84cP0YZet26dTZ37ly/H2rZsqWXqiXxPvvsM3vyySft6KOPtoIFC9r06dP9+Pfff2+LFi1Ka0tK07fccovVrFnT70tqUPAVyQMIpATXQw45xLPg2FIy2e2ff/5p3377rd+nk95///1tyZIlNmnSJD8Gvu+CCy6wfffdNzgiifTdd995OxJ8KT1PnTrVjx955JG2xx57eBAG4/gMMRQuXNjvS2pQ8BXJQwi0mzZtSuuYCagco0T5448/+rG6devaXnvtZTNmzPAslxtjweeff76XounouS+Jx9guE+fIdAnGOP74423+/Pm2fPlyO/XUU/2Eiwl2e+65p7e3pAYFX5E8hBLkqlWr7KeffvL7BFo6b0qUdNg4/PDDPROeNm2aHXPMMR5syabq1avn48JkvpSlJXkwZo8TTzzR9ttvP3v77bf9pKp27dpWvXp1b8/DDjvMnyOpQcFXJI+oVauWZz8E2jBLOuigg3y8MMx6wQznLVu22EUXXWQrVqywN954wydnMQmLAN2jRw8bN25c8GxJJIYFqFCQ3fbr18+uu+46n1RHCZpx/Y8//tgD73vvvWePP/64Dz9IashXuXLlbadUIrspluhQbqVzS/XOi0yISVTh+s/y5ct7x/3FF1/8670RqBGOI1KufP75531m9L333uvHUhWl2ksvvdTeeustmzhxYnA0tTEMwDg91YrYtb2s9z3rrLPsvvvuS2tLSQ1a5yu7te7du3u5lVIrnTaZBusnU9XChQt9/C/E12Sz6d8TY4jcQqwj5e/w4Ycf+hphOnoCcaqhLMtGI0w+OuWUU/z9//DDD8GjqWvZsmU+lBDbtmCCHJOvyILbtm3ra7glNajsLLstyq6UZe+++27vsIsXL26XXHJJ8OjuhTI0GjRo4EuVRo4c6fdTScWKFX0zkc8//9zb8Z133rEmTZr48bxq8+bNVrJkSd/FTJlvalHZWUQck7UYM6a0Kakj/VCDpAYFX8nTGMu8/vrrrXTp0jZixAhbu3atZ0OUVb/88kt7+eWXPdtr2LChP3/8+PE2evRo/1pSQ7Nmzey4447zk4ZXX33V25xxfHaB6t+/f/Cs7FGyJuuPB4FOmabsDAVfydPY+efAAw/07fkY1129erW9//773smec845Nnv2bH/eqFGjvPNlAwomrzD2mRPquBOjTZs2ftEBZnDTBg888IDvbd2xY0efyX3bbbelzfzOzjXXXOMT1OLB5hdMUBPZUQq+kmeRAT3xxBO+DIPsiE6ZTIhtFxs3bmy33nqrT1BiaQ3Lc/iXmaPPPvusDR48OPgp27ZcpBw7YMCA4Mj21HFHj/Z95JFHvFrBDk+cOPXp08eXSXGc6gbBmVne8bShSJQUfCXPonOmQ2YZUbdu3TzLJSMCpWgm5wwbNsweffRRP8Y+ulw5hqU24baL/IxELMFh0lCqogQchbB9N2zYYPfcc49vLsISI9C+XOHphhtuUBvugKjacHem4Ct5Hmsh6ZSZwdu3b18/9tBDD/muTmGmFJabYztw1layry5ZE9kzyzjiLWFKdDJqX9ZsMwmJIYZ425ALU3BlqHiw8cW1114b3BPJOQVfyfMIqowHEnBZfkIm9OKLL/pl98iQWAcb24Gz3SKYnHXyySf7ciSuMMM4cGY7P6nj3h7bHz744IO+VSXlXv7muYH2Pemkk/x30X60dYcOHezpp5/21xBvG4pESet8Jc/b0f2Oc7LlIsGbiT/x3PJS4G3UqJFveZgZNvdge0vGX3MTex9zQQkwc52NNbjQvLbNzF52bSi5Q8FX8rSd2e+YDJkx4Hnz5gXPkvTYDSuzjJ+Ad/HFF/tFAHITQZadn5hc9dxzz1m5cuX8gvNQG2YvqzaU3KOys+R5O7rfMaVMJuyQPZE9M0uZdaSJcN5559nXX3/tJxFR4n1Tmqd8ywX5qQg89thj/i9X0bniiiu8WsDa6IyWTxH8WP7DtYZjZ5DvavwetshkKVns61Ab7nwbSu5Q5it5Hh1/7O4/fM1s5vQXUaDjie18ErnlIsGEa7WyTvn111/3zjPq7IROm1Its8S51m+rVq38dbGVIScvlND5u7CGmpnFGbn88sv970glITfRlkymSh881IY734aSOxR8RTJBOfPGG2/0db9s1pA+WOcmNgYhU+Ki9yylYfP8qNFBc8F2LlUH3j/BjKVbY8aM8VI9JXrWUrN2OiOTJ0/2NbdR/u1iqQ13vg0ldyj4imSBEmEi9jpmfJpJMF27drU1a9YER6PD0qtq1ar5BhYhSrhkSeEkNTInOvbwfkb420VdZk1PbbhzbSi5Q8FXRLbD2lhmiLPcip3AKB8zeYosiRIq44dly5b1WcVsXMJsb0kuasPkpuArItuhZMo1ZDt16uQXomAmMbOGmbkcZrIsI2LCTvXq1X0zC0kuasPkpuArItvZb7/9/ALtTNBh0wouTD9r1ixr0aKFZ0yUKbly0MCBA71zT3RpWbanNkxuCr4ieQQXj2A5D2tcs7qx0xQXlsgM44JMyIldBw02q+B4eAEJZo0zk1x2HYLkoEGDMmy32NuQIUPssssuC75re2rD5Kd1viJJjgs+UBq8//77I7nWMJ06G+uTDcViAwuyqe7du/vWnPXq1fOlKu+++65vrymZS8Y2LF68uF111VX+Lzu+sfVmr169gmdKblPmKyL/wgxYNmCIRUb2n//8xy/ByMxhZtGypWPJkiWDZ0gyiacNmzZt6juDscnG2LFjfVvOCy+8MHi25DYFXxH5F8YD2YuZzRgQbsrA5Jzw4giUPhk/DDexkOQSTxtu3rzZy89MzArbkmteSzRUdhZJUnSSf///tEKFCvkGDWzUwMUfCHy5dTF+xgpZckLHnC9fPlu8eLFnuYwV9u/f37fkDDFu3LlzZ9+cQWXnjCV7G4ZYi0zmy1agXHpRcp+Cr4ikiR0rZK9rdmeiRBm7PWdIwTc55aQNwdabbAbCjldc+lGiobKziKRhrPDXX3/1r9knmSwos05bklNO2pBxYCZdsekGE67YC1qioeArImnIktiEX1JXvG1IoGXHK/bf5mpQZMzMYJdoqOwsIo5JOewHPGPGjGwvQNCtWzffvrBChQqeVTFhh6v3SGLlpA379u3rJWfGhcE2lH369PGZz5L7FHxFREQiprKziIhIxBR8RUREIqbgKyIiEjEFXxERkYgp+IqIiERMwVdERCRiCr4iIiIRU/AVERGJmIKviIhIxBR8RUREIqbgKyIiEjEFXxERkYgp+IqIiEQsf5kyZe4KvhYRyTM6dOjg16vNnz+/rVq1ytq3b+/XrOVi8z/99JP98ccfwTNFoqfgKyJ5TqtWrezkk0+2jRs32nnnnefXrV22bJnNmTPHmjVr5tchnjBhwrYniySAys4ikuccc8wxNn36dCtcuLDfJk6c6BeK/+qrr2z9+vW21157Bc8USQwFXxHJc4YPH25jx461fffd1xYuXGgvvPCCH69SpYqVLFnSfv/9d78vkigKviKS50yZMsWqVq1qZcqUsV9++cXWrVvnxw888ED/94cffvB/RRJFwVdE8iSyXCZb/fjjj8ERs2rVqtmff/5pc+fODY6IJIaCr4jkSQcffLBt2LDBZzajRo0aVq5cOVuyZIlNmjTJj4kkioKviORJ5cuXt8WLF9vkyZP9PsGYMvTs2bP9vkgiKfiKZKNLly729ttv+wSeO+64Iziauho1amSvvfaajRo1ygYPHuzl2byod+/e3l7heO+hhx7q/+aFkjNt1rdvX19SJalJwVckC3fddZc1bNjQO7qBAwfaiSeeaBdeeGHwaOphjWvnzp3to48+sv/7v/+zEiVK2JVXXhk8mrdMmzbN1/WGKleu7BtrpPpkKwLv7bffbv/5z3/s0ksvtXbt2gWPSCpR8BXJBFlF/fr1PVB98skntnbtWitYsGDKZoq8bnZ8Yszz+eeft/nz59tff/1lBxxwQPCMvIvxXjbWWL58uc+ETmVXXHGFl9Ovuuoqe+aZZ+ykk06y2rVrB49KqlDwFclAsWLF7JxzzvGSZbgTElligQIFrFChQn4/1bRo0cLHQTmR4H1VqlTJ30uqvp+cYNbzggUL7MMPPwyOpC6y3ttuu83bcOTIkb5lZqqfUOyOFHxFMtC4cWMPTvPmzbOpU6f6MdaIEqi2bNni91MJ76VWrVq+x/EXX3zhx1h2w4YTqfh+cmrGjBl27bXX+tBBKuDkjwB7//332wknnGA1a9a07t2721NPPeVlZh7nM/rQQw/5ja8lteSrXLny1uBrEQncd999dtppp9mXX37p2RKBlw6QcUN2SxowYEDwzNzFGHOpUqWCe1lbunRp2olCemS9BB92dnrrrbe88yb4Hn/88R6MO3XqFDxTksEtt9zinzmqLezStXr1anv//ff9s0BFJpyxzaQ5PiN8NvnM5oXMfnehzFckA4yPsin/mjVrfLyQDJGSLRN2Zs6cGTwr9x111FE+nhfPjQ44MyyzYY9jLi7ACcQ+++zja17z5cunpTcJwOeLkzs+U+lxYsTMbOYaFC1a1Ic6XnnlFR/f/eabb2zr1q1WpEgR69mzp2+j+dtvv/nzqG5I6lDmK5IO5dm7777bg+/111/vE5POPfdcu/HGG33ckBmmYMkOWxg+9thjfj8e/Ox69er5RK53333XO9QoPPnkk3b44YfbE088Ya+//rp38Ey62nvvvf2CA+PGjfOAwEzuMWPGeJk2I926dfOfkx2y8Icfftj/dhn5/PPPg6/yruOOOy74ansvvfSSX9pwxIgR1qtXr+DoNrQNJ1IEVP7enBx17NjRH+Pz2Lx5cxs2bJg9+uijfoy25eTq3nvvTds8hJ9Befq7777zjFmSj4KvSDph8CVwsBwHTHI566yzfF1sGDDp9BB2jLFuuOEGz1zSl4Fbt27tGSfBnA40yuBLxsvSKSbnhCcTdM7h6+d6t7xHypeZla9l1yCoUvIfNGiQT5rKCO3BiR6Ps9QNjO8eeeSRaSdMYbmZsfzwpBC0L9czfvrpp+2dd94JjkoyUdlZJBOU90BGePTRR/s2hWQs3KdzYyyOJR8E63gNHTrUZs2aFfckJ4Izl8OL50ZWmxV+5+bNm/1rJvGwzIjMiyzp1FNP9UyMsvqee+7pxyT3kO1yneHMAi8oI2/atMm+//57v0+bcIyhkHC/6rp16/rlEalUkOlyYwyYAE3lBhmVtiXxFHxF0iEbjL3kHEs56PiGDBniyzsIUpSNmfzChJjcXCdL9sPviufGhKrMkMWHJxNstEFJlHLke++95x06Y8bVq1f3iw4cdthh/rxkREXi6quv3qFbquEkj4w23JuaQMv2mGwcEpbzGQKgzdhQhGsYE6xpW74m+DJ2zGdUkk/+vxvzruBrEfkbGSFjoWQQbGDArGAy0NGjR/vjjMERqMqWLeuTXj799FOflEWnxxgwNzpOMk0CG/fJPhgvBvfr1KnjGU247Ce30UHzfgisJ598spfEKV2CjSeYeMXrZxtNxoL5GyQbsnV247ruuuv875bTWyqhmsIQAJ81Tvpw+umn+wQ8ZjSH7yecgc8JIJunMM6+aNEin8zFntbc17WLk5OCr0gGWGLEjXW+/fr181mmsdq0aeNZMGVkMI5bunRp/xoVK1b0oMZVdcC/iQy+dMgffPCBz3bmNacvdzJ5jEk7HOe5yahHjx4efMNyal5GG5DxMl7LUAD4/Hz99dc+US88OWLDFD5HTGALgzQnV2TJVDZiL6coyUVlZ5FMUH5mdyuCbCyyWbJe9ghmshKlYZ5LZhzeWJdJ1hLep5NMNGYgM0kndr/jEO9pxYoVXqIkm082bCJRvHhxH+/MCJWGvHahASbG0WYhvmY2c/rPI5PjYifI8bcgYFOaprrByZ4kHwVfkR1A5kEJl/JzTpZyMMuVvXkJJJQVw1msicZELNYyMxs7GWc6c2UpZvVmhGCjCw38g3FfdmJjtjPZMxP8JPloqZHIDmAMl7G2zPbUzWypUTJj0hWX24vNtpIBa49POeUUu+aaa4Ij/8b6Vjai4F/GOnl+//79d2i/47Zt23r5vWvXrsGR1MTYMNWXjKockhwUfEUkqXESc+edd/qYdW5jCIHZ7Jw8ieQmlZ1FJGkx1vu///1vu8BLhsvYNMEyXJPM7k+U9ROF8vdFF13kF/BnOZdIVhR8RSRpkfGGM8pDZ5xxhs82Zw0sF4zgGsUNGjTwCw6wWQiBOUoMQTzyyCO+WxXLgbh8oUh2FHxFJGEImlxlic0g0gs3Apk+fXpwZBuCK2PpBLmCBQv6Mi7Wvo4fP96/zmxGdG4g6+YEgR2lHn/8cV8KxX0ueCCSFY35ikhCsOvU/vvv72uMCbLpS8YEZQIZa1tjMTHsl19+8WvdMkOb696y1IssmKyYSVNo2bKlb5WZ2eUf+X3pLxLBxQy4caWgWGxg0bt37+0mozG5i00/2FAlXB/Na2Orz8wuKiECBV8RSQjGSJmNS8mWKz2dffbZacGNa9kyu/nmm2/2++mFF4ZgkxL+BcuNuNQeF50nI2WnLjZHYRZ0vHI64YoA3qRJE9+mk53OQDk8GdZ1S3JT2VlEEiJcBvPmm2/6v7GTlNi85LXXXgvubY/ATdk5vBYxm4QcdNBB9tVXX/lWn+eff75nsGytyP3cxBrphQsXJtWGKpL8FHxFJKHYtYntEZlEReZK1spWnfGskQ6vDkUmTKn4jTfe8PFXMml+FleeqlChgj8nN1DuZpw59spBnBjoSkKSHe3tLCIJx4YQjP2uXLnSJ1qNHTvWx04zQ7bJZR4pERNoyXoZ2/3111+91Mzexjync+fOOdpoggsasHUovz8eM2fO9H29GzZs6K+DjJtLBfLaw6sRiWREY74ikhS4MEDhwoU9m2WyVDy4UhNiS707Ot6LHd1kg0yXXaXYU1llZ4mHMl8RSQpkvc2bN/f9ruPNVrnST3i1qBBXjCILZfkR5WhmVKe/KlVmuLAE2XNOrwZE0CXTTf9aRDKjMV8RSQpcQYrZy1x5aWeE48CsIS5VqtR2l0/MysSJE/0yfiK5TWVnEclzmPTEGt9p06YFR0SSi4KviIhIxFR2FhERiZiCr4iISMQUfEVERCKm4CsiIhIxBV8REZGIKfiKiIhETMFXREQkYgq+IiIiEVPwFRERiZiCr4iISKTM/h+uxibdZFQftQAAAABJRU5ErkJggg==)"
      ],
      "metadata": {
        "id": "ZBSDe1B4UYCX"
      }
    },
    {
      "cell_type": "markdown",
      "source": [
        "5. Adagrad (Adaptive Gradient Algorithm)\n",
        "Description:\n",
        "\n",
        "  - Adapts the learning rate for each parameter based on the historical sum of squared gradients.\n",
        "\n",
        "\n",
        "![image.png](data:image/png;base64,iVBORw0KGgoAAAANSUhEUgAAAhoAAABiCAYAAAAWV3qjAAAAAXNSR0IArs4c6QAAAARnQU1BAACxjwv8YQUAAAAJcEhZcwAADsMAAA7DAcdvqGQAABM2SURBVHhe7d0HcFRlF8bxE4rSVLqKCgYpioCoINg+KcOoWEBlRJrgSFEYROyFooh0sSAdVIpYUIoMUZQi0osVFFQEKSIoqFhAlPLNc7gbIRCyCXvDkvx/MzvJvbsbNprknj3vOedNSExM3GcAAAAhyBF8BAAAiDkCDQAAEBoCDQAAEBoCDQAAEBoCDQAAEBoCDQAAEJojBhqdO3e2pUuXHnSbM2eO1atXL3hEfNDr0et64403gjMAACAeRJXRWL58uSUlJflt+vTptmHDhuAeAACA1EUVaKxZs8a6devmt549e3rgAQAAkJajqtFo0qSJTZkyxRYtWmRLliyxGTNmWKdOnYJ7zQYPHmwLFiyw4cOH27x583xpo23btn7upZdesgkTJvjzZs+ebW3atLEBAwb4ffp6o0aNstKlS/vX0fMOXLJJa6mkUqVKNnLkSP83tdyjr6mvnS9fPqtatapNmzbNXxsAAAhXVIFG/fr1k2s0dJHWxfqWW26xVq1aWd68eW3y5Mk2fvx427t3r59v3bp18Eyz3Llz2xlnnGGPP/64NWrUKDhrVrZsWVu1apUvxegxLVu29MeNGzfOtmzZYhUqVMhwLUiJEiUsT548Nnr0aBs4cKD99ttvVqNGDWvevHnwCAAAkBnSXaMxc+ZM++mnn6xmzZoeZLzzzjvWu3dve+655zzYkOrVq/tHUfCh7INuB1q3bp316tXLRowYYT///LPt3r3b3n77bc80LF682HLmzGkFCxYMHp0+Cl6aNWvmX3vMmDGe0VAwU6xYMVu2bJldd9111q5du+DRAAAgLOmu0dASxPr1661o0aL2zz//+H0RCkD27NljJ510UnDG/Hj79u3B0X9+//1327Fjh38tfZ19+/bZn3/+6fdt27bNA4+M0tJJ//79PeCYO3eu3XjjjcE9AAAgM2W4RmPr1q12wgknJNdRSPHixT0ToUAhlpQVSUhIsAIFCvhxrly5/Dg1HTp0sMsuu8yXenr06OGZGAAAkPkyHGhoCULZCmULHnnkEb+433bbbX6flj5iadOmTV5zoX9LtRwtWrTwZZvURDIqu3btspIlS3p9RgTFoAAAZJ4MBxoqtFQNhJY4br75Zi+0VOZB53RfLE2cONFrOsqVK+fdKSoW3blzZ3DvoWbNmuX3KzC59dZbbe3atcE9AAAgMyUkJibuCz4HAACIqQxnNAAAANJCoAEAAEJDoAEAAEJDoAEAAEJDoAEAAEJDoAEAAEJDoAEAAEJDoAEAAEJDoAEAAEJDoAEAAEJDoAEAAEJDoAEAAEJDoAEAAEJDoAEAAEJDoAEAAEJDoAEAAEJDoAEAAEJDoAEAAEJDoAEAAEJDoAEAAEKTkJiYuC/4HACyjYsvvtgaN25sP/30k73yyitWtWpVq1Onjt83c+ZMS0pK8s8BHJ2chQoVeiL4HACyhXz58tnDDz9sv/32m9WsWdMDjDJlytisWbOsQoUKdvXVV9vatWttw4YNwTMAZBRLJwCynSuvvNJOPPFEW758uX/8999/rUePHvb222/b+vXrLU+ePHbKKacEjwZwNAg0AGQ73377rb344ot25plnWkJCgs2ZM8fWrFnj95199tm2a9cu++OPP/wYwNEh0ACQ7Sio+Oyzz6x8+fIeVHz33Xd+XssmxYoVsy1bttjcuXP9HICjQ6ABIFsqWbKknX766bZt2zZbsGCBn6tYsaIVKlTIl08AxAaBBoBs6bzzzrOCBQvaxo0bbceOHX5Oyyby9ddf+0cAR49AA0C2FAkqVBAakZiYaH/99ReBBhBDzNFAlqdWxkcffdQuuugiy5Ejh02ZMsWGDh0a3Ht86tSpk7dlqjti/vz51r179+AeRKt48eIeWCxevNiPVZ/Rq1cv+/3336158+Z+DsDRI6OBLE1BRr9+/axs2bLWoUMHe++99+yGG26wyy+/PHjE8eeJJ57wuQ99+/a1UaNG+ffSsGHD4F5ES4O6IkGGaI6G6jNWr14dnAEQCwQayNLatGnj71Tfffdd7zT4+++/LW/evHbOOecEjzi+3HbbbXbVVVfZRx995JmMP//803Lnzm2lS5cOHoGMOvfcc/2jBnUBiB0CDWRZlSpVstq1a/s71wkTJvg5LTXowqxg43ij7Mz111/vhYuaYCkFChSwXLly2QknnODHyDjNzVDL67x584IzAGKBQANZlt75Fy1a1FasWJHcVaCWRtVp7N2714+PJ/Xq1fPXv27dOlu2bJmfU0Gjgozj8fuJN0OGDLF77rkneXAX9rv00kutZ8+e1qdPH5+oWr169eAeIDrsdYIsS8smkeFLhQsXtptuusnOP/98z2hMmzYteUhT2FRDoeyK6kTSumns9aZNm4JnHqxp06ZWrlw527x5s2cylN2oXLmyP0dzID755JPgkcCRaalNm8pp6U1dNql57LHH7I477rClS5f649q3b+9ZQv0MZtbvD45/ZDSQJVWpUsWHMSmToX0sVKdx8sknW5EiRXwjrZUrV/rjrr32Wn8Xmx7a5fPee++1SZMmWdu2bYOzqdNr0bvAaG4KSFKji8M///zjKX59PyeddJJ3TugCsGrVquTHPPTQQ0f8OsCTTz7pWYpWrVoFZw7VunVr//3QMt2gQYNsxIgRvgy5fft2//3RUl7Hjh2tbt26wTOAw6O9FVmSlhm0O6f2tIj8MVVQ0KJFC1u4cKHdf//9fm7w4MH+sV27dv7xQPfdd58XXUaWKSKaNGnimRJ1r6j2Y9iwYcE94VFwo4uDAg39cdfkSv37+j60w2ikHVPf4zXXXGNPP/30Ia87Qt0q2uMjLVpC6Ny5c3B0KL3LRfyqVq1a8NmhlKm45JJL7KWXXrJ33nknOPsfLdENGDDAB5r17t3bZsyY4csmXbp08a4c/b7o5++uu+7yVvGpU6cGzwQORaCBLCkSaOjdmC7QoqBCnQUvvPCCffHFF76MorSwCgCTkpIOuTCnFmiIvr6yGtrtMzMDDQUYd999t5/TH30FFWPGjLGxY8dajRo1fDlFWQ5dQBYtWpRcmwKkh7bJf+SRR3yJpHHjxn5OQawCWgUm6niqVauWL7/oZ01twsp2AIfD0gmytD179vhHDbdSS6uCismTJ/tmWioWVX2D6h1KlSrljwuDAhHtDhrNTTuKHsm+ffvfF2iJ5MILL/R1cgUZegeqpReN1VYLr4IoIKNy5szpRdMH1gvpZ2z37t0+sl3ZEg3AU4ZNwbt+h4DUkNFAlqQaBS0fLFmyxFPAGtpVokQJ69q1a/LIaS1BqFDzgQce8EyB6h4iY6lFqWXVPmhSpGhtWu/kJLMzGloPHz58uL8Wpa01tEsZDH1v77//vj9GqW1lYV577TV78803/Vw802vXaz6eRQK/eKSf34yK/P5o6VHLc7fccosXgup3QL830r9/f/99eP755/0YSA2BBrIs1RfoYvzzzz/7hVpLJpFAQVLWZ8RzoCEqztMffLW3qtB15MiRB62vR1OfEU+05HP77bcHR4g3+nm7+eabPUMm6tz68ssvqc9AurF0giyrR48e/s5fF+RGjRodFGQoDawZG9o8S384dZH+6quvvFYjclOAocK3yPGBzz8WVPWvjMUbb7zhE0JTFvHpe9KW50pj63uPZ6o5UWsl4pd+3tR1orZwje7XUkpkszkt3anbSZlAFYuqNRtIDYEGsjS9s08tQFDbq2oZVNfwwQcfBGfTFpktkD9/fs8gqIsjsygYUoHr4Yo8VY+illd1xcR7RuPWW2/1pSDEHwWsCs5Hjx7tn4vqMJTZ+Pzzz/1YtRoaFKeshuqEtMQCpIalE2RbKXfvTOlIXSfxSgWh2qsj3jsAPvzwQy/QRfyJdJxoyVHLW6pj0s/VxIkTDypW1nwYZf2YpIq0EGgAyFSnnXaaZ11UDIr41KBBA586q+4T1SZp6UTZNCAjCDQAZCq9W9ZF63CDomJB9TiaAqsaAwDHHjUaADKVOmfCCjLUXaROCWVNAMQHAg0AmUYFtNOnTw+OYkvtyeqQyJs3r/36669+DODYI9AAkGnURqwJqGG44IIL7IorrrA8efJ4RkMD2jKbCic1klstyBqkpg4lILujRgNAptFGbLoYa3R1hFqFVRyqdsn0UseQdquN0LCyU0899Yi7koZJrc7KqGifHe1Jo8FuQ4YMsbfeeit4BJD9kNEAkGmUzTgwyBCdUyvliSeeaLNnz/Y9aFK76eL98ssv+6AoBSaa7xDZEl/1GWXKlPHJqceKZpmobVoTZjVbYu/evVakSJHgXiB7ylmoUKEngs8BIDRaNvnmm29s5cqVwZn9VE8h2iROG9/t3LnTVqxY4edSUkCijfEmTZrkA9e0e6gGSWlPG42b19KJZnRoRLa2wk/t64Rl5syZnr3Q61S9iCZoTps2zYdaRUOZGA0z07bsQFZBRgNAptBFdN68ecHRwbRnjDpRcufO7VuRa3klLRompYu4JruKsgeiQWDalTeszpZo6DVorxxtbhfZ9C4amluRkSUkIJ6R0QCQKVSsOWHChODoUF988YUvg2jfDO1Do2UUZS2ORM/ZvHmzZ0U0oVI1IMpivPrqq2k+NywKktq0aWOTJ0+2hQsXWsGCBZOzNmnRHjD63jPSmaPsiUbiq71XXyNl5gg4VshoAIgJ7faZGm0Cp4vukWj/lvHjx/uyw0UXXeTbk6dFz1FBaGTvFwUbWloJ26WXXmo9e/a0Pn36+Fb3GtEtutg3bdrUFixY4OO5tTutlnPCpJqQZ5991rtd6tat61kRIJ6Q0QBw1BRk6GKb2nKF3uWr6DOtd/YbNmzwJRAFGqVKlfIdXuPtnXlkUz1lT7SDafv27a127dqeWVF9xWWXXeavv1atWt5mq+xEtDUa6c1oqABWnTYVK1b0fUi0k6pqVMhmIJ7Q3grgqNSpU8cLHxVoaFvxrVu3Bvf8Z+jQob7TZ7S0vb+WAdRB8uijj8bNxl0KqJSlUG2ILuq60GuX01y5clnHjh29GyZaClgUIBxIrbG6/fLLL8GZ/bZs2WK9evU6ZLO8hg0b2j333OPB2aZNm/zcxo0bPehIz2sBwsTSCYAMU5Chwsdx48b5sTo/UlInyaeffhocRUfLAMoCaHfd9AQoYdKW6drZdNeuXck7+qrrRYWnP/74Y7ov7Fp60fyQA2+RzctSnu/UqdNhd+QtV66cF49ql2H9P9BtypQpBBmIKwQaADJM7ZxdunSxRYsW+XGkVuFA1apVS7M+IyVdKF9//XV/l57aNv6ZTd0tmomhGpJI+6nGnCur8f333/uxghFd7JXtyCya3fHDDz9YUlKS3+bPnx/cA8QHAg0AMfH55597S2dKCj7UHZIeKqrUcoxaQ9X6mh4KfNTdou6VaKiYsn79+jZ48GAbO3ZscPZQKrLMkSNH8hKFKLDYvXt3ck2EAiQtpajrJTMo+6EMi76HCP23O/AYONYINADEhDotChcubJUrVw7OmBUrVizdaXxdKB988EGvz9DFP730rn7QoEE+mTMaGll+xhln+BLEkWZYqFB1+/btwdH+XWjVfaICVwVZoqJXdcAsX77cj8OmFlp9v//73/9s2LBhNmrUKHvmmWesSpUqwSOAY49AA0BMzJ071z+q6yJCn2tqZ7S0DKG2VhU39uvXLzibOj1eGRN9FC1laHlD7/SjpaBAAU3K0egp6XFTp071f0OTSZs1a+ZZjkh9hvZc0QwLFXmqliOz9O/f31tqlflRbUskEwTEC7pOAMSMujFUtKj2T1HrpZYyIlM706JuExWPduvWLapOk5YtW3owowFZN954o7eZqi1WraeqlVBXhoo1D0dLHiqijOwmq2BDQUqjRo38OC0aqa5gQyPHn3/+eevQoYMHHtqTpWvXrhnKaui5J598sgc0QFZBRgNAzHz88cfesqlpmNokTXMmog0y2rVr58suaoWNJsjQRVkZhNWrV/tx/vz57ZNPPrGEhASvo1CWYcCAAR60HO721FNPRb1lvWoxRo4c6fUX+ly0oZv2WYksmwwcONC7UJRNyejSiV4PQQayGgINADETaftU7YIyDcosREP1DppqqSLKtLomVAehiZzdu3f3JRMFF/Laa6/5gCxlKmbNmuXnYkUdJ8q0aMaFgiHNtNBIdbWSakCWaLlE2RMFOcpoANiPpRMAMaOlB82C0E3v9vUuX6O4j0SBg+oalAVRkJAaZSpUrHngiO1Vq1b5JmyioEMFkcpk7Nu3z1tqy5cvH7OlkwYNGniQoX9fRaGRmRcRWqZp0aKFF42qRkKFmgAINADEmC72evevC73qM9KiLhO1oh4YQERL8ysiF3stafTt29e7PtRuGk0xqSjQufPOO+2ss87y3WMVqChTkd62WtH3obkW8TLJFIgHBBoAYkqFmRrVrRqIzN6qXfMjTj/99OS6CQDHHjUaAGJKBaF6V5+ettZYUccLQQYQXwg0AMSUAo2JEyf6bqYAwNIJAAAIDRkNAAAQGgINAAAQGgINAAAQGgINAAAQGgINAAAQGgINAAAQGgINAAAQGgINAAAQGgINAAAQGgINAAAQErP/AxoLZpliO6VIAAAAAElFTkSuQmCC)\n"
      ],
      "metadata": {
        "id": "7aUpOlTkUjYo"
      }
    },
    {
      "cell_type": "markdown",
      "source": [
        "6. Adadelta\n",
        "\n",
        "  - Description: Improves Adagrad by reducing aggressive, monotonically decreasing learning rates.\n",
        "\n",
        "7. Nadam (Nesterov-accelerated Adaptive Moment Estimation)\n",
        "\n",
        "  - Description: Extends Adam with Nesterov momentum for better performance.\n",
        "\n"
      ],
      "metadata": {
        "id": "55QGDjj6U4YH"
      }
    },
    {
      "cell_type": "markdown",
      "source": [
        "# Q.17 What is sklearn.linear_model ?"
      ],
      "metadata": {
        "id": "9mCk5HmpVHiO"
      }
    },
    {
      "cell_type": "markdown",
      "source": [
        "sklearn.linear_model is a module in Scikit-learn, a popular machine learning library in Python, that provides tools for creating and working with various types of linear models. Linear models are fundamental algorithms for supervised learning tasks, including regression and classification, where the relationship between input features and the target variable is assumed to be linear."
      ],
      "metadata": {
        "id": "WV2cZcYFVP7j"
      }
    },
    {
      "cell_type": "markdown",
      "source": [
        "Key Algorithms in sklearn.linear_model\n",
        "\n",
        "  - Linear Regression\n",
        "\n",
        "    - Purpose: Solves regression problems by finding the best-fit line (or hyperplane) to predict continuous target values.\n",
        "\n",
        "- Logistic Regression\n",
        "\n",
        "  - Purpose: Solves classification problems by modeling the probability of class membership using the logistic function.\n",
        "\n",
        "- Logistic Regression\n",
        "\n",
        "    - Purpose: Solves classification problems by modeling the probability of class membership using the logistic function.\n",
        "\n",
        "- Lasso Regression\n",
        "\n",
        "    - Purpose: Adds L1 regularization to linear regression to perform feature selection by shrinking coefficients of less important features to zero.\n",
        "\n",
        "- ElasticNet\n",
        "\n",
        "    - Purpose: Combines L1 (Lasso) and L2 (Ridge) regularizations.\n",
        "\n",
        "- Perceptron\n",
        "\n",
        "    - Purpose: A simple linear classification algorithm that uses the perceptron learning rule.\n",
        "\n",
        "- SGDRegressor and SGDClassifier\n",
        "\n",
        "    - Purpose: Implements stochastic gradient descent for linear regression (SGDRegressor) and classification (SGDClassifier).\n",
        "\n",
        "- BayesianRidge\n",
        "\n",
        "    - Purpose: Performs linear regression using Bayesian inference.\n",
        "\n",
        "\n",
        "\n",
        "\n",
        "sklearn.linear_model is useful for:\n",
        "\n",
        "\n",
        "    - Handling simple and scalable models for regression and classification.\n",
        "    \n",
        "    - Introducing regularization to prevent overfitting.\n",
        "    \n",
        "    - Performing feature selection (e.g., Lasso regression).\n",
        "    \n",
        "    - Solving optimization problems efficiently with SGD.\n"
      ],
      "metadata": {
        "id": "t14HIjRAVlqz"
      }
    },
    {
      "cell_type": "markdown",
      "source": [
        "# Q.18 What does model.fit() do? What arguments must be given?"
      ],
      "metadata": {
        "id": "WjAs7euCWx3u"
      }
    },
    {
      "cell_type": "markdown",
      "source": [
        "The fit() method in a machine learning model is used to train the model. It adjusts the internal parameters of the model (e.g., weights and biases in linear regression) based on the training data provided. This process involves learning the relationship between input features (independent variables) and the target variable (dependent variable).\n",
        "\n",
        "\n",
        "When you call model.fit(X, y):\n",
        "\n",
        "  - 1.Input (X): Training data (features or independent variables).\n",
        "  - 2.Target (y): Labels or values the model needs to predict (dependent variable).\n",
        "\n",
        "The fit() method:\n",
        "\n",
        "- 1. Analyzes the data provided.\n",
        "- 2. Learns the mapping from X to y (depending on the model, this can involve minimizing a loss function).\n",
        "Updates the model's internal parameters.\n",
        "Arguments Required by fit()\n",
        "\n",
        "\n",
        "1. Training Features (X):\n",
        "  - A 2D array-like structure (e.g., a Pandas DataFrame, NumPy array, or similar) containing the input data.\n",
        "\n",
        "  - Each row represents an individual observation, and each column represents a feature.\n",
        "\n",
        "\n",
        "2. Target Values (y):\n",
        "\n",
        "  - A 1D array-like structure (e.g., list or array) containing the target variable values for each observation.\n",
        "\n",
        "  - For classification, y may represent class labels.\n",
        "\n",
        "  - For regression, y contains continuous values.\n",
        "\n",
        "Lets do some examples :"
      ],
      "metadata": {
        "id": "aK6RHfBJXOc_"
      }
    },
    {
      "cell_type": "code",
      "source": [
        "# Linear Regression Example:\n",
        "from sklearn.linear_model import LinearRegression\n",
        "\n",
        "X = [[1], [2], [3], [4]]\n",
        "y = [2.5, 3.5, 4.5, 5.5]\n",
        "\n",
        "model = LinearRegression()\n",
        "model.fit(X, y)\n",
        "\n",
        "print(\"Coefficient:\", model.coef_)\n",
        "print(\"Intercept:\", model.intercept_)"
      ],
      "metadata": {
        "colab": {
          "base_uri": "https://localhost:8080/"
        },
        "id": "fxvJiGEvYIKE",
        "outputId": "30a3953a-1e04-4429-ec8e-2059ecaf81f2"
      },
      "execution_count": 35,
      "outputs": [
        {
          "output_type": "stream",
          "name": "stdout",
          "text": [
            "Coefficient: [1.]\n",
            "Intercept: 1.5\n"
          ]
        }
      ]
    },
    {
      "cell_type": "code",
      "source": [
        "# Logistic Regression Example:\n",
        "from sklearn.linear_model import LogisticRegression\n",
        "X = [[1, 2], [3, 4], [5, 6], [7, 8]]\n",
        "y = [0, 0, 1, 1]\n",
        "\n",
        "model = LogisticRegression()\n",
        "\n",
        "model.fit(X, y)"
      ],
      "metadata": {
        "colab": {
          "base_uri": "https://localhost:8080/",
          "height": 80
        },
        "id": "xsNbGPWUYWa1",
        "outputId": "98d0c344-61a6-49de-bd9b-4fde6759be2e"
      },
      "execution_count": 36,
      "outputs": [
        {
          "output_type": "execute_result",
          "data": {
            "text/plain": [
              "LogisticRegression()"
            ],
            "text/html": [
              "<style>#sk-container-id-3 {\n",
              "  /* Definition of color scheme common for light and dark mode */\n",
              "  --sklearn-color-text: #000;\n",
              "  --sklearn-color-text-muted: #666;\n",
              "  --sklearn-color-line: gray;\n",
              "  /* Definition of color scheme for unfitted estimators */\n",
              "  --sklearn-color-unfitted-level-0: #fff5e6;\n",
              "  --sklearn-color-unfitted-level-1: #f6e4d2;\n",
              "  --sklearn-color-unfitted-level-2: #ffe0b3;\n",
              "  --sklearn-color-unfitted-level-3: chocolate;\n",
              "  /* Definition of color scheme for fitted estimators */\n",
              "  --sklearn-color-fitted-level-0: #f0f8ff;\n",
              "  --sklearn-color-fitted-level-1: #d4ebff;\n",
              "  --sklearn-color-fitted-level-2: #b3dbfd;\n",
              "  --sklearn-color-fitted-level-3: cornflowerblue;\n",
              "\n",
              "  /* Specific color for light theme */\n",
              "  --sklearn-color-text-on-default-background: var(--sg-text-color, var(--theme-code-foreground, var(--jp-content-font-color1, black)));\n",
              "  --sklearn-color-background: var(--sg-background-color, var(--theme-background, var(--jp-layout-color0, white)));\n",
              "  --sklearn-color-border-box: var(--sg-text-color, var(--theme-code-foreground, var(--jp-content-font-color1, black)));\n",
              "  --sklearn-color-icon: #696969;\n",
              "\n",
              "  @media (prefers-color-scheme: dark) {\n",
              "    /* Redefinition of color scheme for dark theme */\n",
              "    --sklearn-color-text-on-default-background: var(--sg-text-color, var(--theme-code-foreground, var(--jp-content-font-color1, white)));\n",
              "    --sklearn-color-background: var(--sg-background-color, var(--theme-background, var(--jp-layout-color0, #111)));\n",
              "    --sklearn-color-border-box: var(--sg-text-color, var(--theme-code-foreground, var(--jp-content-font-color1, white)));\n",
              "    --sklearn-color-icon: #878787;\n",
              "  }\n",
              "}\n",
              "\n",
              "#sk-container-id-3 {\n",
              "  color: var(--sklearn-color-text);\n",
              "}\n",
              "\n",
              "#sk-container-id-3 pre {\n",
              "  padding: 0;\n",
              "}\n",
              "\n",
              "#sk-container-id-3 input.sk-hidden--visually {\n",
              "  border: 0;\n",
              "  clip: rect(1px 1px 1px 1px);\n",
              "  clip: rect(1px, 1px, 1px, 1px);\n",
              "  height: 1px;\n",
              "  margin: -1px;\n",
              "  overflow: hidden;\n",
              "  padding: 0;\n",
              "  position: absolute;\n",
              "  width: 1px;\n",
              "}\n",
              "\n",
              "#sk-container-id-3 div.sk-dashed-wrapped {\n",
              "  border: 1px dashed var(--sklearn-color-line);\n",
              "  margin: 0 0.4em 0.5em 0.4em;\n",
              "  box-sizing: border-box;\n",
              "  padding-bottom: 0.4em;\n",
              "  background-color: var(--sklearn-color-background);\n",
              "}\n",
              "\n",
              "#sk-container-id-3 div.sk-container {\n",
              "  /* jupyter's `normalize.less` sets `[hidden] { display: none; }`\n",
              "     but bootstrap.min.css set `[hidden] { display: none !important; }`\n",
              "     so we also need the `!important` here to be able to override the\n",
              "     default hidden behavior on the sphinx rendered scikit-learn.org.\n",
              "     See: https://github.com/scikit-learn/scikit-learn/issues/21755 */\n",
              "  display: inline-block !important;\n",
              "  position: relative;\n",
              "}\n",
              "\n",
              "#sk-container-id-3 div.sk-text-repr-fallback {\n",
              "  display: none;\n",
              "}\n",
              "\n",
              "div.sk-parallel-item,\n",
              "div.sk-serial,\n",
              "div.sk-item {\n",
              "  /* draw centered vertical line to link estimators */\n",
              "  background-image: linear-gradient(var(--sklearn-color-text-on-default-background), var(--sklearn-color-text-on-default-background));\n",
              "  background-size: 2px 100%;\n",
              "  background-repeat: no-repeat;\n",
              "  background-position: center center;\n",
              "}\n",
              "\n",
              "/* Parallel-specific style estimator block */\n",
              "\n",
              "#sk-container-id-3 div.sk-parallel-item::after {\n",
              "  content: \"\";\n",
              "  width: 100%;\n",
              "  border-bottom: 2px solid var(--sklearn-color-text-on-default-background);\n",
              "  flex-grow: 1;\n",
              "}\n",
              "\n",
              "#sk-container-id-3 div.sk-parallel {\n",
              "  display: flex;\n",
              "  align-items: stretch;\n",
              "  justify-content: center;\n",
              "  background-color: var(--sklearn-color-background);\n",
              "  position: relative;\n",
              "}\n",
              "\n",
              "#sk-container-id-3 div.sk-parallel-item {\n",
              "  display: flex;\n",
              "  flex-direction: column;\n",
              "}\n",
              "\n",
              "#sk-container-id-3 div.sk-parallel-item:first-child::after {\n",
              "  align-self: flex-end;\n",
              "  width: 50%;\n",
              "}\n",
              "\n",
              "#sk-container-id-3 div.sk-parallel-item:last-child::after {\n",
              "  align-self: flex-start;\n",
              "  width: 50%;\n",
              "}\n",
              "\n",
              "#sk-container-id-3 div.sk-parallel-item:only-child::after {\n",
              "  width: 0;\n",
              "}\n",
              "\n",
              "/* Serial-specific style estimator block */\n",
              "\n",
              "#sk-container-id-3 div.sk-serial {\n",
              "  display: flex;\n",
              "  flex-direction: column;\n",
              "  align-items: center;\n",
              "  background-color: var(--sklearn-color-background);\n",
              "  padding-right: 1em;\n",
              "  padding-left: 1em;\n",
              "}\n",
              "\n",
              "\n",
              "/* Toggleable style: style used for estimator/Pipeline/ColumnTransformer box that is\n",
              "clickable and can be expanded/collapsed.\n",
              "- Pipeline and ColumnTransformer use this feature and define the default style\n",
              "- Estimators will overwrite some part of the style using the `sk-estimator` class\n",
              "*/\n",
              "\n",
              "/* Pipeline and ColumnTransformer style (default) */\n",
              "\n",
              "#sk-container-id-3 div.sk-toggleable {\n",
              "  /* Default theme specific background. It is overwritten whether we have a\n",
              "  specific estimator or a Pipeline/ColumnTransformer */\n",
              "  background-color: var(--sklearn-color-background);\n",
              "}\n",
              "\n",
              "/* Toggleable label */\n",
              "#sk-container-id-3 label.sk-toggleable__label {\n",
              "  cursor: pointer;\n",
              "  display: flex;\n",
              "  width: 100%;\n",
              "  margin-bottom: 0;\n",
              "  padding: 0.5em;\n",
              "  box-sizing: border-box;\n",
              "  text-align: center;\n",
              "  align-items: start;\n",
              "  justify-content: space-between;\n",
              "  gap: 0.5em;\n",
              "}\n",
              "\n",
              "#sk-container-id-3 label.sk-toggleable__label .caption {\n",
              "  font-size: 0.6rem;\n",
              "  font-weight: lighter;\n",
              "  color: var(--sklearn-color-text-muted);\n",
              "}\n",
              "\n",
              "#sk-container-id-3 label.sk-toggleable__label-arrow:before {\n",
              "  /* Arrow on the left of the label */\n",
              "  content: \"▸\";\n",
              "  float: left;\n",
              "  margin-right: 0.25em;\n",
              "  color: var(--sklearn-color-icon);\n",
              "}\n",
              "\n",
              "#sk-container-id-3 label.sk-toggleable__label-arrow:hover:before {\n",
              "  color: var(--sklearn-color-text);\n",
              "}\n",
              "\n",
              "/* Toggleable content - dropdown */\n",
              "\n",
              "#sk-container-id-3 div.sk-toggleable__content {\n",
              "  max-height: 0;\n",
              "  max-width: 0;\n",
              "  overflow: hidden;\n",
              "  text-align: left;\n",
              "  /* unfitted */\n",
              "  background-color: var(--sklearn-color-unfitted-level-0);\n",
              "}\n",
              "\n",
              "#sk-container-id-3 div.sk-toggleable__content.fitted {\n",
              "  /* fitted */\n",
              "  background-color: var(--sklearn-color-fitted-level-0);\n",
              "}\n",
              "\n",
              "#sk-container-id-3 div.sk-toggleable__content pre {\n",
              "  margin: 0.2em;\n",
              "  border-radius: 0.25em;\n",
              "  color: var(--sklearn-color-text);\n",
              "  /* unfitted */\n",
              "  background-color: var(--sklearn-color-unfitted-level-0);\n",
              "}\n",
              "\n",
              "#sk-container-id-3 div.sk-toggleable__content.fitted pre {\n",
              "  /* unfitted */\n",
              "  background-color: var(--sklearn-color-fitted-level-0);\n",
              "}\n",
              "\n",
              "#sk-container-id-3 input.sk-toggleable__control:checked~div.sk-toggleable__content {\n",
              "  /* Expand drop-down */\n",
              "  max-height: 200px;\n",
              "  max-width: 100%;\n",
              "  overflow: auto;\n",
              "}\n",
              "\n",
              "#sk-container-id-3 input.sk-toggleable__control:checked~label.sk-toggleable__label-arrow:before {\n",
              "  content: \"▾\";\n",
              "}\n",
              "\n",
              "/* Pipeline/ColumnTransformer-specific style */\n",
              "\n",
              "#sk-container-id-3 div.sk-label input.sk-toggleable__control:checked~label.sk-toggleable__label {\n",
              "  color: var(--sklearn-color-text);\n",
              "  background-color: var(--sklearn-color-unfitted-level-2);\n",
              "}\n",
              "\n",
              "#sk-container-id-3 div.sk-label.fitted input.sk-toggleable__control:checked~label.sk-toggleable__label {\n",
              "  background-color: var(--sklearn-color-fitted-level-2);\n",
              "}\n",
              "\n",
              "/* Estimator-specific style */\n",
              "\n",
              "/* Colorize estimator box */\n",
              "#sk-container-id-3 div.sk-estimator input.sk-toggleable__control:checked~label.sk-toggleable__label {\n",
              "  /* unfitted */\n",
              "  background-color: var(--sklearn-color-unfitted-level-2);\n",
              "}\n",
              "\n",
              "#sk-container-id-3 div.sk-estimator.fitted input.sk-toggleable__control:checked~label.sk-toggleable__label {\n",
              "  /* fitted */\n",
              "  background-color: var(--sklearn-color-fitted-level-2);\n",
              "}\n",
              "\n",
              "#sk-container-id-3 div.sk-label label.sk-toggleable__label,\n",
              "#sk-container-id-3 div.sk-label label {\n",
              "  /* The background is the default theme color */\n",
              "  color: var(--sklearn-color-text-on-default-background);\n",
              "}\n",
              "\n",
              "/* On hover, darken the color of the background */\n",
              "#sk-container-id-3 div.sk-label:hover label.sk-toggleable__label {\n",
              "  color: var(--sklearn-color-text);\n",
              "  background-color: var(--sklearn-color-unfitted-level-2);\n",
              "}\n",
              "\n",
              "/* Label box, darken color on hover, fitted */\n",
              "#sk-container-id-3 div.sk-label.fitted:hover label.sk-toggleable__label.fitted {\n",
              "  color: var(--sklearn-color-text);\n",
              "  background-color: var(--sklearn-color-fitted-level-2);\n",
              "}\n",
              "\n",
              "/* Estimator label */\n",
              "\n",
              "#sk-container-id-3 div.sk-label label {\n",
              "  font-family: monospace;\n",
              "  font-weight: bold;\n",
              "  display: inline-block;\n",
              "  line-height: 1.2em;\n",
              "}\n",
              "\n",
              "#sk-container-id-3 div.sk-label-container {\n",
              "  text-align: center;\n",
              "}\n",
              "\n",
              "/* Estimator-specific */\n",
              "#sk-container-id-3 div.sk-estimator {\n",
              "  font-family: monospace;\n",
              "  border: 1px dotted var(--sklearn-color-border-box);\n",
              "  border-radius: 0.25em;\n",
              "  box-sizing: border-box;\n",
              "  margin-bottom: 0.5em;\n",
              "  /* unfitted */\n",
              "  background-color: var(--sklearn-color-unfitted-level-0);\n",
              "}\n",
              "\n",
              "#sk-container-id-3 div.sk-estimator.fitted {\n",
              "  /* fitted */\n",
              "  background-color: var(--sklearn-color-fitted-level-0);\n",
              "}\n",
              "\n",
              "/* on hover */\n",
              "#sk-container-id-3 div.sk-estimator:hover {\n",
              "  /* unfitted */\n",
              "  background-color: var(--sklearn-color-unfitted-level-2);\n",
              "}\n",
              "\n",
              "#sk-container-id-3 div.sk-estimator.fitted:hover {\n",
              "  /* fitted */\n",
              "  background-color: var(--sklearn-color-fitted-level-2);\n",
              "}\n",
              "\n",
              "/* Specification for estimator info (e.g. \"i\" and \"?\") */\n",
              "\n",
              "/* Common style for \"i\" and \"?\" */\n",
              "\n",
              ".sk-estimator-doc-link,\n",
              "a:link.sk-estimator-doc-link,\n",
              "a:visited.sk-estimator-doc-link {\n",
              "  float: right;\n",
              "  font-size: smaller;\n",
              "  line-height: 1em;\n",
              "  font-family: monospace;\n",
              "  background-color: var(--sklearn-color-background);\n",
              "  border-radius: 1em;\n",
              "  height: 1em;\n",
              "  width: 1em;\n",
              "  text-decoration: none !important;\n",
              "  margin-left: 0.5em;\n",
              "  text-align: center;\n",
              "  /* unfitted */\n",
              "  border: var(--sklearn-color-unfitted-level-1) 1pt solid;\n",
              "  color: var(--sklearn-color-unfitted-level-1);\n",
              "}\n",
              "\n",
              ".sk-estimator-doc-link.fitted,\n",
              "a:link.sk-estimator-doc-link.fitted,\n",
              "a:visited.sk-estimator-doc-link.fitted {\n",
              "  /* fitted */\n",
              "  border: var(--sklearn-color-fitted-level-1) 1pt solid;\n",
              "  color: var(--sklearn-color-fitted-level-1);\n",
              "}\n",
              "\n",
              "/* On hover */\n",
              "div.sk-estimator:hover .sk-estimator-doc-link:hover,\n",
              ".sk-estimator-doc-link:hover,\n",
              "div.sk-label-container:hover .sk-estimator-doc-link:hover,\n",
              ".sk-estimator-doc-link:hover {\n",
              "  /* unfitted */\n",
              "  background-color: var(--sklearn-color-unfitted-level-3);\n",
              "  color: var(--sklearn-color-background);\n",
              "  text-decoration: none;\n",
              "}\n",
              "\n",
              "div.sk-estimator.fitted:hover .sk-estimator-doc-link.fitted:hover,\n",
              ".sk-estimator-doc-link.fitted:hover,\n",
              "div.sk-label-container:hover .sk-estimator-doc-link.fitted:hover,\n",
              ".sk-estimator-doc-link.fitted:hover {\n",
              "  /* fitted */\n",
              "  background-color: var(--sklearn-color-fitted-level-3);\n",
              "  color: var(--sklearn-color-background);\n",
              "  text-decoration: none;\n",
              "}\n",
              "\n",
              "/* Span, style for the box shown on hovering the info icon */\n",
              ".sk-estimator-doc-link span {\n",
              "  display: none;\n",
              "  z-index: 9999;\n",
              "  position: relative;\n",
              "  font-weight: normal;\n",
              "  right: .2ex;\n",
              "  padding: .5ex;\n",
              "  margin: .5ex;\n",
              "  width: min-content;\n",
              "  min-width: 20ex;\n",
              "  max-width: 50ex;\n",
              "  color: var(--sklearn-color-text);\n",
              "  box-shadow: 2pt 2pt 4pt #999;\n",
              "  /* unfitted */\n",
              "  background: var(--sklearn-color-unfitted-level-0);\n",
              "  border: .5pt solid var(--sklearn-color-unfitted-level-3);\n",
              "}\n",
              "\n",
              ".sk-estimator-doc-link.fitted span {\n",
              "  /* fitted */\n",
              "  background: var(--sklearn-color-fitted-level-0);\n",
              "  border: var(--sklearn-color-fitted-level-3);\n",
              "}\n",
              "\n",
              ".sk-estimator-doc-link:hover span {\n",
              "  display: block;\n",
              "}\n",
              "\n",
              "/* \"?\"-specific style due to the `<a>` HTML tag */\n",
              "\n",
              "#sk-container-id-3 a.estimator_doc_link {\n",
              "  float: right;\n",
              "  font-size: 1rem;\n",
              "  line-height: 1em;\n",
              "  font-family: monospace;\n",
              "  background-color: var(--sklearn-color-background);\n",
              "  border-radius: 1rem;\n",
              "  height: 1rem;\n",
              "  width: 1rem;\n",
              "  text-decoration: none;\n",
              "  /* unfitted */\n",
              "  color: var(--sklearn-color-unfitted-level-1);\n",
              "  border: var(--sklearn-color-unfitted-level-1) 1pt solid;\n",
              "}\n",
              "\n",
              "#sk-container-id-3 a.estimator_doc_link.fitted {\n",
              "  /* fitted */\n",
              "  border: var(--sklearn-color-fitted-level-1) 1pt solid;\n",
              "  color: var(--sklearn-color-fitted-level-1);\n",
              "}\n",
              "\n",
              "/* On hover */\n",
              "#sk-container-id-3 a.estimator_doc_link:hover {\n",
              "  /* unfitted */\n",
              "  background-color: var(--sklearn-color-unfitted-level-3);\n",
              "  color: var(--sklearn-color-background);\n",
              "  text-decoration: none;\n",
              "}\n",
              "\n",
              "#sk-container-id-3 a.estimator_doc_link.fitted:hover {\n",
              "  /* fitted */\n",
              "  background-color: var(--sklearn-color-fitted-level-3);\n",
              "}\n",
              "</style><div id=\"sk-container-id-3\" class=\"sk-top-container\"><div class=\"sk-text-repr-fallback\"><pre>LogisticRegression()</pre><b>In a Jupyter environment, please rerun this cell to show the HTML representation or trust the notebook. <br />On GitHub, the HTML representation is unable to render, please try loading this page with nbviewer.org.</b></div><div class=\"sk-container\" hidden><div class=\"sk-item\"><div class=\"sk-estimator fitted sk-toggleable\"><input class=\"sk-toggleable__control sk-hidden--visually\" id=\"sk-estimator-id-3\" type=\"checkbox\" checked><label for=\"sk-estimator-id-3\" class=\"sk-toggleable__label fitted sk-toggleable__label-arrow\"><div><div>LogisticRegression</div></div><div><a class=\"sk-estimator-doc-link fitted\" rel=\"noreferrer\" target=\"_blank\" href=\"https://scikit-learn.org/1.6/modules/generated/sklearn.linear_model.LogisticRegression.html\">?<span>Documentation for LogisticRegression</span></a><span class=\"sk-estimator-doc-link fitted\">i<span>Fitted</span></span></div></label><div class=\"sk-toggleable__content fitted\"><pre>LogisticRegression()</pre></div> </div></div></div></div>"
            ]
          },
          "metadata": {},
          "execution_count": 36
        }
      ]
    },
    {
      "cell_type": "markdown",
      "source": [
        "***The model.fit() method is the backbone of training in supervised learning. By providing the input features X and target labels y, the model learns the parameters or coefficients that define the mapping from inputs to outputs. It is essential to preprocess and structure the data properly before calling fit() to ensure successful model training.***"
      ],
      "metadata": {
        "id": "XYqzAp6LYhPF"
      }
    },
    {
      "cell_type": "markdown",
      "source": [
        "# Q.19 What does model.predict() do? What arguments must be given?"
      ],
      "metadata": {
        "id": "E0GWtuPxYqIL"
      }
    },
    {
      "cell_type": "markdown",
      "source": [
        "The predict() method is used to make predictions on new, unseen data after a machine learning model has been trained using fit(). It applies the model's learned parameters to the input data (X) and outputs the predicted values.\n",
        "\n",
        "  - For regression models, it returns continuous values.\n",
        "\n",
        "  - For classification models, it returns class labels.\n",
        "\n",
        "\n",
        "Arguments Required by predict()\n",
        "\n",
        "1. Features (X)\n",
        "\n",
        "  - A 2D array-like structure (e.g., a NumPy array, Pandas DataFrame, or similar) containing the input data.\n",
        "\n",
        "  - The shape of X must match the number of features the model was trained on.\n",
        "  \n",
        "  - Each row represents an observation, and each column represents a feature\n",
        "\n",
        "\n",
        "\n"
      ],
      "metadata": {
        "id": "muRqdd5rY78Z"
      }
    },
    {
      "cell_type": "markdown",
      "source": [
        "Lets see some  Example of predict()\n",
        "\n"
      ],
      "metadata": {
        "id": "2c4RfuL6ZCDE"
      }
    },
    {
      "cell_type": "code",
      "source": [
        "from sklearn.linear_model import LinearRegression\n",
        "\n",
        "X_train = [[1], [2], [3], [4]]\n",
        "y_train = [2.5, 3.5, 4.5, 5.5]\n",
        "\n",
        "model = LinearRegression()\n",
        "\n",
        "model.fit(X_train, y_train)\n",
        "\n",
        "X_test = [[5], [6], [7]]\n",
        "\n",
        "predictions = model.predict(X_test)\n",
        "print(\"Predicted values:\", predictions)"
      ],
      "metadata": {
        "colab": {
          "base_uri": "https://localhost:8080/"
        },
        "id": "f01_TW4UZfRE",
        "outputId": "83a04ae9-d9cc-41de-b6e0-a6fdd20243aa"
      },
      "execution_count": 37,
      "outputs": [
        {
          "output_type": "stream",
          "name": "stdout",
          "text": [
            "Predicted values: [6.5 7.5 8.5]\n"
          ]
        }
      ]
    },
    {
      "cell_type": "code",
      "source": [
        "# Logistic Regression\n",
        "from sklearn.linear_model import LogisticRegression\n",
        "\n",
        "X_train = [[1, 2], [3, 4], [5, 6], [7, 8]]\n",
        "y_train = [0, 0, 1, 1]\n",
        "\n",
        "model = LogisticRegression()\n",
        "model.fit(X_train, y_train)\n",
        "\n",
        "X_test = [[2, 3], [6, 7]]\n",
        "\n",
        "predictions = model.predict(X_test)\n",
        "print(\"Predicted class labels:\", predictions)"
      ],
      "metadata": {
        "colab": {
          "base_uri": "https://localhost:8080/"
        },
        "id": "xzh4TerGZl7U",
        "outputId": "e4c54e4d-402f-4648-d84a-1d04ca7d4244"
      },
      "execution_count": 38,
      "outputs": [
        {
          "output_type": "stream",
          "name": "stdout",
          "text": [
            "Predicted class labels: [0 1]\n"
          ]
        }
      ]
    },
    {
      "cell_type": "markdown",
      "source": [
        "# Q.20 What are continuous and categorical variables?"
      ],
      "metadata": {
        "id": "P1nSamAPZxg1"
      }
    },
    {
      "cell_type": "markdown",
      "source": [
        "Continuous Variables:\n",
        "\n",
        "- Continuous variables are variables that can take on an infinite number of values within a given range. These variables are measurable and can be expressed as any value, including fractions or decimals. The values of continuous variables are typically derived from measurements and can represent things like quantities, amounts, or dimensions.\n",
        "\n",
        "Characteristics of Continuous Variables:\n",
        "\n",
        "- Can take any value within a range or interval (e.g., 0.1, 0.01, 3.7, 200).\n",
        "- Can have an infinite number of possible values.\n",
        "- Often measured rather than counted.\n",
        "- Represented on a scale with a meaningful order, and they can be subject to mathematical operations like addition, subtraction, and averaging.\n",
        "\n",
        "\n",
        "\n",
        "Examples of Continuous Variables:\n",
        "\n",
        "- Height (e.g., 5.4 feet, 5.55 feet, 5.555 feet)\n",
        "- Weight (e.g., 150.5 lbs, 180.25 lbs)\n",
        "- Temperature (e.g., 72.5°F, 100.3°F)\n",
        "- Time (e.g., 3.4 seconds, 9.25 hours)\n",
        "- Income (e.g., $45,000.75, $100,000.00)\n",
        "\n",
        "\n",
        "Categorical Variables:\n",
        "\n",
        "\n",
        "- Categorical variables are variables that represent categories or groups and are typically used to classify data. These variables have distinct categories that represent different groups, but the categories have no inherent numerical value or order. Categorical variables are also known as qualitative variables.\n",
        "\n",
        "Characteristics of Categorical Variables:\n",
        "\n",
        "\n",
        "- Represent categories or labels (e.g., colors, names, types).\n",
        "\n",
        "- Do not have a meaningful numerical value or order (nominal or ordinal).\n",
        "\n",
        "- Can be divided into two types:\n",
        "  - Nominal: Categories with no intrinsic order (e.g., color, gender, nationality).\n",
        "\n",
        "  - Ordinal: Categories with a meaningful order or ranking (e.g., education level, customer satisfaction).\n",
        "\n",
        "\n",
        "Examples of Categorical Variables:\n",
        "\n",
        "\n",
        "- Gender (e.g., Male, Female, Non-binary)\n",
        "- Marital Status (e.g., Single, Married, Divorced)\n",
        "- Blood Type (e.g., A, B, AB, O)\n",
        "- Education Level (e.g., High School, Undergraduate, Graduate) – This is ordinal because the levels have a meaningful order.\n",
        "\n",
        "\n",
        "  - Favorite Color (e.g., Red, Blue, Green) – This is nominal because there is no inherent ranking of colors.\n",
        "\n",
        "\n",
        "\n",
        "\n",
        "Summary:\n",
        "- Continuous variables deal with measurements and can take any value within a range. They are used for numerical analysis.\n",
        "\n",
        "- Categorical variables deal with classification into distinct groups or categories. They are typically used to represent qualitative data and often serve as factors in statistical models."
      ],
      "metadata": {
        "id": "oJThCxpyZ8Y1"
      }
    },
    {
      "cell_type": "markdown",
      "source": [
        "# Q.21 What is feature scaling? How does it help in Machine Learning?"
      ],
      "metadata": {
        "id": "DAmeG5t-aQjg"
      }
    },
    {
      "cell_type": "markdown",
      "source": [
        "Feature scaling is a data preprocessing technique used to normalize the range of independent variables or features in a dataset. It ensures that all features contribute equally to the model by bringing them into the same range or distribution."
      ],
      "metadata": {
        "id": "Ml6_mIBZaX7h"
      }
    },
    {
      "cell_type": "markdown",
      "source": [
        "Why is Feature Scaling Important?\n",
        "\n",
        "  1.Equal Contribution of Features:\n",
        "\n",
        "  - Models that use distance metrics (e.g., k-NN, SVM) or gradient-based optimization (e.g., linear regression, logistic regression) are sensitive to the scale of the input features.\n",
        "\n",
        "  - Features with larger ranges can dominate smaller-scaled features, leading to biased results.\n",
        "\n",
        "\n",
        " 2.Speeds Up Convergence:\n",
        "\n",
        "  - Gradient descent optimization converges faster when the input features are scaled, as it reduces the likelihood of zigzagging in the search space.\n",
        "\n",
        "3.Improves Accuracy:\n",
        "\n",
        "  - Feature scaling can improve the performance and accuracy of a model, especially for algorithms that rely on Euclidean distances.\n",
        "\n",
        "\n",
        "**Common Techniques for Feature Scaling**\n",
        "\n",
        "1. Min-Max Scaling (Normalization)\n",
        "\n",
        "  - Scales features to a fixed range, usually [0, 1].\n",
        "\n",
        "![image.png](data:image/png;base64,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)"
      ],
      "metadata": {
        "id": "KwnUXq9Capjq"
      }
    },
    {
      "cell_type": "markdown",
      "source": [
        "2. Standardization (Z-Score Normalization)\n",
        "Centers the feature around 0 and scales it to have unit variance.\n",
        "\n",
        "\n",
        "![image.png](data:image/png;base64,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)\n",
        "\n",
        "where\n",
        "𝜇\n",
        "μ is the mean and\n",
        "𝜎\n",
        "σ is the standard deviation.\n",
        "\n",
        "\n",
        "3. Robust Scaling\n",
        "\n",
        "  - Scales features using the median and the interquartile range, making it robust to outliers.\n",
        "\n",
        "\n",
        "![image.png](data:image/png;base64,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)\n",
        "\n",
        "4. MaxAbs Scaling\n",
        "\n",
        "  - Scales data by its maximum absolute value, keeping values between -1 and 1.\n",
        "\n",
        "\n",
        "![image.png](data:image/png;base64,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)"
      ],
      "metadata": {
        "id": "2efe05QKbSMT"
      }
    },
    {
      "cell_type": "markdown",
      "source": [
        "When to Use Feature Scaling?\n",
        "\n",
        "  - Algorithms Sensitive to Feature Scale:\n",
        "\n",
        "    - Support Vector Machines (SVMs)\n",
        "    - k-Nearest Neighbors (k-NN)\n",
        "    - Principal Component Analysis (PCA)\n",
        "    - Gradient Descent-based algorithms\n",
        "\n",
        "- When Features Have Different Units:\n",
        "\n",
        "  - For example, one feature might represent age (in years) and another might represent income (in dollars). Scaling ensures these are comparable.\n",
        "\n",
        "  Lets see exaples:"
      ],
      "metadata": {
        "id": "PIXkyJ8PbZAT"
      }
    },
    {
      "cell_type": "code",
      "source": [
        "# Without Scaling:\n",
        "from sklearn.linear_model import LogisticRegression\n",
        "\n",
        "X = [[1, 1000], [2, 3000], [3, 5000]]\n",
        "y = [0, 1, 0]\n",
        "\n",
        "model = LogisticRegression()\n",
        "model.fit(X, y)"
      ],
      "metadata": {
        "colab": {
          "base_uri": "https://localhost:8080/",
          "height": 80
        },
        "id": "12G6u5MncLrb",
        "outputId": "a59a43ec-d976-469b-f638-96b1031b831d"
      },
      "execution_count": 39,
      "outputs": [
        {
          "output_type": "execute_result",
          "data": {
            "text/plain": [
              "LogisticRegression()"
            ],
            "text/html": [
              "<style>#sk-container-id-4 {\n",
              "  /* Definition of color scheme common for light and dark mode */\n",
              "  --sklearn-color-text: #000;\n",
              "  --sklearn-color-text-muted: #666;\n",
              "  --sklearn-color-line: gray;\n",
              "  /* Definition of color scheme for unfitted estimators */\n",
              "  --sklearn-color-unfitted-level-0: #fff5e6;\n",
              "  --sklearn-color-unfitted-level-1: #f6e4d2;\n",
              "  --sklearn-color-unfitted-level-2: #ffe0b3;\n",
              "  --sklearn-color-unfitted-level-3: chocolate;\n",
              "  /* Definition of color scheme for fitted estimators */\n",
              "  --sklearn-color-fitted-level-0: #f0f8ff;\n",
              "  --sklearn-color-fitted-level-1: #d4ebff;\n",
              "  --sklearn-color-fitted-level-2: #b3dbfd;\n",
              "  --sklearn-color-fitted-level-3: cornflowerblue;\n",
              "\n",
              "  /* Specific color for light theme */\n",
              "  --sklearn-color-text-on-default-background: var(--sg-text-color, var(--theme-code-foreground, var(--jp-content-font-color1, black)));\n",
              "  --sklearn-color-background: var(--sg-background-color, var(--theme-background, var(--jp-layout-color0, white)));\n",
              "  --sklearn-color-border-box: var(--sg-text-color, var(--theme-code-foreground, var(--jp-content-font-color1, black)));\n",
              "  --sklearn-color-icon: #696969;\n",
              "\n",
              "  @media (prefers-color-scheme: dark) {\n",
              "    /* Redefinition of color scheme for dark theme */\n",
              "    --sklearn-color-text-on-default-background: var(--sg-text-color, var(--theme-code-foreground, var(--jp-content-font-color1, white)));\n",
              "    --sklearn-color-background: var(--sg-background-color, var(--theme-background, var(--jp-layout-color0, #111)));\n",
              "    --sklearn-color-border-box: var(--sg-text-color, var(--theme-code-foreground, var(--jp-content-font-color1, white)));\n",
              "    --sklearn-color-icon: #878787;\n",
              "  }\n",
              "}\n",
              "\n",
              "#sk-container-id-4 {\n",
              "  color: var(--sklearn-color-text);\n",
              "}\n",
              "\n",
              "#sk-container-id-4 pre {\n",
              "  padding: 0;\n",
              "}\n",
              "\n",
              "#sk-container-id-4 input.sk-hidden--visually {\n",
              "  border: 0;\n",
              "  clip: rect(1px 1px 1px 1px);\n",
              "  clip: rect(1px, 1px, 1px, 1px);\n",
              "  height: 1px;\n",
              "  margin: -1px;\n",
              "  overflow: hidden;\n",
              "  padding: 0;\n",
              "  position: absolute;\n",
              "  width: 1px;\n",
              "}\n",
              "\n",
              "#sk-container-id-4 div.sk-dashed-wrapped {\n",
              "  border: 1px dashed var(--sklearn-color-line);\n",
              "  margin: 0 0.4em 0.5em 0.4em;\n",
              "  box-sizing: border-box;\n",
              "  padding-bottom: 0.4em;\n",
              "  background-color: var(--sklearn-color-background);\n",
              "}\n",
              "\n",
              "#sk-container-id-4 div.sk-container {\n",
              "  /* jupyter's `normalize.less` sets `[hidden] { display: none; }`\n",
              "     but bootstrap.min.css set `[hidden] { display: none !important; }`\n",
              "     so we also need the `!important` here to be able to override the\n",
              "     default hidden behavior on the sphinx rendered scikit-learn.org.\n",
              "     See: https://github.com/scikit-learn/scikit-learn/issues/21755 */\n",
              "  display: inline-block !important;\n",
              "  position: relative;\n",
              "}\n",
              "\n",
              "#sk-container-id-4 div.sk-text-repr-fallback {\n",
              "  display: none;\n",
              "}\n",
              "\n",
              "div.sk-parallel-item,\n",
              "div.sk-serial,\n",
              "div.sk-item {\n",
              "  /* draw centered vertical line to link estimators */\n",
              "  background-image: linear-gradient(var(--sklearn-color-text-on-default-background), var(--sklearn-color-text-on-default-background));\n",
              "  background-size: 2px 100%;\n",
              "  background-repeat: no-repeat;\n",
              "  background-position: center center;\n",
              "}\n",
              "\n",
              "/* Parallel-specific style estimator block */\n",
              "\n",
              "#sk-container-id-4 div.sk-parallel-item::after {\n",
              "  content: \"\";\n",
              "  width: 100%;\n",
              "  border-bottom: 2px solid var(--sklearn-color-text-on-default-background);\n",
              "  flex-grow: 1;\n",
              "}\n",
              "\n",
              "#sk-container-id-4 div.sk-parallel {\n",
              "  display: flex;\n",
              "  align-items: stretch;\n",
              "  justify-content: center;\n",
              "  background-color: var(--sklearn-color-background);\n",
              "  position: relative;\n",
              "}\n",
              "\n",
              "#sk-container-id-4 div.sk-parallel-item {\n",
              "  display: flex;\n",
              "  flex-direction: column;\n",
              "}\n",
              "\n",
              "#sk-container-id-4 div.sk-parallel-item:first-child::after {\n",
              "  align-self: flex-end;\n",
              "  width: 50%;\n",
              "}\n",
              "\n",
              "#sk-container-id-4 div.sk-parallel-item:last-child::after {\n",
              "  align-self: flex-start;\n",
              "  width: 50%;\n",
              "}\n",
              "\n",
              "#sk-container-id-4 div.sk-parallel-item:only-child::after {\n",
              "  width: 0;\n",
              "}\n",
              "\n",
              "/* Serial-specific style estimator block */\n",
              "\n",
              "#sk-container-id-4 div.sk-serial {\n",
              "  display: flex;\n",
              "  flex-direction: column;\n",
              "  align-items: center;\n",
              "  background-color: var(--sklearn-color-background);\n",
              "  padding-right: 1em;\n",
              "  padding-left: 1em;\n",
              "}\n",
              "\n",
              "\n",
              "/* Toggleable style: style used for estimator/Pipeline/ColumnTransformer box that is\n",
              "clickable and can be expanded/collapsed.\n",
              "- Pipeline and ColumnTransformer use this feature and define the default style\n",
              "- Estimators will overwrite some part of the style using the `sk-estimator` class\n",
              "*/\n",
              "\n",
              "/* Pipeline and ColumnTransformer style (default) */\n",
              "\n",
              "#sk-container-id-4 div.sk-toggleable {\n",
              "  /* Default theme specific background. It is overwritten whether we have a\n",
              "  specific estimator or a Pipeline/ColumnTransformer */\n",
              "  background-color: var(--sklearn-color-background);\n",
              "}\n",
              "\n",
              "/* Toggleable label */\n",
              "#sk-container-id-4 label.sk-toggleable__label {\n",
              "  cursor: pointer;\n",
              "  display: flex;\n",
              "  width: 100%;\n",
              "  margin-bottom: 0;\n",
              "  padding: 0.5em;\n",
              "  box-sizing: border-box;\n",
              "  text-align: center;\n",
              "  align-items: start;\n",
              "  justify-content: space-between;\n",
              "  gap: 0.5em;\n",
              "}\n",
              "\n",
              "#sk-container-id-4 label.sk-toggleable__label .caption {\n",
              "  font-size: 0.6rem;\n",
              "  font-weight: lighter;\n",
              "  color: var(--sklearn-color-text-muted);\n",
              "}\n",
              "\n",
              "#sk-container-id-4 label.sk-toggleable__label-arrow:before {\n",
              "  /* Arrow on the left of the label */\n",
              "  content: \"▸\";\n",
              "  float: left;\n",
              "  margin-right: 0.25em;\n",
              "  color: var(--sklearn-color-icon);\n",
              "}\n",
              "\n",
              "#sk-container-id-4 label.sk-toggleable__label-arrow:hover:before {\n",
              "  color: var(--sklearn-color-text);\n",
              "}\n",
              "\n",
              "/* Toggleable content - dropdown */\n",
              "\n",
              "#sk-container-id-4 div.sk-toggleable__content {\n",
              "  max-height: 0;\n",
              "  max-width: 0;\n",
              "  overflow: hidden;\n",
              "  text-align: left;\n",
              "  /* unfitted */\n",
              "  background-color: var(--sklearn-color-unfitted-level-0);\n",
              "}\n",
              "\n",
              "#sk-container-id-4 div.sk-toggleable__content.fitted {\n",
              "  /* fitted */\n",
              "  background-color: var(--sklearn-color-fitted-level-0);\n",
              "}\n",
              "\n",
              "#sk-container-id-4 div.sk-toggleable__content pre {\n",
              "  margin: 0.2em;\n",
              "  border-radius: 0.25em;\n",
              "  color: var(--sklearn-color-text);\n",
              "  /* unfitted */\n",
              "  background-color: var(--sklearn-color-unfitted-level-0);\n",
              "}\n",
              "\n",
              "#sk-container-id-4 div.sk-toggleable__content.fitted pre {\n",
              "  /* unfitted */\n",
              "  background-color: var(--sklearn-color-fitted-level-0);\n",
              "}\n",
              "\n",
              "#sk-container-id-4 input.sk-toggleable__control:checked~div.sk-toggleable__content {\n",
              "  /* Expand drop-down */\n",
              "  max-height: 200px;\n",
              "  max-width: 100%;\n",
              "  overflow: auto;\n",
              "}\n",
              "\n",
              "#sk-container-id-4 input.sk-toggleable__control:checked~label.sk-toggleable__label-arrow:before {\n",
              "  content: \"▾\";\n",
              "}\n",
              "\n",
              "/* Pipeline/ColumnTransformer-specific style */\n",
              "\n",
              "#sk-container-id-4 div.sk-label input.sk-toggleable__control:checked~label.sk-toggleable__label {\n",
              "  color: var(--sklearn-color-text);\n",
              "  background-color: var(--sklearn-color-unfitted-level-2);\n",
              "}\n",
              "\n",
              "#sk-container-id-4 div.sk-label.fitted input.sk-toggleable__control:checked~label.sk-toggleable__label {\n",
              "  background-color: var(--sklearn-color-fitted-level-2);\n",
              "}\n",
              "\n",
              "/* Estimator-specific style */\n",
              "\n",
              "/* Colorize estimator box */\n",
              "#sk-container-id-4 div.sk-estimator input.sk-toggleable__control:checked~label.sk-toggleable__label {\n",
              "  /* unfitted */\n",
              "  background-color: var(--sklearn-color-unfitted-level-2);\n",
              "}\n",
              "\n",
              "#sk-container-id-4 div.sk-estimator.fitted input.sk-toggleable__control:checked~label.sk-toggleable__label {\n",
              "  /* fitted */\n",
              "  background-color: var(--sklearn-color-fitted-level-2);\n",
              "}\n",
              "\n",
              "#sk-container-id-4 div.sk-label label.sk-toggleable__label,\n",
              "#sk-container-id-4 div.sk-label label {\n",
              "  /* The background is the default theme color */\n",
              "  color: var(--sklearn-color-text-on-default-background);\n",
              "}\n",
              "\n",
              "/* On hover, darken the color of the background */\n",
              "#sk-container-id-4 div.sk-label:hover label.sk-toggleable__label {\n",
              "  color: var(--sklearn-color-text);\n",
              "  background-color: var(--sklearn-color-unfitted-level-2);\n",
              "}\n",
              "\n",
              "/* Label box, darken color on hover, fitted */\n",
              "#sk-container-id-4 div.sk-label.fitted:hover label.sk-toggleable__label.fitted {\n",
              "  color: var(--sklearn-color-text);\n",
              "  background-color: var(--sklearn-color-fitted-level-2);\n",
              "}\n",
              "\n",
              "/* Estimator label */\n",
              "\n",
              "#sk-container-id-4 div.sk-label label {\n",
              "  font-family: monospace;\n",
              "  font-weight: bold;\n",
              "  display: inline-block;\n",
              "  line-height: 1.2em;\n",
              "}\n",
              "\n",
              "#sk-container-id-4 div.sk-label-container {\n",
              "  text-align: center;\n",
              "}\n",
              "\n",
              "/* Estimator-specific */\n",
              "#sk-container-id-4 div.sk-estimator {\n",
              "  font-family: monospace;\n",
              "  border: 1px dotted var(--sklearn-color-border-box);\n",
              "  border-radius: 0.25em;\n",
              "  box-sizing: border-box;\n",
              "  margin-bottom: 0.5em;\n",
              "  /* unfitted */\n",
              "  background-color: var(--sklearn-color-unfitted-level-0);\n",
              "}\n",
              "\n",
              "#sk-container-id-4 div.sk-estimator.fitted {\n",
              "  /* fitted */\n",
              "  background-color: var(--sklearn-color-fitted-level-0);\n",
              "}\n",
              "\n",
              "/* on hover */\n",
              "#sk-container-id-4 div.sk-estimator:hover {\n",
              "  /* unfitted */\n",
              "  background-color: var(--sklearn-color-unfitted-level-2);\n",
              "}\n",
              "\n",
              "#sk-container-id-4 div.sk-estimator.fitted:hover {\n",
              "  /* fitted */\n",
              "  background-color: var(--sklearn-color-fitted-level-2);\n",
              "}\n",
              "\n",
              "/* Specification for estimator info (e.g. \"i\" and \"?\") */\n",
              "\n",
              "/* Common style for \"i\" and \"?\" */\n",
              "\n",
              ".sk-estimator-doc-link,\n",
              "a:link.sk-estimator-doc-link,\n",
              "a:visited.sk-estimator-doc-link {\n",
              "  float: right;\n",
              "  font-size: smaller;\n",
              "  line-height: 1em;\n",
              "  font-family: monospace;\n",
              "  background-color: var(--sklearn-color-background);\n",
              "  border-radius: 1em;\n",
              "  height: 1em;\n",
              "  width: 1em;\n",
              "  text-decoration: none !important;\n",
              "  margin-left: 0.5em;\n",
              "  text-align: center;\n",
              "  /* unfitted */\n",
              "  border: var(--sklearn-color-unfitted-level-1) 1pt solid;\n",
              "  color: var(--sklearn-color-unfitted-level-1);\n",
              "}\n",
              "\n",
              ".sk-estimator-doc-link.fitted,\n",
              "a:link.sk-estimator-doc-link.fitted,\n",
              "a:visited.sk-estimator-doc-link.fitted {\n",
              "  /* fitted */\n",
              "  border: var(--sklearn-color-fitted-level-1) 1pt solid;\n",
              "  color: var(--sklearn-color-fitted-level-1);\n",
              "}\n",
              "\n",
              "/* On hover */\n",
              "div.sk-estimator:hover .sk-estimator-doc-link:hover,\n",
              ".sk-estimator-doc-link:hover,\n",
              "div.sk-label-container:hover .sk-estimator-doc-link:hover,\n",
              ".sk-estimator-doc-link:hover {\n",
              "  /* unfitted */\n",
              "  background-color: var(--sklearn-color-unfitted-level-3);\n",
              "  color: var(--sklearn-color-background);\n",
              "  text-decoration: none;\n",
              "}\n",
              "\n",
              "div.sk-estimator.fitted:hover .sk-estimator-doc-link.fitted:hover,\n",
              ".sk-estimator-doc-link.fitted:hover,\n",
              "div.sk-label-container:hover .sk-estimator-doc-link.fitted:hover,\n",
              ".sk-estimator-doc-link.fitted:hover {\n",
              "  /* fitted */\n",
              "  background-color: var(--sklearn-color-fitted-level-3);\n",
              "  color: var(--sklearn-color-background);\n",
              "  text-decoration: none;\n",
              "}\n",
              "\n",
              "/* Span, style for the box shown on hovering the info icon */\n",
              ".sk-estimator-doc-link span {\n",
              "  display: none;\n",
              "  z-index: 9999;\n",
              "  position: relative;\n",
              "  font-weight: normal;\n",
              "  right: .2ex;\n",
              "  padding: .5ex;\n",
              "  margin: .5ex;\n",
              "  width: min-content;\n",
              "  min-width: 20ex;\n",
              "  max-width: 50ex;\n",
              "  color: var(--sklearn-color-text);\n",
              "  box-shadow: 2pt 2pt 4pt #999;\n",
              "  /* unfitted */\n",
              "  background: var(--sklearn-color-unfitted-level-0);\n",
              "  border: .5pt solid var(--sklearn-color-unfitted-level-3);\n",
              "}\n",
              "\n",
              ".sk-estimator-doc-link.fitted span {\n",
              "  /* fitted */\n",
              "  background: var(--sklearn-color-fitted-level-0);\n",
              "  border: var(--sklearn-color-fitted-level-3);\n",
              "}\n",
              "\n",
              ".sk-estimator-doc-link:hover span {\n",
              "  display: block;\n",
              "}\n",
              "\n",
              "/* \"?\"-specific style due to the `<a>` HTML tag */\n",
              "\n",
              "#sk-container-id-4 a.estimator_doc_link {\n",
              "  float: right;\n",
              "  font-size: 1rem;\n",
              "  line-height: 1em;\n",
              "  font-family: monospace;\n",
              "  background-color: var(--sklearn-color-background);\n",
              "  border-radius: 1rem;\n",
              "  height: 1rem;\n",
              "  width: 1rem;\n",
              "  text-decoration: none;\n",
              "  /* unfitted */\n",
              "  color: var(--sklearn-color-unfitted-level-1);\n",
              "  border: var(--sklearn-color-unfitted-level-1) 1pt solid;\n",
              "}\n",
              "\n",
              "#sk-container-id-4 a.estimator_doc_link.fitted {\n",
              "  /* fitted */\n",
              "  border: var(--sklearn-color-fitted-level-1) 1pt solid;\n",
              "  color: var(--sklearn-color-fitted-level-1);\n",
              "}\n",
              "\n",
              "/* On hover */\n",
              "#sk-container-id-4 a.estimator_doc_link:hover {\n",
              "  /* unfitted */\n",
              "  background-color: var(--sklearn-color-unfitted-level-3);\n",
              "  color: var(--sklearn-color-background);\n",
              "  text-decoration: none;\n",
              "}\n",
              "\n",
              "#sk-container-id-4 a.estimator_doc_link.fitted:hover {\n",
              "  /* fitted */\n",
              "  background-color: var(--sklearn-color-fitted-level-3);\n",
              "}\n",
              "</style><div id=\"sk-container-id-4\" class=\"sk-top-container\"><div class=\"sk-text-repr-fallback\"><pre>LogisticRegression()</pre><b>In a Jupyter environment, please rerun this cell to show the HTML representation or trust the notebook. <br />On GitHub, the HTML representation is unable to render, please try loading this page with nbviewer.org.</b></div><div class=\"sk-container\" hidden><div class=\"sk-item\"><div class=\"sk-estimator fitted sk-toggleable\"><input class=\"sk-toggleable__control sk-hidden--visually\" id=\"sk-estimator-id-4\" type=\"checkbox\" checked><label for=\"sk-estimator-id-4\" class=\"sk-toggleable__label fitted sk-toggleable__label-arrow\"><div><div>LogisticRegression</div></div><div><a class=\"sk-estimator-doc-link fitted\" rel=\"noreferrer\" target=\"_blank\" href=\"https://scikit-learn.org/1.6/modules/generated/sklearn.linear_model.LogisticRegression.html\">?<span>Documentation for LogisticRegression</span></a><span class=\"sk-estimator-doc-link fitted\">i<span>Fitted</span></span></div></label><div class=\"sk-toggleable__content fitted\"><pre>LogisticRegression()</pre></div> </div></div></div></div>"
            ]
          },
          "metadata": {},
          "execution_count": 39
        }
      ]
    },
    {
      "cell_type": "code",
      "source": [
        "# With Scaling:\n",
        "from sklearn.preprocessing import StandardScaler\n",
        "from sklearn.linear_model import LogisticRegression\n",
        "\n",
        "scaler = StandardScaler()\n",
        "X_scaled = scaler.fit_transform([[1, 1000], [2, 3000], [3, 5000]])\n",
        "\n",
        "model = LogisticRegression()\n",
        "model.fit(X_scaled, y)"
      ],
      "metadata": {
        "colab": {
          "base_uri": "https://localhost:8080/",
          "height": 80
        },
        "id": "8El_LElHcPZz",
        "outputId": "3f991bfe-af39-48f2-ec5e-c19f7abfb516"
      },
      "execution_count": 40,
      "outputs": [
        {
          "output_type": "execute_result",
          "data": {
            "text/plain": [
              "LogisticRegression()"
            ],
            "text/html": [
              "<style>#sk-container-id-5 {\n",
              "  /* Definition of color scheme common for light and dark mode */\n",
              "  --sklearn-color-text: #000;\n",
              "  --sklearn-color-text-muted: #666;\n",
              "  --sklearn-color-line: gray;\n",
              "  /* Definition of color scheme for unfitted estimators */\n",
              "  --sklearn-color-unfitted-level-0: #fff5e6;\n",
              "  --sklearn-color-unfitted-level-1: #f6e4d2;\n",
              "  --sklearn-color-unfitted-level-2: #ffe0b3;\n",
              "  --sklearn-color-unfitted-level-3: chocolate;\n",
              "  /* Definition of color scheme for fitted estimators */\n",
              "  --sklearn-color-fitted-level-0: #f0f8ff;\n",
              "  --sklearn-color-fitted-level-1: #d4ebff;\n",
              "  --sklearn-color-fitted-level-2: #b3dbfd;\n",
              "  --sklearn-color-fitted-level-3: cornflowerblue;\n",
              "\n",
              "  /* Specific color for light theme */\n",
              "  --sklearn-color-text-on-default-background: var(--sg-text-color, var(--theme-code-foreground, var(--jp-content-font-color1, black)));\n",
              "  --sklearn-color-background: var(--sg-background-color, var(--theme-background, var(--jp-layout-color0, white)));\n",
              "  --sklearn-color-border-box: var(--sg-text-color, var(--theme-code-foreground, var(--jp-content-font-color1, black)));\n",
              "  --sklearn-color-icon: #696969;\n",
              "\n",
              "  @media (prefers-color-scheme: dark) {\n",
              "    /* Redefinition of color scheme for dark theme */\n",
              "    --sklearn-color-text-on-default-background: var(--sg-text-color, var(--theme-code-foreground, var(--jp-content-font-color1, white)));\n",
              "    --sklearn-color-background: var(--sg-background-color, var(--theme-background, var(--jp-layout-color0, #111)));\n",
              "    --sklearn-color-border-box: var(--sg-text-color, var(--theme-code-foreground, var(--jp-content-font-color1, white)));\n",
              "    --sklearn-color-icon: #878787;\n",
              "  }\n",
              "}\n",
              "\n",
              "#sk-container-id-5 {\n",
              "  color: var(--sklearn-color-text);\n",
              "}\n",
              "\n",
              "#sk-container-id-5 pre {\n",
              "  padding: 0;\n",
              "}\n",
              "\n",
              "#sk-container-id-5 input.sk-hidden--visually {\n",
              "  border: 0;\n",
              "  clip: rect(1px 1px 1px 1px);\n",
              "  clip: rect(1px, 1px, 1px, 1px);\n",
              "  height: 1px;\n",
              "  margin: -1px;\n",
              "  overflow: hidden;\n",
              "  padding: 0;\n",
              "  position: absolute;\n",
              "  width: 1px;\n",
              "}\n",
              "\n",
              "#sk-container-id-5 div.sk-dashed-wrapped {\n",
              "  border: 1px dashed var(--sklearn-color-line);\n",
              "  margin: 0 0.4em 0.5em 0.4em;\n",
              "  box-sizing: border-box;\n",
              "  padding-bottom: 0.4em;\n",
              "  background-color: var(--sklearn-color-background);\n",
              "}\n",
              "\n",
              "#sk-container-id-5 div.sk-container {\n",
              "  /* jupyter's `normalize.less` sets `[hidden] { display: none; }`\n",
              "     but bootstrap.min.css set `[hidden] { display: none !important; }`\n",
              "     so we also need the `!important` here to be able to override the\n",
              "     default hidden behavior on the sphinx rendered scikit-learn.org.\n",
              "     See: https://github.com/scikit-learn/scikit-learn/issues/21755 */\n",
              "  display: inline-block !important;\n",
              "  position: relative;\n",
              "}\n",
              "\n",
              "#sk-container-id-5 div.sk-text-repr-fallback {\n",
              "  display: none;\n",
              "}\n",
              "\n",
              "div.sk-parallel-item,\n",
              "div.sk-serial,\n",
              "div.sk-item {\n",
              "  /* draw centered vertical line to link estimators */\n",
              "  background-image: linear-gradient(var(--sklearn-color-text-on-default-background), var(--sklearn-color-text-on-default-background));\n",
              "  background-size: 2px 100%;\n",
              "  background-repeat: no-repeat;\n",
              "  background-position: center center;\n",
              "}\n",
              "\n",
              "/* Parallel-specific style estimator block */\n",
              "\n",
              "#sk-container-id-5 div.sk-parallel-item::after {\n",
              "  content: \"\";\n",
              "  width: 100%;\n",
              "  border-bottom: 2px solid var(--sklearn-color-text-on-default-background);\n",
              "  flex-grow: 1;\n",
              "}\n",
              "\n",
              "#sk-container-id-5 div.sk-parallel {\n",
              "  display: flex;\n",
              "  align-items: stretch;\n",
              "  justify-content: center;\n",
              "  background-color: var(--sklearn-color-background);\n",
              "  position: relative;\n",
              "}\n",
              "\n",
              "#sk-container-id-5 div.sk-parallel-item {\n",
              "  display: flex;\n",
              "  flex-direction: column;\n",
              "}\n",
              "\n",
              "#sk-container-id-5 div.sk-parallel-item:first-child::after {\n",
              "  align-self: flex-end;\n",
              "  width: 50%;\n",
              "}\n",
              "\n",
              "#sk-container-id-5 div.sk-parallel-item:last-child::after {\n",
              "  align-self: flex-start;\n",
              "  width: 50%;\n",
              "}\n",
              "\n",
              "#sk-container-id-5 div.sk-parallel-item:only-child::after {\n",
              "  width: 0;\n",
              "}\n",
              "\n",
              "/* Serial-specific style estimator block */\n",
              "\n",
              "#sk-container-id-5 div.sk-serial {\n",
              "  display: flex;\n",
              "  flex-direction: column;\n",
              "  align-items: center;\n",
              "  background-color: var(--sklearn-color-background);\n",
              "  padding-right: 1em;\n",
              "  padding-left: 1em;\n",
              "}\n",
              "\n",
              "\n",
              "/* Toggleable style: style used for estimator/Pipeline/ColumnTransformer box that is\n",
              "clickable and can be expanded/collapsed.\n",
              "- Pipeline and ColumnTransformer use this feature and define the default style\n",
              "- Estimators will overwrite some part of the style using the `sk-estimator` class\n",
              "*/\n",
              "\n",
              "/* Pipeline and ColumnTransformer style (default) */\n",
              "\n",
              "#sk-container-id-5 div.sk-toggleable {\n",
              "  /* Default theme specific background. It is overwritten whether we have a\n",
              "  specific estimator or a Pipeline/ColumnTransformer */\n",
              "  background-color: var(--sklearn-color-background);\n",
              "}\n",
              "\n",
              "/* Toggleable label */\n",
              "#sk-container-id-5 label.sk-toggleable__label {\n",
              "  cursor: pointer;\n",
              "  display: flex;\n",
              "  width: 100%;\n",
              "  margin-bottom: 0;\n",
              "  padding: 0.5em;\n",
              "  box-sizing: border-box;\n",
              "  text-align: center;\n",
              "  align-items: start;\n",
              "  justify-content: space-between;\n",
              "  gap: 0.5em;\n",
              "}\n",
              "\n",
              "#sk-container-id-5 label.sk-toggleable__label .caption {\n",
              "  font-size: 0.6rem;\n",
              "  font-weight: lighter;\n",
              "  color: var(--sklearn-color-text-muted);\n",
              "}\n",
              "\n",
              "#sk-container-id-5 label.sk-toggleable__label-arrow:before {\n",
              "  /* Arrow on the left of the label */\n",
              "  content: \"▸\";\n",
              "  float: left;\n",
              "  margin-right: 0.25em;\n",
              "  color: var(--sklearn-color-icon);\n",
              "}\n",
              "\n",
              "#sk-container-id-5 label.sk-toggleable__label-arrow:hover:before {\n",
              "  color: var(--sklearn-color-text);\n",
              "}\n",
              "\n",
              "/* Toggleable content - dropdown */\n",
              "\n",
              "#sk-container-id-5 div.sk-toggleable__content {\n",
              "  max-height: 0;\n",
              "  max-width: 0;\n",
              "  overflow: hidden;\n",
              "  text-align: left;\n",
              "  /* unfitted */\n",
              "  background-color: var(--sklearn-color-unfitted-level-0);\n",
              "}\n",
              "\n",
              "#sk-container-id-5 div.sk-toggleable__content.fitted {\n",
              "  /* fitted */\n",
              "  background-color: var(--sklearn-color-fitted-level-0);\n",
              "}\n",
              "\n",
              "#sk-container-id-5 div.sk-toggleable__content pre {\n",
              "  margin: 0.2em;\n",
              "  border-radius: 0.25em;\n",
              "  color: var(--sklearn-color-text);\n",
              "  /* unfitted */\n",
              "  background-color: var(--sklearn-color-unfitted-level-0);\n",
              "}\n",
              "\n",
              "#sk-container-id-5 div.sk-toggleable__content.fitted pre {\n",
              "  /* unfitted */\n",
              "  background-color: var(--sklearn-color-fitted-level-0);\n",
              "}\n",
              "\n",
              "#sk-container-id-5 input.sk-toggleable__control:checked~div.sk-toggleable__content {\n",
              "  /* Expand drop-down */\n",
              "  max-height: 200px;\n",
              "  max-width: 100%;\n",
              "  overflow: auto;\n",
              "}\n",
              "\n",
              "#sk-container-id-5 input.sk-toggleable__control:checked~label.sk-toggleable__label-arrow:before {\n",
              "  content: \"▾\";\n",
              "}\n",
              "\n",
              "/* Pipeline/ColumnTransformer-specific style */\n",
              "\n",
              "#sk-container-id-5 div.sk-label input.sk-toggleable__control:checked~label.sk-toggleable__label {\n",
              "  color: var(--sklearn-color-text);\n",
              "  background-color: var(--sklearn-color-unfitted-level-2);\n",
              "}\n",
              "\n",
              "#sk-container-id-5 div.sk-label.fitted input.sk-toggleable__control:checked~label.sk-toggleable__label {\n",
              "  background-color: var(--sklearn-color-fitted-level-2);\n",
              "}\n",
              "\n",
              "/* Estimator-specific style */\n",
              "\n",
              "/* Colorize estimator box */\n",
              "#sk-container-id-5 div.sk-estimator input.sk-toggleable__control:checked~label.sk-toggleable__label {\n",
              "  /* unfitted */\n",
              "  background-color: var(--sklearn-color-unfitted-level-2);\n",
              "}\n",
              "\n",
              "#sk-container-id-5 div.sk-estimator.fitted input.sk-toggleable__control:checked~label.sk-toggleable__label {\n",
              "  /* fitted */\n",
              "  background-color: var(--sklearn-color-fitted-level-2);\n",
              "}\n",
              "\n",
              "#sk-container-id-5 div.sk-label label.sk-toggleable__label,\n",
              "#sk-container-id-5 div.sk-label label {\n",
              "  /* The background is the default theme color */\n",
              "  color: var(--sklearn-color-text-on-default-background);\n",
              "}\n",
              "\n",
              "/* On hover, darken the color of the background */\n",
              "#sk-container-id-5 div.sk-label:hover label.sk-toggleable__label {\n",
              "  color: var(--sklearn-color-text);\n",
              "  background-color: var(--sklearn-color-unfitted-level-2);\n",
              "}\n",
              "\n",
              "/* Label box, darken color on hover, fitted */\n",
              "#sk-container-id-5 div.sk-label.fitted:hover label.sk-toggleable__label.fitted {\n",
              "  color: var(--sklearn-color-text);\n",
              "  background-color: var(--sklearn-color-fitted-level-2);\n",
              "}\n",
              "\n",
              "/* Estimator label */\n",
              "\n",
              "#sk-container-id-5 div.sk-label label {\n",
              "  font-family: monospace;\n",
              "  font-weight: bold;\n",
              "  display: inline-block;\n",
              "  line-height: 1.2em;\n",
              "}\n",
              "\n",
              "#sk-container-id-5 div.sk-label-container {\n",
              "  text-align: center;\n",
              "}\n",
              "\n",
              "/* Estimator-specific */\n",
              "#sk-container-id-5 div.sk-estimator {\n",
              "  font-family: monospace;\n",
              "  border: 1px dotted var(--sklearn-color-border-box);\n",
              "  border-radius: 0.25em;\n",
              "  box-sizing: border-box;\n",
              "  margin-bottom: 0.5em;\n",
              "  /* unfitted */\n",
              "  background-color: var(--sklearn-color-unfitted-level-0);\n",
              "}\n",
              "\n",
              "#sk-container-id-5 div.sk-estimator.fitted {\n",
              "  /* fitted */\n",
              "  background-color: var(--sklearn-color-fitted-level-0);\n",
              "}\n",
              "\n",
              "/* on hover */\n",
              "#sk-container-id-5 div.sk-estimator:hover {\n",
              "  /* unfitted */\n",
              "  background-color: var(--sklearn-color-unfitted-level-2);\n",
              "}\n",
              "\n",
              "#sk-container-id-5 div.sk-estimator.fitted:hover {\n",
              "  /* fitted */\n",
              "  background-color: var(--sklearn-color-fitted-level-2);\n",
              "}\n",
              "\n",
              "/* Specification for estimator info (e.g. \"i\" and \"?\") */\n",
              "\n",
              "/* Common style for \"i\" and \"?\" */\n",
              "\n",
              ".sk-estimator-doc-link,\n",
              "a:link.sk-estimator-doc-link,\n",
              "a:visited.sk-estimator-doc-link {\n",
              "  float: right;\n",
              "  font-size: smaller;\n",
              "  line-height: 1em;\n",
              "  font-family: monospace;\n",
              "  background-color: var(--sklearn-color-background);\n",
              "  border-radius: 1em;\n",
              "  height: 1em;\n",
              "  width: 1em;\n",
              "  text-decoration: none !important;\n",
              "  margin-left: 0.5em;\n",
              "  text-align: center;\n",
              "  /* unfitted */\n",
              "  border: var(--sklearn-color-unfitted-level-1) 1pt solid;\n",
              "  color: var(--sklearn-color-unfitted-level-1);\n",
              "}\n",
              "\n",
              ".sk-estimator-doc-link.fitted,\n",
              "a:link.sk-estimator-doc-link.fitted,\n",
              "a:visited.sk-estimator-doc-link.fitted {\n",
              "  /* fitted */\n",
              "  border: var(--sklearn-color-fitted-level-1) 1pt solid;\n",
              "  color: var(--sklearn-color-fitted-level-1);\n",
              "}\n",
              "\n",
              "/* On hover */\n",
              "div.sk-estimator:hover .sk-estimator-doc-link:hover,\n",
              ".sk-estimator-doc-link:hover,\n",
              "div.sk-label-container:hover .sk-estimator-doc-link:hover,\n",
              ".sk-estimator-doc-link:hover {\n",
              "  /* unfitted */\n",
              "  background-color: var(--sklearn-color-unfitted-level-3);\n",
              "  color: var(--sklearn-color-background);\n",
              "  text-decoration: none;\n",
              "}\n",
              "\n",
              "div.sk-estimator.fitted:hover .sk-estimator-doc-link.fitted:hover,\n",
              ".sk-estimator-doc-link.fitted:hover,\n",
              "div.sk-label-container:hover .sk-estimator-doc-link.fitted:hover,\n",
              ".sk-estimator-doc-link.fitted:hover {\n",
              "  /* fitted */\n",
              "  background-color: var(--sklearn-color-fitted-level-3);\n",
              "  color: var(--sklearn-color-background);\n",
              "  text-decoration: none;\n",
              "}\n",
              "\n",
              "/* Span, style for the box shown on hovering the info icon */\n",
              ".sk-estimator-doc-link span {\n",
              "  display: none;\n",
              "  z-index: 9999;\n",
              "  position: relative;\n",
              "  font-weight: normal;\n",
              "  right: .2ex;\n",
              "  padding: .5ex;\n",
              "  margin: .5ex;\n",
              "  width: min-content;\n",
              "  min-width: 20ex;\n",
              "  max-width: 50ex;\n",
              "  color: var(--sklearn-color-text);\n",
              "  box-shadow: 2pt 2pt 4pt #999;\n",
              "  /* unfitted */\n",
              "  background: var(--sklearn-color-unfitted-level-0);\n",
              "  border: .5pt solid var(--sklearn-color-unfitted-level-3);\n",
              "}\n",
              "\n",
              ".sk-estimator-doc-link.fitted span {\n",
              "  /* fitted */\n",
              "  background: var(--sklearn-color-fitted-level-0);\n",
              "  border: var(--sklearn-color-fitted-level-3);\n",
              "}\n",
              "\n",
              ".sk-estimator-doc-link:hover span {\n",
              "  display: block;\n",
              "}\n",
              "\n",
              "/* \"?\"-specific style due to the `<a>` HTML tag */\n",
              "\n",
              "#sk-container-id-5 a.estimator_doc_link {\n",
              "  float: right;\n",
              "  font-size: 1rem;\n",
              "  line-height: 1em;\n",
              "  font-family: monospace;\n",
              "  background-color: var(--sklearn-color-background);\n",
              "  border-radius: 1rem;\n",
              "  height: 1rem;\n",
              "  width: 1rem;\n",
              "  text-decoration: none;\n",
              "  /* unfitted */\n",
              "  color: var(--sklearn-color-unfitted-level-1);\n",
              "  border: var(--sklearn-color-unfitted-level-1) 1pt solid;\n",
              "}\n",
              "\n",
              "#sk-container-id-5 a.estimator_doc_link.fitted {\n",
              "  /* fitted */\n",
              "  border: var(--sklearn-color-fitted-level-1) 1pt solid;\n",
              "  color: var(--sklearn-color-fitted-level-1);\n",
              "}\n",
              "\n",
              "/* On hover */\n",
              "#sk-container-id-5 a.estimator_doc_link:hover {\n",
              "  /* unfitted */\n",
              "  background-color: var(--sklearn-color-unfitted-level-3);\n",
              "  color: var(--sklearn-color-background);\n",
              "  text-decoration: none;\n",
              "}\n",
              "\n",
              "#sk-container-id-5 a.estimator_doc_link.fitted:hover {\n",
              "  /* fitted */\n",
              "  background-color: var(--sklearn-color-fitted-level-3);\n",
              "}\n",
              "</style><div id=\"sk-container-id-5\" class=\"sk-top-container\"><div class=\"sk-text-repr-fallback\"><pre>LogisticRegression()</pre><b>In a Jupyter environment, please rerun this cell to show the HTML representation or trust the notebook. <br />On GitHub, the HTML representation is unable to render, please try loading this page with nbviewer.org.</b></div><div class=\"sk-container\" hidden><div class=\"sk-item\"><div class=\"sk-estimator fitted sk-toggleable\"><input class=\"sk-toggleable__control sk-hidden--visually\" id=\"sk-estimator-id-5\" type=\"checkbox\" checked><label for=\"sk-estimator-id-5\" class=\"sk-toggleable__label fitted sk-toggleable__label-arrow\"><div><div>LogisticRegression</div></div><div><a class=\"sk-estimator-doc-link fitted\" rel=\"noreferrer\" target=\"_blank\" href=\"https://scikit-learn.org/1.6/modules/generated/sklearn.linear_model.LogisticRegression.html\">?<span>Documentation for LogisticRegression</span></a><span class=\"sk-estimator-doc-link fitted\">i<span>Fitted</span></span></div></label><div class=\"sk-toggleable__content fitted\"><pre>LogisticRegression()</pre></div> </div></div></div></div>"
            ]
          },
          "metadata": {},
          "execution_count": 40
        }
      ]
    },
    {
      "cell_type": "markdown",
      "source": [
        "***Feature scaling ensures that all features have the same influence on the model, improves convergence, and boosts performance for certain algorithms. Choosing the appropriate scaling method depends on the dataset and the algorithm being used.***"
      ],
      "metadata": {
        "id": "qItGJTW3cY37"
      }
    },
    {
      "cell_type": "markdown",
      "source": [
        "# Q.22 How do we perform scaling in Python?"
      ],
      "metadata": {
        "id": "Lsrl4YFDcjZw"
      }
    },
    {
      "cell_type": "markdown",
      "source": [
        "In Python, feature scaling can be performed using the scikit-learn library."
      ],
      "metadata": {
        "id": "f8BJ_6DCcoAL"
      }
    },
    {
      "cell_type": "code",
      "source": [
        "from sklearn.preprocessing import MinMaxScaler, StandardScaler, RobustScaler, MaxAbsScaler\n"
      ],
      "metadata": {
        "id": "zA3-bAMddFqA"
      },
      "execution_count": 41,
      "outputs": []
    },
    {
      "cell_type": "code",
      "source": [
        "import numpy as np\n",
        "X = np.array([[1, 100], [2, 200], [3, 300], [4, 400]])"
      ],
      "metadata": {
        "id": "wuqdP3TwdKMb"
      },
      "execution_count": 42,
      "outputs": []
    },
    {
      "cell_type": "code",
      "source": [
        "# using Min-Max Scaling (Normalization)\n",
        "# Scales values to a range of [0,1] (or  a custom range)\n",
        "scaler = MinMaxScaler()\n",
        "X_scaled = scaler.fit_transform(X)\n",
        "\n",
        "print(\"Min-Max Scaled Data:\")\n",
        "print(X_scaled)"
      ],
      "metadata": {
        "colab": {
          "base_uri": "https://localhost:8080/"
        },
        "id": "MfA62cbddPZ7",
        "outputId": "8225edf0-b7b2-464e-b237-a6823ab09a4d"
      },
      "execution_count": 47,
      "outputs": [
        {
          "output_type": "stream",
          "name": "stdout",
          "text": [
            "Min-Max Scaled Data:\n",
            "[[0.         0.        ]\n",
            " [0.33333333 0.33333333]\n",
            " [0.66666667 0.66666667]\n",
            " [1.         1.        ]]\n"
          ]
        }
      ]
    },
    {
      "cell_type": "code",
      "source": [
        "# using  Standardization (Z-Score Scaling)\n",
        "# Scales data to have a mean of 0 and a standard deviation of 1.\n",
        "scaler = StandardScaler()\n",
        "X_scaled = scaler.fit_transform(X)\n",
        "\n",
        "print(\"Standardized Data:\")\n",
        "print(X_scaled)"
      ],
      "metadata": {
        "colab": {
          "base_uri": "https://localhost:8080/"
        },
        "id": "oxHFFaoLdX4T",
        "outputId": "853bc2c1-328c-4ce4-9346-e009d0ab5ff7"
      },
      "execution_count": 46,
      "outputs": [
        {
          "output_type": "stream",
          "name": "stdout",
          "text": [
            "Standardized Data:\n",
            "[[-1.34164079 -1.34164079]\n",
            " [-0.4472136  -0.4472136 ]\n",
            " [ 0.4472136   0.4472136 ]\n",
            " [ 1.34164079  1.34164079]]\n"
          ]
        }
      ]
    },
    {
      "cell_type": "code",
      "source": [
        "# c. Robust Scaling\n",
        "# Uses the median and interquartile range (IQR), making it robust to outliers.\n",
        "scaler = RobustScaler()\n",
        "X_scaled = scaler.fit_transform(X)\n",
        "\n",
        "print(\"Robust Scaled Data:\")\n",
        "print(X_scaled)"
      ],
      "metadata": {
        "colab": {
          "base_uri": "https://localhost:8080/"
        },
        "id": "jNj6AuRYdouj",
        "outputId": "7f486497-007e-469f-f830-244ce99038a1"
      },
      "execution_count": 45,
      "outputs": [
        {
          "output_type": "stream",
          "name": "stdout",
          "text": [
            "Robust Scaled Data:\n",
            "[[-1.         -1.        ]\n",
            " [-0.33333333 -0.33333333]\n",
            " [ 0.33333333  0.33333333]\n",
            " [ 1.          1.        ]]\n"
          ]
        }
      ]
    },
    {
      "cell_type": "code",
      "source": [
        "# MaxAbs Scaling\n",
        "# Scales data to the range[-1,1] based on the maximum absolute value.\n",
        "scaler = MaxAbsScaler()\n",
        "X_scaled = scaler.fit_transform(X)\n",
        "\n",
        "print(\"MaxAbs Scaled Data:\")\n",
        "print(X_scaled)"
      ],
      "metadata": {
        "colab": {
          "base_uri": "https://localhost:8080/"
        },
        "id": "x1PYdulzdxM7",
        "outputId": "3b5060fe-e71d-4d0a-ebe7-bbf976c164f4"
      },
      "execution_count": 48,
      "outputs": [
        {
          "output_type": "stream",
          "name": "stdout",
          "text": [
            "MaxAbs Scaled Data:\n",
            "[[0.25 0.25]\n",
            " [0.5  0.5 ]\n",
            " [0.75 0.75]\n",
            " [1.   1.  ]]\n"
          ]
        }
      ]
    },
    {
      "cell_type": "code",
      "source": [
        "# Example for a Real Dataset\n",
        "from sklearn.datasets import load_iris\n",
        "from sklearn.model_selection import train_test_split\n",
        "\n",
        "data = load_iris()\n",
        "X = data.data\n",
        "\n",
        "X_train, X_test = train_test_split(X, test_size=0.2, random_state=42)\n",
        "\n",
        "scaler = StandardScaler()\n",
        "X_train_scaled = scaler.fit_transform(X_train)\n",
        "X_test_scaled = scaler.transform(X_test)\n",
        "\n",
        "print(\"Original Data:\")\n",
        "print(X[:5])\n",
        "print(\"Scaled Training Data:\")\n",
        "print(X_train_scaled[:5])"
      ],
      "metadata": {
        "colab": {
          "base_uri": "https://localhost:8080/"
        },
        "id": "YP304eRGeMCS",
        "outputId": "a2750c5b-0538-47a3-e325-31576e23b070"
      },
      "execution_count": 49,
      "outputs": [
        {
          "output_type": "stream",
          "name": "stdout",
          "text": [
            "Original Data:\n",
            "[[5.1 3.5 1.4 0.2]\n",
            " [4.9 3.  1.4 0.2]\n",
            " [4.7 3.2 1.3 0.2]\n",
            " [4.6 3.1 1.5 0.2]\n",
            " [5.  3.6 1.4 0.2]]\n",
            "Scaled Training Data:\n",
            "[[-1.47393679  1.20365799 -1.56253475 -1.31260282]\n",
            " [-0.13307079  2.99237573 -1.27600637 -1.04563275]\n",
            " [ 1.08589829  0.08570939  0.38585821  0.28921757]\n",
            " [-1.23014297  0.75647855 -1.2187007  -1.31260282]\n",
            " [-1.7177306   0.30929911 -1.39061772 -1.31260282]]\n"
          ]
        }
      ]
    },
    {
      "cell_type": "markdown",
      "source": [
        "# Q.23 What is sklearn.preprocessing?"
      ],
      "metadata": {
        "id": "3OhykhSGee_q"
      }
    },
    {
      "cell_type": "markdown",
      "source": [
        "sklearn.preprocessing is a module in the scikit-learn library in Python, designed for data preprocessing and feature engineering. It provides various methods and tools to prepare raw data for machine learning models by scaling, normalizing, encoding, and transforming features.\n",
        "\n",
        "\n",
        "## Key Features of sklearn.preprocessing:\n",
        "\n",
        "  1.Scaling and Normalization:\n",
        "\n",
        "  - Ensures features are scaled appropriately for machine learning algorithms sensitive to feature magnitudes.\n",
        "  \n",
        "  - Examples: Min-Max Scaling, Standardization (Z-Score), and MaxAbs Scaling.\n",
        "  2.Encoding Categorical Variables:\n",
        "\n",
        "  - Handles categorical data by converting categories into numeric formats suitable for machine learning.\n",
        "  \n",
        "  - Examples: OneHotEncoder, LabelEncoder.\n",
        "\n",
        "3.Binarization:\n",
        "\n",
        "  - Converts data into binary format (0s and 1s) based on a threshold.\n",
        "\n",
        "  - Useful for creating binary features.\n",
        "\n",
        "4.Polynomial Feature Generation:\n",
        "\n",
        "  - Expands features to include interactions and higher-order terms for polynomial regression.\n",
        "\n",
        "5.Data Normalization:\n",
        "  - Converts feature vectors into unit norm (useful for text data and clustering)."
      ],
      "metadata": {
        "id": "w5wJcJA1envr"
      }
    },
    {
      "cell_type": "markdown",
      "source": [
        "# Q.24 How do we split data for model fitting (training and testing) in Python?"
      ],
      "metadata": {
        "id": "K2mEnSugfj1a"
      }
    },
    {
      "cell_type": "markdown",
      "source": [
        "In Python, splitting data into training and testing sets is a common practice to evaluate the performance of machine learning models. The training set is used to train the model, while the testing set evaluates its performance on unseen data. This is often done using the train_test_split function from the sklearn.model_selection module."
      ],
      "metadata": {
        "id": "yzMAk--sf6vI"
      }
    },
    {
      "cell_type": "markdown",
      "source": [
        "Steps to Split Data for Model Fitting\n",
        "\n",
        "  1.Import Required Libraries\n",
        "\n",
        "  - Use the train_test_split function from sklearn.model_selection.\n",
        "\n",
        "2.Prepare Your Dataset\n",
        "\n",
        "  - Separate the dataset into features (X) and target/labels (y).\n",
        "\n",
        "3.Use train_test_split\n",
        "\n",
        "  - Specify the test size (fraction of data to be used for testing) and optionally a random seed for reproducibility.\n",
        "\n",
        "4.Fit the Model\n",
        "\n",
        "  - Train the model using the training data (X_train, y_train) and evaluate it on the testing data (X_test, y_test).\n",
        "\n",
        "\n",
        "  Lets see an example:\n",
        "  "
      ],
      "metadata": {
        "id": "aNWs5O2cf-jG"
      }
    },
    {
      "cell_type": "code",
      "source": [
        "from sklearn.model_selection import train_test_split\n",
        "import numpy as np\n",
        "\n",
        "X = np.array([[1, 2], [3, 4], [5, 6], [7, 8], [9, 10]])\n",
        "y = np.array([0, 1, 0, 1, 0])\n",
        "\n",
        "X_train, X_test, y_train, y_test = train_test_split(\n",
        "    X, y, test_size=0.4, random_state=42\n",
        ")\n",
        "\n",
        "print(\"X_train:\", X_train)\n",
        "print(\"X_test:\", X_test)\n",
        "print(\"y_train:\", y_train)\n",
        "print(\"y_test:\", y_test)"
      ],
      "metadata": {
        "colab": {
          "base_uri": "https://localhost:8080/"
        },
        "id": "HLjZRERVgYfp",
        "outputId": "fdb23f67-1cfc-4e16-b835-3fe2ecd817d1"
      },
      "execution_count": 50,
      "outputs": [
        {
          "output_type": "stream",
          "name": "stdout",
          "text": [
            "X_train: [[5 6]\n",
            " [1 2]\n",
            " [7 8]]\n",
            "X_test: [[ 3  4]\n",
            " [ 9 10]]\n",
            "y_train: [0 0 1]\n",
            "y_test: [1 0]\n"
          ]
        }
      ]
    },
    {
      "cell_type": "markdown",
      "source": [
        "# Q.25 Explain data encoding?"
      ],
      "metadata": {
        "id": "1nWZ0UtTgdBK"
      }
    },
    {
      "cell_type": "markdown",
      "source": [
        "Data encoding is the process of converting categorical variables (non-numeric data) into a format that can be used in machine learning algorithms. Most algorithms require numerical input, so encoding transforms categories or labels into numerical values without altering their meaning or relationships."
      ],
      "metadata": {
        "id": "jxeaO4YEgrwq"
      }
    },
    {
      "cell_type": "markdown",
      "source": [
        "1. Label Encoding\n",
        "  - Use Case: Converts each unique category into a numerical label.\n",
        "  - Example: Categories: ['Red', 'Green', 'Blue']"
      ],
      "metadata": {
        "id": "fEqu9BKOgtgf"
      }
    },
    {
      "cell_type": "code",
      "source": [
        "from sklearn.preprocessing import LabelEncoder\n",
        "\n",
        "categories = ['Red', 'Green', 'Blue', 'Green', 'Red']\n",
        "\n",
        "encoder = LabelEncoder()\n",
        "encoded_labels = encoder.fit_transform(categories)\n",
        "\n",
        "print(\"Original Categories:\", categories)\n",
        "print(\"Encoded Labels:\", encoded_labels)"
      ],
      "metadata": {
        "colab": {
          "base_uri": "https://localhost:8080/"
        },
        "id": "A1nGIf8ChBRn",
        "outputId": "8dd1c53a-2b62-4798-ae9f-d5934c675b57"
      },
      "execution_count": 51,
      "outputs": [
        {
          "output_type": "stream",
          "name": "stdout",
          "text": [
            "Original Categories: ['Red', 'Green', 'Blue', 'Green', 'Red']\n",
            "Encoded Labels: [2 1 0 1 2]\n"
          ]
        }
      ]
    },
    {
      "cell_type": "markdown",
      "source": [
        "2. One-Hot Encoding\n",
        "  - Use Case: Converts categories into binary vectors.\n",
        "  - Example: Categories: ['Red', 'Green', 'Blue']\n",
        "  "
      ],
      "metadata": {
        "id": "2twjM8SjhNZR"
      }
    },
    {
      "cell_type": "code",
      "source": [
        "from sklearn.preprocessing import OneHotEncoder\n",
        "import numpy as np\n",
        "\n",
        "categories = np.array(['Red', 'Green', 'Blue', 'Green']).reshape(-1, 1)\n",
        "\n",
        "encoder = OneHotEncoder(sparse_output=False)\n",
        "one_hot_encoded = encoder.fit_transform(categories)\n",
        "\n",
        "print(\"One-Hot Encoded Data:\")\n",
        "print(one_hot_encoded)"
      ],
      "metadata": {
        "colab": {
          "base_uri": "https://localhost:8080/"
        },
        "id": "bg5Yu-3ehaUY",
        "outputId": "7f36db1d-c91b-4f64-f4ac-ffbd12b30335"
      },
      "execution_count": 53,
      "outputs": [
        {
          "output_type": "stream",
          "name": "stdout",
          "text": [
            "One-Hot Encoded Data:\n",
            "[[0. 0. 1.]\n",
            " [0. 1. 0.]\n",
            " [1. 0. 0.]\n",
            " [0. 1. 0.]]\n"
          ]
        }
      ]
    },
    {
      "cell_type": "markdown",
      "source": [
        "3. Ordinal Encoding\n",
        "  - Use Case: Assigns ordered integer values to categories.\n",
        "  - Example: Categories: ['Low', 'Medium', 'High']"
      ],
      "metadata": {
        "id": "K6qXGR4nhdlB"
      }
    },
    {
      "cell_type": "code",
      "source": [
        "from sklearn.preprocessing import OrdinalEncoder\n",
        "\n",
        "categories = [['Low'], ['Medium'], ['High'], ['Medium']]\n",
        "\n",
        "encoder = OrdinalEncoder(categories=[['Low', 'Medium', 'High']])\n",
        "ordinal_encoded = encoder.fit_transform(categories)\n",
        "\n",
        "print(\"Ordinal Encoded Data:\")\n",
        "print(ordinal_encoded)"
      ],
      "metadata": {
        "colab": {
          "base_uri": "https://localhost:8080/"
        },
        "id": "M_WWxW4aiK9A",
        "outputId": "a5f7cf0b-c63a-4f9f-c3ea-d68d4577f65f"
      },
      "execution_count": 54,
      "outputs": [
        {
          "output_type": "stream",
          "name": "stdout",
          "text": [
            "Ordinal Encoded Data:\n",
            "[[0.]\n",
            " [1.]\n",
            " [2.]\n",
            " [1.]]\n"
          ]
        }
      ]
    },
    {
      "cell_type": "markdown",
      "source": [
        "4. Binary Encoding\n",
        "\n",
        "  - Use Case: Reduces dimensionality for high-cardinality data by encoding values in binary.\n",
        "  - Example: Categories: ['A', 'B', 'C']"
      ],
      "metadata": {
        "id": "ACule9yRiPRQ"
      }
    },
    {
      "cell_type": "code",
      "source": [
        "import category_encoders as ce\n",
        "\n",
        "categories = ['A', 'B', 'C', 'A']\n",
        "\n",
        "encoder = ce.BinaryEncoder()\n",
        "binary_encoded = encoder.fit_transform(categories)\n",
        "\n",
        "print(\"Binary Encoded Data:\")\n",
        "print(binary_encoded)"
      ],
      "metadata": {
        "colab": {
          "base_uri": "https://localhost:8080/"
        },
        "id": "200veesFiWoo",
        "outputId": "7349a34f-bd05-433e-e485-1d75ed8db27c"
      },
      "execution_count": 55,
      "outputs": [
        {
          "output_type": "stream",
          "name": "stdout",
          "text": [
            "Binary Encoded Data:\n",
            "   0_0  0_1\n",
            "0    0    1\n",
            "1    1    0\n",
            "2    1    1\n",
            "3    0    1\n"
          ]
        },
        {
          "output_type": "stream",
          "name": "stderr",
          "text": [
            "/usr/local/lib/python3.10/dist-packages/sklearn/base.py:411: FutureWarning: The `_get_tags` method is deprecated in 1.6 and will be removed in 1.7. Please implement the `__sklearn_tags__` method.\n",
            "  warnings.warn(\n",
            "/usr/local/lib/python3.10/dist-packages/sklearn/base.py:411: FutureWarning: The `_get_tags` method is deprecated in 1.6 and will be removed in 1.7. Please implement the `__sklearn_tags__` method.\n",
            "  warnings.warn(\n"
          ]
        }
      ]
    },
    {
      "cell_type": "markdown",
      "source": [
        "5. Frequency Encoding\n",
        "\n",
        "  - Use Case: Encodes categories based on their frequency in the dataset.\n",
        "  - Example: Categories: ['Red', 'Red', 'Green', 'Blue']"
      ],
      "metadata": {
        "id": "SKO3C0lYibog"
      }
    },
    {
      "cell_type": "code",
      "source": [
        "import pandas as pd\n",
        "\n",
        "data = pd.DataFrame({'Color': ['Red', 'Red', 'Green', 'Blue', 'Red']})\n",
        "\n",
        "frequency = data['Color'].value_counts().to_dict()\n",
        "data['Frequency_Encoded'] = data['Color'].map(frequency)\n",
        "\n",
        "print(data)"
      ],
      "metadata": {
        "colab": {
          "base_uri": "https://localhost:8080/"
        },
        "id": "mjCYdeGrij9A",
        "outputId": "874a8b79-2c24-4620-fd26-409521304e01"
      },
      "execution_count": 56,
      "outputs": [
        {
          "output_type": "stream",
          "name": "stdout",
          "text": [
            "   Color  Frequency_Encoded\n",
            "0    Red                  3\n",
            "1    Red                  3\n",
            "2  Green                  1\n",
            "3   Blue                  1\n",
            "4    Red                  3\n"
          ]
        }
      ]
    },
    {
      "cell_type": "markdown",
      "source": [
        "6. Target Encoding\n",
        "  - Use Case: Replaces categories with the mean of the target variable.\n",
        "  - Example: Categories: ['Red', 'Green', 'Blue'], Target: [1, 0, 1, 1]"
      ],
      "metadata": {
        "id": "WeGbwtU3ipaA"
      }
    },
    {
      "cell_type": "code",
      "source": [
        "import pandas as pd\n",
        "\n",
        "data = pd.DataFrame({\n",
        "    'Color': ['Red', 'Green', 'Blue', 'Red'],\n",
        "    'Target': [1, 0, 1, 1]\n",
        "})\n",
        "\n",
        "target_mean = data.groupby('Color')['Target'].mean()\n",
        "data['Target_Encoded'] = data['Color'].map(target_mean)\n",
        "\n",
        "print(data)"
      ],
      "metadata": {
        "colab": {
          "base_uri": "https://localhost:8080/"
        },
        "id": "vzsaiu_UiwfX",
        "outputId": "f7d42ea3-ce03-4c40-c7de-7c032f975423"
      },
      "execution_count": 57,
      "outputs": [
        {
          "output_type": "stream",
          "name": "stdout",
          "text": [
            "   Color  Target  Target_Encoded\n",
            "0    Red       1             1.0\n",
            "1  Green       0             0.0\n",
            "2   Blue       1             1.0\n",
            "3    Red       1             1.0\n"
          ]
        }
      ]
    },
    {
      "cell_type": "code",
      "source": [],
      "metadata": {
        "id": "8rFQO4ebi3fu"
      },
      "execution_count": null,
      "outputs": []
    }
  ]
}